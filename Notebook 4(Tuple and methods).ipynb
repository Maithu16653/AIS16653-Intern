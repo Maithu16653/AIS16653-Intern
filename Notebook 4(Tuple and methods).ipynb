{
 "cells": [
  {
   "cell_type": "code",
   "execution_count": null,
   "id": "c293a30b",
   "metadata": {},
   "outputs": [],
   "source": [
    "#Tuple\n",
    "#a)Tuples are multiple Value in a single Variables.\n",
    "#b)Tuples are Collection which is orderd \n",
    "#c)It unchangable allow dublicates.\n",
    "#c) written in ()."
   ]
  },
  {
   "cell_type": "code",
   "execution_count": 3,
   "id": "52c040fe",
   "metadata": {},
   "outputs": [
    {
     "name": "stdout",
     "output_type": "stream",
     "text": [
      "('Banana', 'Mango', 'Apple')\n"
     ]
    }
   ],
   "source": [
    "x=('Banana','Mango','Apple') #orderwise \n",
    "print(x)"
   ]
  },
  {
   "cell_type": "code",
   "execution_count": 4,
   "id": "c895e6c0",
   "metadata": {},
   "outputs": [
    {
     "name": "stdout",
     "output_type": "stream",
     "text": [
      "('Banana', 'Mango', 'Apple', 'Banana')\n"
     ]
    }
   ],
   "source": [
    "x=('Banana','Mango','Apple','Banana' ) #Dublicate Value and its uncangable\n",
    "print(x)"
   ]
  },
  {
   "cell_type": "code",
   "execution_count": 5,
   "id": "065f8d7f",
   "metadata": {},
   "outputs": [
    {
     "name": "stdout",
     "output_type": "stream",
     "text": [
      "4\n"
     ]
    }
   ],
   "source": [
    "x=('Banana','Mango','Cheryy','Apple') # Length of items\n",
    "print(len(x))"
   ]
  },
  {
   "cell_type": "code",
   "execution_count": 6,
   "id": "8d1646c8",
   "metadata": {},
   "outputs": [
    {
     "name": "stdout",
     "output_type": "stream",
     "text": [
      "<class 'str'>\n"
     ]
    }
   ],
   "source": [
    "x=('Apple') #Type of tuple\n",
    "print(type(x))"
   ]
  },
  {
   "cell_type": "code",
   "execution_count": 7,
   "id": "e7d62805",
   "metadata": {},
   "outputs": [
    {
     "name": "stdout",
     "output_type": "stream",
     "text": [
      "Mango\n"
     ]
    }
   ],
   "source": [
    "x=('Banana','Mango','Cheryy') #Access Tuple items by index\n",
    "print(x[1])"
   ]
  },
  {
   "cell_type": "code",
   "execution_count": 8,
   "id": "65b55652",
   "metadata": {},
   "outputs": [
    {
     "name": "stdout",
     "output_type": "stream",
     "text": [
      "Cheryy\n"
     ]
    }
   ],
   "source": [
    "x=('Banana','Mango','Cheryy')  #Negative index\n",
    "print(x[-1])"
   ]
  },
  {
   "cell_type": "code",
   "execution_count": 9,
   "id": "3b5f0526",
   "metadata": {},
   "outputs": [
    {
     "name": "stdout",
     "output_type": "stream",
     "text": [
      "('Mango', 'cherry', 'Grapes')\n"
     ]
    }
   ],
   "source": [
    "x=('Apple', 'Banana', 'Mango', 'cherry', 'Grapes', 'banana') #Range of index\n",
    "print(x[2:5])"
   ]
  },
  {
   "cell_type": "code",
   "execution_count": 10,
   "id": "e3b1c404",
   "metadata": {},
   "outputs": [
    {
     "name": "stdout",
     "output_type": "stream",
     "text": [
      "yes\n",
      "yes\n",
      "yes\n",
      "yes\n",
      "yes\n",
      "yes\n"
     ]
    }
   ],
   "source": [
    "x=('Apple', 'Banana', 'Mango', 'cherry', 'Grapes', 'banana') #Check item is present\n",
    "for i in x:\n",
    "    if'cherry' in x:\n",
    "        print('yes')\n",
    "    "
   ]
  },
  {
   "cell_type": "code",
   "execution_count": 11,
   "id": "cd86876d",
   "metadata": {},
   "outputs": [
    {
     "name": "stdout",
     "output_type": "stream",
     "text": [
      "cherry\n"
     ]
    }
   ],
   "source": [
    "x=('Apple', 'Banana', 'Mango', 'cherry', 'Grapes', 'banana') #Check item is present\n",
    "print(x[3])"
   ]
  },
  {
   "cell_type": "code",
   "execution_count": 12,
   "id": "bb0a2020",
   "metadata": {},
   "outputs": [
    {
     "name": "stdout",
     "output_type": "stream",
     "text": [
      "['Apple', 'Kiwi', 'Mango', 'cherry', 'Grapes', 'banana']\n"
     ]
    }
   ],
   "source": [
    "x=('Apple', 'Banana', 'Mango', 'cherry', 'Grapes', 'banana')# change the tuple value\n",
    "y=list(x)\n",
    "y[1]='Kiwi'\n",
    "print(y)"
   ]
  }
 ],
 "metadata": {
  "kernelspec": {
   "display_name": "Python 3 (ipykernel)",
   "language": "python",
   "name": "python3"
  },
  "language_info": {
   "codemirror_mode": {
    "name": "ipython",
    "version": 3
   },
   "file_extension": ".py",
   "mimetype": "text/x-python",
   "name": "python",
   "nbconvert_exporter": "python",
   "pygments_lexer": "ipython3",
   "version": "3.11.7"
  }
 },
 "nbformat": 4,
 "nbformat_minor": 5
}
