{
 "cells": [
  {
   "cell_type": "code",
   "execution_count": 3,
   "id": "40a0895c",
   "metadata": {},
   "outputs": [],
   "source": [
    "#string variable can be declared either by using single or double quote\n",
    "x=\"maithili\"  #double quote\n",
    "x='maithili'  #single quote"
   ]
  },
  {
   "cell_type": "code",
   "execution_count": 14,
   "id": "d43770f0",
   "metadata": {},
   "outputs": [
    {
     "data": {
      "text/plain": [
       "'maithili'"
      ]
     },
     "execution_count": 14,
     "metadata": {},
     "output_type": "execute_result"
    }
   ],
   "source": [
    "myName=\"maithili\"  #variable name must start with letter\n",
    "myName"
   ]
  },
  {
   "cell_type": "code",
   "execution_count": 6,
   "id": "fcd01272",
   "metadata": {},
   "outputs": [
    {
     "data": {
      "text/plain": [
       "'Maithili'"
      ]
     },
     "execution_count": 6,
     "metadata": {},
     "output_type": "execute_result"
    }
   ],
   "source": [
    "MYNAME=\"Maithili\"\n",
    "MYNAME"
   ]
  },
  {
   "cell_type": "code",
   "execution_count": 7,
   "id": "f8c75c9c",
   "metadata": {},
   "outputs": [
    {
     "data": {
      "text/plain": [
       "5"
      ]
     },
     "execution_count": 7,
     "metadata": {},
     "output_type": "execute_result"
    }
   ],
   "source": [
    "_var= 5   #variable name must start underscore character(_)\n",
    "_var"
   ]
  },
  {
   "cell_type": "code",
   "execution_count": 12,
   "id": "386764fd",
   "metadata": {},
   "outputs": [
    {
     "ename": "SyntaxError",
     "evalue": "invalid decimal literal (984237311.py, line 1)",
     "output_type": "error",
     "traceback": [
      "\u001b[1;36m  Cell \u001b[1;32mIn[12], line 1\u001b[1;36m\u001b[0m\n\u001b[1;33m    2_Name=\"Hello\"  #variable name cannot start with an numbers\u001b[0m\n\u001b[1;37m     ^\u001b[0m\n\u001b[1;31mSyntaxError\u001b[0m\u001b[1;31m:\u001b[0m invalid decimal literal\n"
     ]
    }
   ],
   "source": [
    "2_Name=\"Hello\"  #variable name cannot start with an numbers\n",
    "2_Name"
   ]
  },
  {
   "cell_type": "code",
   "execution_count": 8,
   "id": "10fa6f00",
   "metadata": {},
   "outputs": [
    {
     "data": {
      "text/plain": [
       "'Hello'"
      ]
     },
     "execution_count": 8,
     "metadata": {},
     "output_type": "execute_result"
    }
   ],
   "source": [
    "var_2='Hello' # Variable name can only contain alpha_numneric characters and underscore\n",
    "var_2"
   ]
  },
  {
   "cell_type": "code",
   "execution_count": 9,
   "id": "a9494a1b",
   "metadata": {},
   "outputs": [
    {
     "data": {
      "text/plain": [
       "'Hello'"
      ]
     },
     "execution_count": 9,
     "metadata": {},
     "output_type": "execute_result"
    }
   ],
   "source": [
    "myName_2='Hello'\n",
    "myName_2"
   ]
  },
  {
   "cell_type": "code",
   "execution_count": 10,
   "id": "abb01726",
   "metadata": {},
   "outputs": [
    {
     "ename": "NameError",
     "evalue": "name 'hello' is not defined",
     "output_type": "error",
     "traceback": [
      "\u001b[1;31m---------------------------------------------------------------------------\u001b[0m",
      "\u001b[1;31mNameError\u001b[0m                                 Traceback (most recent call last)",
      "Cell \u001b[1;32mIn[10], line 2\u001b[0m\n\u001b[0;32m      1\u001b[0m Hello\u001b[38;5;241m=\u001b[39m\u001b[38;5;124m\"\u001b[39m\u001b[38;5;124mMaithili\u001b[39m\u001b[38;5;124m\"\u001b[39m  \u001b[38;5;66;03m# A variable names are case-senstive\u001b[39;00m\n\u001b[1;32m----> 2\u001b[0m hello\n",
      "\u001b[1;31mNameError\u001b[0m: name 'hello' is not defined"
     ]
    }
   ],
   "source": [
    "Hello=\"Maithili\"  # A variable names are case-senstive\n",
    "hello"
   ]
  },
  {
   "cell_type": "code",
   "execution_count": 11,
   "id": "2bd58c12",
   "metadata": {},
   "outputs": [
    {
     "ename": "SyntaxError",
     "evalue": "invalid syntax (3398065514.py, line 1)",
     "output_type": "error",
     "traceback": [
      "\u001b[1;36m  Cell \u001b[1;32mIn[11], line 1\u001b[1;36m\u001b[0m\n\u001b[1;33m    My name =\"Maithili\"   # we cannot give a space between variables\u001b[0m\n\u001b[1;37m       ^\u001b[0m\n\u001b[1;31mSyntaxError\u001b[0m\u001b[1;31m:\u001b[0m invalid syntax\n"
     ]
    }
   ],
   "source": [
    "My name =\"Maithili\"   # we cannot give a space between variables\n",
    "My name"
   ]
  },
  {
   "cell_type": "code",
   "execution_count": 13,
   "id": "de13356a",
   "metadata": {},
   "outputs": [
    {
     "data": {
      "text/plain": [
       "'C'"
      ]
     },
     "execution_count": 13,
     "metadata": {},
     "output_type": "execute_result"
    }
   ],
   "source": [
    "x,y,z='A','B','C'  #We can assign a multiple values to a multiple variables\n",
    "x\n",
    "y\n",
    "z"
   ]
  }
 ],
 "metadata": {
  "kernelspec": {
   "display_name": "Python 3 (ipykernel)",
   "language": "python",
   "name": "python3"
  },
  "language_info": {
   "codemirror_mode": {
    "name": "ipython",
    "version": 3
   },
   "file_extension": ".py",
   "mimetype": "text/x-python",
   "name": "python",
   "nbconvert_exporter": "python",
   "pygments_lexer": "ipython3",
   "version": "3.11.7"
  }
 },
 "nbformat": 4,
 "nbformat_minor": 5
}
