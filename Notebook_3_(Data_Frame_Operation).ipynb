{
  "cells": [
    {
      "cell_type": "markdown",
      "source": [
        "**Data Frame Operation:**"
      ],
      "metadata": {
        "id": "HQWj3enH_iz5"
      },
      "id": "HQWj3enH_iz5"
    },
    {
      "cell_type": "code",
      "execution_count": 1,
      "id": "0fcabd9b-3822-4fe8-ac5f-b2082bd78a05",
      "metadata": {
        "id": "0fcabd9b-3822-4fe8-ac5f-b2082bd78a05"
      },
      "outputs": [],
      "source": [
        "import pandas as pd"
      ]
    },
    {
      "cell_type": "code",
      "source": [
        "data = {\n",
        "  \"Time\": [50, 40, 20, None, 90, 20],\n",
        "  \"Pulse\": [109, 140, 110, 125, 138, 170]\n",
        "}\n",
        "df = pd.DataFrame(data)\n",
        "print(df.count())"
      ],
      "metadata": {
        "id": "tWObH3nnDC8K",
        "outputId": "149f00b2-ee52-4f76-f229-2da99f27f9a5",
        "colab": {
          "base_uri": "https://localhost:8080/"
        }
      },
      "id": "tWObH3nnDC8K",
      "execution_count": 14,
      "outputs": [
        {
          "output_type": "stream",
          "name": "stdout",
          "text": [
            "Time     5\n",
            "Pulse    6\n",
            "dtype: int64\n"
          ]
        }
      ]
    },
    {
      "cell_type": "code",
      "source": [
        "# Sample DataFrame\n",
        "df = pd.DataFrame({'A': ['Cat', 'Mat', 'Bat', 'Cat', 'Bat']})\n",
        "\n",
        "# Counting unique values in column 'A'\n",
        "value_counts = df['A'].value_counts()\n",
        "print(value_counts)"
      ],
      "metadata": {
        "colab": {
          "base_uri": "https://localhost:8080/"
        },
        "id": "lCudoIao_zTe",
        "outputId": "069b1a02-1e5f-4889-e207-eb4a8921fd44"
      },
      "id": "lCudoIao_zTe",
      "execution_count": 3,
      "outputs": [
        {
          "output_type": "stream",
          "name": "stdout",
          "text": [
            "A\n",
            "Cat    2\n",
            "Bat    2\n",
            "Mat    1\n",
            "Name: count, dtype: int64\n"
          ]
        }
      ]
    },
    {
      "cell_type": "code",
      "execution_count": 4,
      "id": "c9dcdebf-891d-4692-a5e7-8b42323f7a2f",
      "metadata": {
        "colab": {
          "base_uri": "https://localhost:8080/"
        },
        "id": "c9dcdebf-891d-4692-a5e7-8b42323f7a2f",
        "outputId": "f0e83eaf-813a-418d-f0e5-f09507f2bb95"
      },
      "outputs": [
        {
          "output_type": "stream",
          "name": "stdout",
          "text": [
            "0     36\n",
            "1     64\n",
            "2     81\n",
            "3    169\n",
            "4    196\n",
            "dtype: int64\n"
          ]
        }
      ],
      "source": [
        "# Sample Series\n",
        "s = pd.Series([6,8,9,13,14])\n",
        "\n",
        "# Applying a function to square each element\n",
        "s_squared = s.apply(lambda x: x ** 2)\n",
        "print(s_squared)"
      ]
    },
    {
      "cell_type": "code",
      "execution_count": 5,
      "id": "11390a36-85fa-4472-afd1-e881c260b2a8",
      "metadata": {
        "colab": {
          "base_uri": "https://localhost:8080/"
        },
        "id": "11390a36-85fa-4472-afd1-e881c260b2a8",
        "outputId": "fe71d01c-98a0-4a1b-9d9f-0e55ef60e2b7"
      },
      "outputs": [
        {
          "output_type": "stream",
          "name": "stdout",
          "text": [
            "['Cat' 'Mat' 'Bat']\n"
          ]
        }
      ],
      "source": [
        "# Unique values in column 'A'\n",
        "unique_values = df['A'].unique()\n",
        "print(unique_values)\n"
      ]
    },
    {
      "cell_type": "code",
      "execution_count": 6,
      "id": "7762fdbf-9c6a-4bf6-8264-bc7d646852b2",
      "metadata": {
        "colab": {
          "base_uri": "https://localhost:8080/"
        },
        "id": "7762fdbf-9c6a-4bf6-8264-bc7d646852b2",
        "outputId": "409de2ae-324f-43b4-ff5b-66677e89b692"
      },
      "outputs": [
        {
          "output_type": "stream",
          "name": "stdout",
          "text": [
            "3\n"
          ]
        }
      ],
      "source": [
        "# Number of unique values in column 'A'\n",
        "num_unique = df['A'].nunique()\n",
        "print(num_unique)\n"
      ]
    },
    {
      "cell_type": "code",
      "execution_count": 7,
      "id": "b3d5e2c7-c088-4ae4-a595-b3901498c04b",
      "metadata": {
        "colab": {
          "base_uri": "https://localhost:8080/"
        },
        "id": "b3d5e2c7-c088-4ae4-a595-b3901498c04b",
        "outputId": "c719fe61-8738-463f-a95c-0916cada92b8"
      },
      "outputs": [
        {
          "output_type": "stream",
          "name": "stdout",
          "text": [
            "          A\n",
            "count     5\n",
            "unique    3\n",
            "top     Cat\n",
            "freq      2\n"
          ]
        }
      ],
      "source": [
        "# Descriptive statistics of the DataFrame\n",
        "description = df.describe()\n",
        "print(description)\n"
      ]
    },
    {
      "cell_type": "code",
      "execution_count": 10,
      "id": "5715a272-a79f-4381-9173-13eda20b3679",
      "metadata": {
        "colab": {
          "base_uri": "https://localhost:8080/"
        },
        "id": "5715a272-a79f-4381-9173-13eda20b3679",
        "outputId": "6df69d01-2808-4dbf-9742-cb842a6b5e18"
      },
      "outputs": [
        {
          "output_type": "stream",
          "name": "stdout",
          "text": [
            "A\n",
            "3     1\n",
            "6     1\n",
            "71    1\n",
            "56    1\n",
            "35    1\n",
            "48    1\n",
            "64    1\n",
            "Name: count, dtype: int64\n"
          ]
        }
      ],
      "source": [
        "# Sample DataFrame\n",
        "df = pd.DataFrame({'A': [3,6,71,56,35,48,64]})\n",
        "\n",
        "# Counting unique values in column 'A'\n",
        "value_counts = df['A'].value_counts()\n",
        "print(value_counts)\n"
      ]
    },
    {
      "cell_type": "code",
      "execution_count": 9,
      "id": "e113f01b-db57-4c59-b1b5-f8828cf628c0",
      "metadata": {
        "colab": {
          "base_uri": "https://localhost:8080/"
        },
        "id": "e113f01b-db57-4c59-b1b5-f8828cf628c0",
        "outputId": "f3d6ce25-8140-4427-80d3-4faaeb6692b2"
      },
      "outputs": [
        {
          "output_type": "stream",
          "name": "stdout",
          "text": [
            "A\n",
            "5     1\n",
            "9     1\n",
            "7     1\n",
            "16    1\n",
            "25    1\n",
            "39    1\n",
            "46    1\n",
            "Name: count, dtype: int64\n"
          ]
        }
      ],
      "source": [
        "# Sample DataFrame\n",
        "df = pd.DataFrame({'A': [5,9,7,16,25,39,46]})\n",
        "value_counts = df['A'].value_counts()\n",
        "print(value_counts)"
      ]
    },
    {
      "cell_type": "code",
      "source": [
        "# apply\n",
        "import numpy as np\n",
        "\n",
        "df = pd.DataFrame({'A': [1, 2], 'B': [10, 20]})\n",
        "df1 = df.apply(np.sum, axis=0)\n",
        "print(df1)\n",
        "df1 = df.apply(np.sum, axis=1)\n",
        "print(df1)"
      ],
      "metadata": {
        "colab": {
          "base_uri": "https://localhost:8080/"
        },
        "id": "x8o_1i3nA0dR",
        "outputId": "831dd6e3-b825-4093-e670-4d201414a7f5"
      },
      "id": "x8o_1i3nA0dR",
      "execution_count": 12,
      "outputs": [
        {
          "output_type": "stream",
          "name": "stdout",
          "text": [
            "A     3\n",
            "B    30\n",
            "dtype: int64\n",
            "0    11\n",
            "1    22\n",
            "dtype: int64\n"
          ]
        }
      ]
    },
    {
      "cell_type": "code",
      "source": [
        "#Count Unique Values\n",
        "df = pd.DataFrame({'A': [1, None, 3], 'B': [1, None, 1],'C': [2, None, 5]})\n",
        "print(\"The DataFrame is\")\n",
        "print(df)\n",
        "print(\"--------------------------------\")\n",
        "print(df.nunique(axis=1))"
      ],
      "metadata": {
        "colab": {
          "base_uri": "https://localhost:8080/"
        },
        "id": "0ShL_H9lCAMX",
        "outputId": "21817c9c-996d-43c9-df2c-19048632da5c"
      },
      "id": "0ShL_H9lCAMX",
      "execution_count": 13,
      "outputs": [
        {
          "output_type": "stream",
          "name": "stdout",
          "text": [
            "The DataFrame is\n",
            "     A    B    C\n",
            "0  1.0  1.0  2.0\n",
            "1  NaN  NaN  NaN\n",
            "2  3.0  1.0  5.0\n",
            "--------------------------------\n",
            "0    2\n",
            "1    0\n",
            "2    3\n",
            "dtype: int64\n"
          ]
        }
      ]
    }
  ],
  "metadata": {
    "kernelspec": {
      "display_name": "Python 3 (ipykernel)",
      "language": "python",
      "name": "python3"
    },
    "language_info": {
      "codemirror_mode": {
        "name": "ipython",
        "version": 3
      },
      "file_extension": ".py",
      "mimetype": "text/x-python",
      "name": "python",
      "nbconvert_exporter": "python",
      "pygments_lexer": "ipython3",
      "version": "3.11.7"
    },
    "colab": {
      "provenance": []
    }
  },
  "nbformat": 4,
  "nbformat_minor": 5
}