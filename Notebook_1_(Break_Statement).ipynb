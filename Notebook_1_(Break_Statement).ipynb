{
  "nbformat": 4,
  "nbformat_minor": 0,
  "metadata": {
    "colab": {
      "provenance": []
    },
    "kernelspec": {
      "name": "python3",
      "display_name": "Python 3"
    },
    "language_info": {
      "name": "python"
    }
  },
  "cells": [
    {
      "cell_type": "markdown",
      "source": [
        "**Break Statement**: Used to break out a for loop, or a while loop."
      ],
      "metadata": {
        "id": "utJlK-m6pI72"
      }
    },
    {
      "cell_type": "code",
      "source": [
        "# Break Statement for loop is used to the break statement with the for loop to terminate the loop when a certain condition is met.\n",
        "for i in range(3):\n",
        "    if i == 1:\n",
        "        break\n",
        "    print(i)"
      ],
      "metadata": {
        "colab": {
          "base_uri": "https://localhost:8080/"
        },
        "id": "_QnR3XObpaTQ",
        "outputId": "bf88aed0-f886-4a4d-8f64-ba30792823c1"
      },
      "execution_count": 2,
      "outputs": [
        {
          "output_type": "stream",
          "name": "stdout",
          "text": [
            "0\n"
          ]
        }
      ]
    },
    {
      "cell_type": "code",
      "source": [
        "# Terminate the while loop using the break statement.\n",
        "i = 0\n",
        "\n",
        "while i < 3:\n",
        "    if i == 1:\n",
        "        break\n",
        "    print(i)\n",
        "    i += 1\n"
      ],
      "metadata": {
        "colab": {
          "base_uri": "https://localhost:8080/"
        },
        "id": "lxj2SgwfqBev",
        "outputId": "17dca1fb-f9f3-4a03-cb9c-fb7400292b65"
      },
      "execution_count": 3,
      "outputs": [
        {
          "output_type": "stream",
          "name": "stdout",
          "text": [
            "0\n"
          ]
        }
      ]
    },
    {
      "cell_type": "code",
      "source": [
        "#Example.1\n",
        "for i in range(20):\n",
        "    print(i)\n",
        "    if i == 2:\n",
        "        break"
      ],
      "metadata": {
        "colab": {
          "base_uri": "https://localhost:8080/"
        },
        "id": "0_Jg6F-7q5LS",
        "outputId": "c739ba4a-bd4b-4489-ab83-39707bc75ca6"
      },
      "execution_count": 4,
      "outputs": [
        {
          "output_type": "stream",
          "name": "stdout",
          "text": [
            "0\n",
            "1\n",
            "2\n"
          ]
        }
      ]
    },
    {
      "cell_type": "code",
      "source": [
        "#Example.2\n",
        "x= 1\n",
        "for i in range(6):\n",
        "    x+= 1\n",
        "    if x == 5:\n",
        "        break\n",
        "    print(\"The x has value:\", x)\n",
        "print(\"Out of loop\")"
      ],
      "metadata": {
        "colab": {
          "base_uri": "https://localhost:8080/"
        },
        "id": "VnLFVL8urMdM",
        "outputId": "ed3db1e9-36ff-47a8-ce2f-f3bf4deacaaa"
      },
      "execution_count": 5,
      "outputs": [
        {
          "output_type": "stream",
          "name": "stdout",
          "text": [
            "The x has value: 2\n",
            "The x has value: 3\n",
            "The x has value: 4\n",
            "Out of loop\n"
          ]
        }
      ]
    },
    {
      "cell_type": "code",
      "source": [
        "#Example.3\n",
        "a = 'Statistics'\n",
        "# Using for loop\n",
        "for letter in a:\n",
        "\n",
        "    print(letter)\n",
        "    # break the loop as soon it sees 'a'\n",
        "    # or 'i'\n",
        "    if letter == 'a' or letter == 'i':\n",
        "        break\n",
        "\n",
        "print(\"Out of for loop\"    )\n",
        "print()\n",
        "\n",
        "i = 0\n",
        "\n",
        "# Using while loop\n",
        "while True:\n",
        "    print(a[i])\n",
        "\n",
        "    if a[i] == 'a' or a[i] == 'i':\n",
        "        break\n",
        "    i += 1\n",
        "\n",
        "print(\"Out of while loop \")\n"
      ],
      "metadata": {
        "colab": {
          "base_uri": "https://localhost:8080/"
        },
        "id": "FbbagPGPrr9G",
        "outputId": "5de04bad-0b47-435e-bd44-a5165f75e18e"
      },
      "execution_count": 7,
      "outputs": [
        {
          "output_type": "stream",
          "name": "stdout",
          "text": [
            "S\n",
            "t\n",
            "a\n",
            "Out of for loop\n",
            "\n",
            "S\n",
            "t\n",
            "a\n",
            "Out of while loop \n"
          ]
        }
      ]
    }
  ]
}