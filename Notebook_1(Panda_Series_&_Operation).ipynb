{
  "cells": [
    {
      "cell_type": "markdown",
      "id": "368506e3-24bb-4b3e-8b8d-24f0c2e65eec",
      "metadata": {
        "id": "368506e3-24bb-4b3e-8b8d-24f0c2e65eec"
      },
      "source": [
        "**Panda Library**: Pandas is a powerful and flexible open-source data analysis and manipulation library for the Python programming language.\n",
        "It provides data structures and functions needed to work with structured data seamlessly, making it a popular choice among data scientists and analysts."
      ]
    },
    {
      "cell_type": "code",
      "source": [
        "import pandas as pd\n",
        "data = pd.Series([145, 142, 38, 13], name='counts')\n",
        "print(data)"
      ],
      "metadata": {
        "colab": {
          "base_uri": "https://localhost:8080/"
        },
        "id": "_463mbwIJ3IU",
        "outputId": "281ed36b-9852-4167-b0fd-5d8aa51f658f"
      },
      "id": "_463mbwIJ3IU",
      "execution_count": 13,
      "outputs": [
        {
          "output_type": "stream",
          "name": "stdout",
          "text": [
            "0    145\n",
            "1    142\n",
            "2     38\n",
            "3     13\n",
            "Name: counts, dtype: int64\n"
          ]
        }
      ]
    },
    {
      "cell_type": "code",
      "source": [
        "#Pandas Series Object from a Dictionary\n",
        "import pandas as pd\n",
        "import numpy as np\n",
        "dictionary = {'a':1,'b':2,'c':3, 'd':4}\n",
        "data = pd.Series(dictionary)\n",
        "print(data)"
      ],
      "metadata": {
        "colab": {
          "base_uri": "https://localhost:8080/"
        },
        "id": "4griW3X1KFSi",
        "outputId": "6c498cb3-5d3c-4f40-8a58-371b63f43dfb"
      },
      "id": "4griW3X1KFSi",
      "execution_count": 14,
      "outputs": [
        {
          "output_type": "stream",
          "name": "stdout",
          "text": [
            "a    1\n",
            "b    2\n",
            "c    3\n",
            "d    4\n",
            "dtype: int64\n"
          ]
        }
      ]
    },
    {
      "cell_type": "code",
      "execution_count": 1,
      "id": "2233b011-ecf7-4891-a767-b3592855d83e",
      "metadata": {
        "colab": {
          "base_uri": "https://localhost:8080/"
        },
        "id": "2233b011-ecf7-4891-a767-b3592855d83e",
        "outputId": "3b9eadcc-0e4e-4bf3-e120-7d077e14ac01"
      },
      "outputs": [
        {
          "output_type": "stream",
          "name": "stdout",
          "text": [
            "   A   B   C\n",
            "0  2   8  14\n",
            "1  4  10  16\n",
            "2  6  12  18\n"
          ]
        }
      ],
      "source": [
        "import pandas as pd\n",
        "\n",
        "# Sample DataFrame\n",
        "df = pd.DataFrame({\n",
        "    'A': [1,2,3],\n",
        "    'B': [4,5,6],\n",
        "    'C': [7,8,9]\n",
        "})\n",
        "# Function to apply\n",
        "def my_function(x):\n",
        "    return x * 2\n",
        "# Applying the function to each column\n",
        "df_applied = df.apply(my_function, axis=0)\n",
        "print(df_applied)"
      ]
    },
    {
      "cell_type": "code",
      "source": [
        "import numpy as np\n",
        "my_2darray = np.array([[1, 2, 3], [4, 5, 6]])\n",
        "print(pd.DataFrame(my_2darray))"
      ],
      "metadata": {
        "colab": {
          "base_uri": "https://localhost:8080/"
        },
        "id": "_yMVHfjnIHbm",
        "outputId": "42fd5251-d547-411d-f748-36b4bb16cbe1"
      },
      "id": "_yMVHfjnIHbm",
      "execution_count": 6,
      "outputs": [
        {
          "output_type": "stream",
          "name": "stdout",
          "text": [
            "   0  1  2\n",
            "0  1  2  3\n",
            "1  4  5  6\n"
          ]
        }
      ]
    },
    {
      "cell_type": "code",
      "execution_count": 7,
      "id": "3a16187b-ced8-45b1-afbe-b7d2273d9e92",
      "metadata": {
        "colab": {
          "base_uri": "https://localhost:8080/"
        },
        "id": "3a16187b-ced8-45b1-afbe-b7d2273d9e92",
        "outputId": "6cea78c4-a71b-435b-e097-dfe50452eddd"
      },
      "outputs": [
        {
          "output_type": "stream",
          "name": "stdout",
          "text": [
            "   A   B   C\n",
            "0  6   9  12\n",
            "1  7  10  13\n",
            "2  8  11  14\n"
          ]
        }
      ],
      "source": [
        "# Applying a lambda function to each column\n",
        "df_applied = df.apply(lambda x: x + 5, axis=0)\n",
        "print(df_applied)"
      ]
    },
    {
      "cell_type": "code",
      "execution_count": 8,
      "id": "06dfd4ec-e4b1-40f9-8703-0ae9d58682be",
      "metadata": {
        "colab": {
          "base_uri": "https://localhost:8080/"
        },
        "id": "06dfd4ec-e4b1-40f9-8703-0ae9d58682be",
        "outputId": "2496e4a9-78bf-4990-d9ab-68e78082d951"
      },
      "outputs": [
        {
          "output_type": "stream",
          "name": "stdout",
          "text": [
            "0     25\n",
            "1     49\n",
            "2     81\n",
            "3      1\n",
            "4    256\n",
            "5     81\n",
            "dtype: int64\n"
          ]
        }
      ],
      "source": [
        "# Sample Series\n",
        "s = pd.Series([5,7,9,1,16,9])\n",
        "# Applying a function to each element\n",
        "s_applied = s.apply(lambda x: x ** 2)\n",
        "print(s_applied)"
      ]
    },
    {
      "cell_type": "code",
      "execution_count": 9,
      "id": "2bd95cc0-6f16-4a89-8a76-59bc3f3a9875",
      "metadata": {
        "colab": {
          "base_uri": "https://localhost:8080/"
        },
        "id": "2bd95cc0-6f16-4a89-8a76-59bc3f3a9875",
        "outputId": "677269e2-96b2-481f-e7d1-e7017e6feadf"
      },
      "outputs": [
        {
          "output_type": "stream",
          "name": "stdout",
          "text": [
            "     A    B    C\n",
            "0 -1.0 -1.0 -1.0\n",
            "1  0.0  0.0  0.0\n",
            "2  1.0  1.0  1.0\n"
          ]
        }
      ],
      "source": [
        "# Normalizing data\n",
        "def normalize(x):\n",
        "    return (x - x.mean()) / x.std()\n",
        "df_normalized = df.apply(normalize)\n",
        "print(df_normalized)"
      ]
    },
    {
      "cell_type": "code",
      "execution_count": 11,
      "id": "17bc0578-e5d6-467f-9083-929938e97747",
      "metadata": {
        "colab": {
          "base_uri": "https://localhost:8080/"
        },
        "id": "17bc0578-e5d6-467f-9083-929938e97747",
        "outputId": "fbc93e81-a9a8-4fb3-9f81-c40bf1720fb7"
      },
      "outputs": [
        {
          "output_type": "stream",
          "name": "stdout",
          "text": [
            "     A    B  C\n",
            "0  7.0  4.0  7\n",
            "1  9.0  5.0  8\n",
            "2  5.0  3.0  3\n"
          ]
        }
      ],
      "source": [
        "# DataFrame with missing values\n",
        "df_with_nan = pd.DataFrame({\n",
        "    'A': [None,9,5],\n",
        "    'B': [None,5,3],\n",
        "    'C': [7,8,3]\n",
        "})\n",
        "# Filling missing values with the mean of each column\n",
        "df_filled = df_with_nan.apply(lambda x: x.fillna(x.mean()), axis=0)\n",
        "print(df_filled)"
      ]
    },
    {
      "cell_type": "code",
      "source": [
        "#Indexing Operator\n",
        "import numpy as np\n",
        "np_array = np.array([1,2,3,5,6,7,9,1,10])\n",
        "data = pd.Series(np_array)\n",
        "print(\"data :\\n\", data)\n",
        "print(\"data extracted using indexing :\\n\",data[1:3])"
      ],
      "metadata": {
        "colab": {
          "base_uri": "https://localhost:8080/"
        },
        "id": "u645I-Z1JXN5",
        "outputId": "c591a1b4-a70e-4ad1-80e7-06751823c82d"
      },
      "id": "u645I-Z1JXN5",
      "execution_count": 16,
      "outputs": [
        {
          "output_type": "stream",
          "name": "stdout",
          "text": [
            "data :\n",
            " 0     1\n",
            "1     2\n",
            "2     3\n",
            "3     5\n",
            "4     6\n",
            "5     7\n",
            "6     9\n",
            "7     1\n",
            "8    10\n",
            "dtype: int64\n",
            "data extracted using indexing :\n",
            " 1    2\n",
            "2    3\n",
            "dtype: int64\n"
          ]
        }
      ]
    },
    {
      "cell_type": "code",
      "execution_count": 12,
      "id": "22ea00f1-10d5-4726-920f-5af68aadcf1d",
      "metadata": {
        "colab": {
          "base_uri": "https://localhost:8080/"
        },
        "id": "22ea00f1-10d5-4726-920f-5af68aadcf1d",
        "outputId": "53596760-013a-4fb8-fe28-fd6d19671f21"
      },
      "outputs": [
        {
          "output_type": "stream",
          "name": "stdout",
          "text": [
            "0     odd\n",
            "1     odd\n",
            "2     odd\n",
            "3     odd\n",
            "4    even\n",
            "5     odd\n",
            "dtype: object\n"
          ]
        }
      ],
      "source": [
        "# Applying a conditional function\n",
        "s_conditional = s.apply(lambda x: 'even' if x % 2 == 0 else 'odd')\n",
        "print(s_conditional)"
      ]
    },
    {
      "cell_type": "code",
      "source": [
        "#Binary Operation\n",
        "import numpy as np\n",
        "series1 = pd.Series([1,2,3,5,6,7,9,1,10])\n",
        "series2 = pd.Series([2,3,5,2,5,6,1,3,0])\n",
        "print(\"Series 1 :\\n\", series1)\n",
        "print(\"Series 2 :\\n\", series1)\n",
        "print(\"Sum of series 1 and series 2 :\\n\",series1.add(series2))"
      ],
      "metadata": {
        "colab": {
          "base_uri": "https://localhost:8080/"
        },
        "id": "g4ctHqPCKP16",
        "outputId": "4ad11462-98b3-4285-ce0e-95bdf3b1771f"
      },
      "id": "g4ctHqPCKP16",
      "execution_count": 15,
      "outputs": [
        {
          "output_type": "stream",
          "name": "stdout",
          "text": [
            "Series 1 :\n",
            " 0     1\n",
            "1     2\n",
            "2     3\n",
            "3     5\n",
            "4     6\n",
            "5     7\n",
            "6     9\n",
            "7     1\n",
            "8    10\n",
            "dtype: int64\n",
            "Series 2 :\n",
            " 0     1\n",
            "1     2\n",
            "2     3\n",
            "3     5\n",
            "4     6\n",
            "5     7\n",
            "6     9\n",
            "7     1\n",
            "8    10\n",
            "dtype: int64\n",
            "Sum of series 1 and series 2 :\n",
            " 0     3\n",
            "1     5\n",
            "2     8\n",
            "3     7\n",
            "4    11\n",
            "5    13\n",
            "6    10\n",
            "7     4\n",
            "8    10\n",
            "dtype: int64\n"
          ]
        }
      ]
    }
  ],
  "metadata": {
    "kernelspec": {
      "display_name": "Python 3 (ipykernel)",
      "language": "python",
      "name": "python3"
    },
    "language_info": {
      "codemirror_mode": {
        "name": "ipython",
        "version": 3
      },
      "file_extension": ".py",
      "mimetype": "text/x-python",
      "name": "python",
      "nbconvert_exporter": "python",
      "pygments_lexer": "ipython3",
      "version": "3.11.7"
    },
    "colab": {
      "provenance": []
    }
  },
  "nbformat": 4,
  "nbformat_minor": 5
}