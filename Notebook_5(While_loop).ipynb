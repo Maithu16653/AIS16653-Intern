{
  "nbformat": 4,
  "nbformat_minor": 0,
  "metadata": {
    "colab": {
      "provenance": []
    },
    "kernelspec": {
      "name": "python3",
      "display_name": "Python 3"
    },
    "language_info": {
      "name": "python"
    }
  },
  "cells": [
    {
      "cell_type": "code",
      "execution_count": 2,
      "metadata": {
        "colab": {
          "base_uri": "https://localhost:8080/"
        },
        "id": "9-XgX76UDlKt",
        "outputId": "a244e8d1-94af-4aae-f39d-fb5c71677c57"
      },
      "outputs": [
        {
          "output_type": "stream",
          "name": "stdout",
          "text": [
            "Maithili\n",
            "Maithili\n"
          ]
        }
      ],
      "source": [
        "# While loop:used to execute a block of statements repeatedly until a given condition is satisfied.\n",
        "count = 1\n",
        "while (count < 3):\n",
        "    count = count + 1\n",
        "    print(\"Maithili\")"
      ]
    },
    {
      "cell_type": "code",
      "source": [
        "#Example.1\n",
        "x = 2\n",
        "\n",
        "while x <= 3:\n",
        "    print(x)\n",
        "    x = x + 1"
      ],
      "metadata": {
        "colab": {
          "base_uri": "https://localhost:8080/"
        },
        "id": "r3AaFVupLm3Y",
        "outputId": "9c3a17a2-b2c2-45ef-e73d-cc5fb95cc08d"
      },
      "execution_count": 3,
      "outputs": [
        {
          "output_type": "stream",
          "name": "stdout",
          "text": [
            "2\n",
            "3\n"
          ]
        }
      ]
    },
    {
      "cell_type": "code",
      "source": [
        "#Example.3\n",
        "# Prints all letters except 'm' and 'i'\n",
        "i = 0\n",
        "a = 'maithili'\n",
        "\n",
        "while i < len(a):\n",
        "    if a[i] == 'm' or a[i] == 'i':\n",
        "        i += 1\n",
        "        continue\n",
        "\n",
        "    print('Current Letter :', a[i])\n",
        "    i += 1"
      ],
      "metadata": {
        "colab": {
          "base_uri": "https://localhost:8080/"
        },
        "id": "qDodWkUxNA8Q",
        "outputId": "cbf24f38-06eb-4171-f484-d93074436a66"
      },
      "execution_count": 6,
      "outputs": [
        {
          "output_type": "stream",
          "name": "stdout",
          "text": [
            "Current Letter : a\n",
            "Current Letter : t\n",
            "Current Letter : h\n",
            "Current Letter : l\n"
          ]
        }
      ]
    },
    {
      "cell_type": "code",
      "source": [
        "#Example.4\n",
        "#break the loop as soon it sees 'a' # or 'h'\n",
        "i = 0\n",
        "a = 'maithili'\n",
        "\n",
        "while i < len(a):\n",
        "    if a[i] == 'a' or a[i] == 'h':\n",
        "        i += 1\n",
        "        break\n",
        "\n",
        "    print('Current Letter :', a[i])\n",
        "    i += 1"
      ],
      "metadata": {
        "colab": {
          "base_uri": "https://localhost:8080/"
        },
        "id": "4IhRSLOWNtRH",
        "outputId": "d2ee1ad9-3585-4ef3-bffb-bc4e97fe2b77"
      },
      "execution_count": 14,
      "outputs": [
        {
          "output_type": "stream",
          "name": "stdout",
          "text": [
            "Current Letter : m\n"
          ]
        }
      ]
    },
    {
      "cell_type": "code",
      "source": [
        "#Example.5\n",
        "# An empty loop\n",
        "a = 'maithili'\n",
        "i = 0\n",
        "\n",
        "while i < len(a):\n",
        "    i += 1\n",
        "    pass\n",
        "\n",
        "print('Value of i :', i)"
      ],
      "metadata": {
        "colab": {
          "base_uri": "https://localhost:8080/"
        },
        "id": "q17d6OW_O29L",
        "outputId": "5e4e8db9-5c3b-41fd-cc68-cdcf5ab39b9a"
      },
      "execution_count": 15,
      "outputs": [
        {
          "output_type": "stream",
          "name": "stdout",
          "text": [
            "Value of i : 8\n"
          ]
        }
      ]
    },
    {
      "cell_type": "code",
      "source": [
        "#Example.6\n",
        "x = 5\n",
        "\n",
        "while x <= 7:\n",
        "    print(x)\n",
        "    x = x + 1"
      ],
      "metadata": {
        "colab": {
          "base_uri": "https://localhost:8080/"
        },
        "id": "MyTVsFi2PSH_",
        "outputId": "20f23509-493d-48d3-8774-615ae1fa741e"
      },
      "execution_count": 16,
      "outputs": [
        {
          "output_type": "stream",
          "name": "stdout",
          "text": [
            "5\n",
            "6\n",
            "7\n"
          ]
        }
      ]
    },
    {
      "cell_type": "code",
      "source": [
        "#Example.7\n",
        "# checks if list still contains any element.\n",
        "a = [3, 5, 7, 9]\n",
        "\n",
        "while a:\n",
        "    print(a.pop())"
      ],
      "metadata": {
        "colab": {
          "base_uri": "https://localhost:8080/"
        },
        "id": "fa3tPZDIPd6m",
        "outputId": "185e79fa-ae0a-4d0a-e31e-96b6a9e6f3aa"
      },
      "execution_count": 17,
      "outputs": [
        {
          "output_type": "stream",
          "name": "stdout",
          "text": [
            "9\n",
            "7\n",
            "5\n",
            "3\n"
          ]
        }
      ]
    },
    {
      "cell_type": "code",
      "source": [
        "#Example.8\n",
        "z= 3\n",
        "while (z < 5):\n",
        "    z = z + 1\n",
        "    print(\"a\",\"b\",\"c\")"
      ],
      "metadata": {
        "colab": {
          "base_uri": "https://localhost:8080/"
        },
        "id": "wqtL0lcAPvWX",
        "outputId": "ddeda408-b394-4b26-d9cd-905ed5254532"
      },
      "execution_count": 18,
      "outputs": [
        {
          "output_type": "stream",
          "name": "stdout",
          "text": [
            "a b c\n",
            "a b c\n"
          ]
        }
      ]
    },
    {
      "cell_type": "code",
      "source": [
        "#Example.9\n",
        "sequence = 5\n",
        "while sequence> 0:\n",
        "    print(sequence)\n",
        "    sequence -= 1\n",
        "print(\"end\")"
      ],
      "metadata": {
        "colab": {
          "base_uri": "https://localhost:8080/"
        },
        "id": "sUCbgnV6QOLC",
        "outputId": "7a3fb223-7534-4039-ae40-b37bde7a1772"
      },
      "execution_count": 19,
      "outputs": [
        {
          "output_type": "stream",
          "name": "stdout",
          "text": [
            "5\n",
            "4\n",
            "3\n",
            "2\n",
            "1\n",
            "end\n"
          ]
        }
      ]
    },
    {
      "cell_type": "code",
      "source": [
        "#Example.10\n",
        "a = 'Statistics'\n",
        "i = 0\n",
        "\n",
        "while i < len(a):\n",
        "    i += 1\n",
        "    pass\n",
        "\n",
        "print('Value of i :', i)"
      ],
      "metadata": {
        "colab": {
          "base_uri": "https://localhost:8080/"
        },
        "id": "aZgQaG50Rajt",
        "outputId": "dbc72ba2-8183-42c4-c0f3-9fa3ab6b5111"
      },
      "execution_count": 24,
      "outputs": [
        {
          "output_type": "stream",
          "name": "stdout",
          "text": [
            "Value of i : 10\n"
          ]
        }
      ]
    }
  ]
}