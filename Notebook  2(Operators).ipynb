{
 "cells": [
  {
   "cell_type": "code",
   "execution_count": 1,
   "id": "e4d6d4f0",
   "metadata": {},
   "outputs": [],
   "source": [
    "#Python Operators"
   ]
  },
  {
   "cell_type": "code",
   "execution_count": null,
   "id": "3d733547-4fbb-433a-be49-719dcd161d69",
   "metadata": {},
   "outputs": [],
   "source": [
    "#1.Arithmetic Operators(this operators are used with numeric value to perform a mathamatical operation)"
   ]
  },
  {
   "cell_type": "code",
   "execution_count": 2,
   "id": "08be6818",
   "metadata": {},
   "outputs": [
    {
     "name": "stdout",
     "output_type": "stream",
     "text": [
      "20\n"
     ]
    }
   ],
   "source": [
    "#Addition\n",
    "X=15\n",
    "Y=5\n",
    "print(X+Y)"
   ]
  },
  {
   "cell_type": "code",
   "execution_count": 4,
   "id": "68db028c",
   "metadata": {},
   "outputs": [
    {
     "name": "stdout",
     "output_type": "stream",
     "text": [
      "73\n"
     ]
    }
   ],
   "source": [
    "#Subtraction\n",
    "X=96\n",
    "Y=23\n",
    "print(X-Y)"
   ]
  },
  {
   "cell_type": "code",
   "execution_count": 5,
   "id": "ed529b90",
   "metadata": {},
   "outputs": [
    {
     "name": "stdout",
     "output_type": "stream",
     "text": [
      "126\n"
     ]
    }
   ],
   "source": [
    "#Multiplication\n",
    "X=42\n",
    "Y=3\n",
    "print(X*Y)"
   ]
  },
  {
   "cell_type": "code",
   "execution_count": 6,
   "id": "4486b895",
   "metadata": {},
   "outputs": [
    {
     "name": "stdout",
     "output_type": "stream",
     "text": [
      "1.3333333333333333\n"
     ]
    }
   ],
   "source": [
    "#Devision(/)\n",
    "X=8\n",
    "Y=6\n",
    "print(X/Y)"
   ]
  },
  {
   "cell_type": "code",
   "execution_count": 8,
   "id": "54f88d6e",
   "metadata": {},
   "outputs": [
    {
     "name": "stdout",
     "output_type": "stream",
     "text": [
      "1\n"
     ]
    }
   ],
   "source": [
    "#Modulus(%)Reminder\n",
    "X=9\n",
    "Y=4\n",
    "print(X%Y)"
   ]
  },
  {
   "cell_type": "code",
   "execution_count": 9,
   "id": "c14df74a",
   "metadata": {},
   "outputs": [
    {
     "name": "stdout",
     "output_type": "stream",
     "text": [
      "262144\n"
     ]
    }
   ],
   "source": [
    "#Exponentiation(**) Ratio\n",
    "X=8\n",
    "Y=6\n",
    "print(X**Y)"
   ]
  },
  {
   "cell_type": "code",
   "execution_count": null,
   "id": "79466849",
   "metadata": {},
   "outputs": [],
   "source": [
    "#2.Comparison Operators( used to comparision of two values.it gives an output in true or false.)"
   ]
  },
  {
   "cell_type": "code",
   "execution_count": 10,
   "id": "7f72905c",
   "metadata": {},
   "outputs": [
    {
     "name": "stdout",
     "output_type": "stream",
     "text": [
      "True\n"
     ]
    }
   ],
   "source": [
    "#Equal(==)\n",
    "a=6\n",
    "b=6\n",
    "print(a==b)"
   ]
  },
  {
   "cell_type": "code",
   "execution_count": 11,
   "id": "910736f2",
   "metadata": {},
   "outputs": [
    {
     "name": "stdout",
     "output_type": "stream",
     "text": [
      "True\n"
     ]
    }
   ],
   "source": [
    "#Not Equal(!=)\n",
    "a=8\n",
    "b=9\n",
    "print(a!=b)"
   ]
  },
  {
   "cell_type": "code",
   "execution_count": 12,
   "id": "442528e7",
   "metadata": {},
   "outputs": [
    {
     "name": "stdout",
     "output_type": "stream",
     "text": [
      "True\n"
     ]
    }
   ],
   "source": [
    "#Greaterthan(>)\n",
    "a=9\n",
    "b=8\n",
    "print(a>b)"
   ]
  },
  {
   "cell_type": "code",
   "execution_count": 13,
   "id": "27e0ea49",
   "metadata": {},
   "outputs": [
    {
     "name": "stdout",
     "output_type": "stream",
     "text": [
      "True\n"
     ]
    }
   ],
   "source": [
    "#lessthan(>)\n",
    "a=4\n",
    "b=2\n",
    "print(b<a)"
   ]
  },
  {
   "cell_type": "code",
   "execution_count": 14,
   "id": "fcacbd47",
   "metadata": {},
   "outputs": [
    {
     "name": "stdout",
     "output_type": "stream",
     "text": [
      "True\n"
     ]
    }
   ],
   "source": [
    "#Greaterthan Equal(>=)\n",
    "a=4\n",
    "b=5\n",
    "print(b>=a)"
   ]
  },
  {
   "cell_type": "code",
   "execution_count": 15,
   "id": "4124b426",
   "metadata": {},
   "outputs": [
    {
     "name": "stdout",
     "output_type": "stream",
     "text": [
      "False\n"
     ]
    }
   ],
   "source": [
    "#lessthan equal(>=)\n",
    "a=4\n",
    "b=5\n",
    "print(b<=a)"
   ]
  },
  {
   "cell_type": "code",
   "execution_count": null,
   "id": "770768ac",
   "metadata": {},
   "outputs": [],
   "source": [
    "#3.Logical Operators(This Operators are used to combine conditional Statments.)"
   ]
  },
  {
   "cell_type": "code",
   "execution_count": 16,
   "id": "59889c32",
   "metadata": {},
   "outputs": [
    {
     "name": "stdout",
     "output_type": "stream",
     "text": [
      "True\n"
     ]
    }
   ],
   "source": [
    "#AND(Returns True if both statements are True)\n",
    "x=5\n",
    "print(x>3 and x<10)"
   ]
  },
  {
   "cell_type": "code",
   "execution_count": 17,
   "id": "d81b329d",
   "metadata": {},
   "outputs": [
    {
     "name": "stdout",
     "output_type": "stream",
     "text": [
      "True\n"
     ]
    }
   ],
   "source": [
    "#OR(Returns True if one statements is True)\n",
    "x=7\n",
    "print(x>4 and x<10)"
   ]
  },
  {
   "cell_type": "code",
   "execution_count": 18,
   "id": "25bcf354",
   "metadata": {},
   "outputs": [
    {
     "name": "stdout",
     "output_type": "stream",
     "text": [
      "False\n"
     ]
    }
   ],
   "source": [
    "#NOT(The Reverse Result Return False if Result is True)\n",
    "x=5\n",
    "print(not(x>3 and x<10))"
   ]
  },
  {
   "cell_type": "code",
   "execution_count": null,
   "id": "571093a4",
   "metadata": {},
   "outputs": [],
   "source": [
    "#4.Identify Operators"
   ]
  },
  {
   "cell_type": "code",
   "execution_count": 33,
   "id": "1319062f",
   "metadata": {},
   "outputs": [
    {
     "name": "stdout",
     "output_type": "stream",
     "text": [
      "True\n"
     ]
    }
   ],
   "source": [
    "#is(Return True if both variable are same object)\n",
    "X=['Maithili','Yogita','Apurva']\n",
    "Y=['Maithili','Yogita','Apurva']\n",
    "X=Y\n",
    "print(X is Y) "
   ]
  },
  {
   "cell_type": "code",
   "execution_count": 28,
   "id": "e4f90824",
   "metadata": {},
   "outputs": [
    {
     "name": "stdout",
     "output_type": "stream",
     "text": [
      "True\n"
     ]
    }
   ],
   "source": [
    "print(Y is X)"
   ]
  },
  {
   "cell_type": "code",
   "execution_count": 29,
   "id": "e57c309c",
   "metadata": {},
   "outputs": [
    {
     "name": "stdout",
     "output_type": "stream",
     "text": [
      "False\n"
     ]
    }
   ],
   "source": [
    "#is Not(Return True if both variables are not the same object)\n",
    "X=['Maithili','Yogita','Apurva']\n",
    "Y=['Maithili','Yogita','Apurva']\n",
    "X=Y\n",
    "print(X is not Y) "
   ]
  },
  {
   "cell_type": "code",
   "execution_count": 30,
   "id": "93c6018a",
   "metadata": {},
   "outputs": [
    {
     "name": "stdout",
     "output_type": "stream",
     "text": [
      "False\n"
     ]
    }
   ],
   "source": [
    "print(Y is not X)"
   ]
  },
  {
   "cell_type": "code",
   "execution_count": null,
   "id": "85ced4cf",
   "metadata": {},
   "outputs": [],
   "source": [
    "#5.Membership Oprators(it use to test if seq is present in an object)"
   ]
  },
  {
   "cell_type": "code",
   "execution_count": 31,
   "id": "d663ee7d",
   "metadata": {},
   "outputs": [
    {
     "name": "stdout",
     "output_type": "stream",
     "text": [
      "True\n"
     ]
    }
   ],
   "source": [
    "#in (return true if a seq with spesific value is present in object)\n",
    "X=['Maithili','Yogita','Apurva']\n",
    "print(\"Yogita\" in X)"
   ]
  },
  {
   "cell_type": "code",
   "execution_count": 32,
   "id": "0b1b8733",
   "metadata": {},
   "outputs": [
    {
     "name": "stdout",
     "output_type": "stream",
     "text": [
      "False\n"
     ]
    }
   ],
   "source": [
    "# NOT IN Return True if a seq with spesific value is not present in object)\n",
    "X=['Maithili','Yogita','Apurva']\n",
    "print(\"Vidusha\" in X)"
   ]
  }
 ],
 "metadata": {
  "kernelspec": {
   "display_name": "Python 3 (ipykernel)",
   "language": "python",
   "name": "python3"
  },
  "language_info": {
   "codemirror_mode": {
    "name": "ipython",
    "version": 3
   },
   "file_extension": ".py",
   "mimetype": "text/x-python",
   "name": "python",
   "nbconvert_exporter": "python",
   "pygments_lexer": "ipython3",
   "version": "3.11.7"
  }
 },
 "nbformat": 4,
 "nbformat_minor": 5
}
