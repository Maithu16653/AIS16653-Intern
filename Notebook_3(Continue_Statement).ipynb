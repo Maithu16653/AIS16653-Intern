{
  "nbformat": 4,
  "nbformat_minor": 0,
  "metadata": {
    "colab": {
      "provenance": []
    },
    "kernelspec": {
      "name": "python3",
      "display_name": "Python 3"
    },
    "language_info": {
      "name": "python"
    }
  },
  "cells": [
    {
      "cell_type": "markdown",
      "source": [
        "**Continue Statement**:The continue statement skips the current iteration of the loop and the control flow of the program goes to the next iteration."
      ],
      "metadata": {
        "id": "vqvYAhrTUmEW"
      }
    },
    {
      "cell_type": "code",
      "source": [
        "#Continue Statement with for Loop:to skip the current iteration of the loop and jump to the next iteration.\n",
        "for i in range(10):\n",
        "    if i == 2:\n",
        "        continue\n",
        "    print(i)"
      ],
      "metadata": {
        "colab": {
          "base_uri": "https://localhost:8080/"
        },
        "id": "xlwaFUPOU1qC",
        "outputId": "c7edc1f4-df54-4d4b-ca82-e30069c72b5e"
      },
      "execution_count": 2,
      "outputs": [
        {
          "output_type": "stream",
          "name": "stdout",
          "text": [
            "0\n",
            "1\n",
            "3\n",
            "4\n",
            "5\n",
            "6\n",
            "7\n",
            "8\n",
            "9\n"
          ]
        }
      ]
    },
    {
      "cell_type": "code",
      "source": [
        "#Continue Statement with while Loop\n",
        "# Program to print odd numbers from 1 to 10\n",
        "x= 0\n",
        "\n",
        "while x < 10:\n",
        "    x+= 1\n",
        "\n",
        "    if (x % 2) == 0:\n",
        "        continue\n",
        "\n",
        "    print(x)"
      ],
      "metadata": {
        "colab": {
          "base_uri": "https://localhost:8080/"
        },
        "id": "OK0zDNN0VVyC",
        "outputId": "84dbdf95-377e-4378-faed-f9d576f5ab87"
      },
      "execution_count": 5,
      "outputs": [
        {
          "output_type": "stream",
          "name": "stdout",
          "text": [
            "1\n",
            "3\n",
            "5\n",
            "7\n",
            "9\n"
          ]
        }
      ]
    },
    {
      "cell_type": "code",
      "source": [
        "#Example.1\n",
        "x = 0\n",
        "while x < 5:\n",
        "  x += 1\n",
        "  if x == 4:\n",
        "    continue\n",
        "  print(x)"
      ],
      "metadata": {
        "colab": {
          "base_uri": "https://localhost:8080/"
        },
        "id": "8QmUPvmqWvvY",
        "outputId": "c95ddc24-0e61-486c-ca5e-335d64495077"
      },
      "execution_count": 9,
      "outputs": [
        {
          "output_type": "stream",
          "name": "stdout",
          "text": [
            "1\n",
            "2\n",
            "3\n",
            "5\n"
          ]
        }
      ]
    },
    {
      "cell_type": "code",
      "source": [
        "#Example.2\n",
        "for sub in \"Mathematics\":\n",
        "    if sub == \"e\":\n",
        "        continue\n",
        "    print(sub)"
      ],
      "metadata": {
        "colab": {
          "base_uri": "https://localhost:8080/"
        },
        "id": "zHHHmA5MXMHz",
        "outputId": "d458af4c-e98b-45c7-9fec-bfa86af75a1a"
      },
      "execution_count": 10,
      "outputs": [
        {
          "output_type": "stream",
          "name": "stdout",
          "text": [
            "M\n",
            "a\n",
            "t\n",
            "h\n",
            "m\n",
            "a\n",
            "t\n",
            "i\n",
            "c\n",
            "s\n"
          ]
        }
      ]
    },
    {
      "cell_type": "code",
      "source": [
        "#Example.3\n",
        "# loop from 1 to 10\n",
        "for x in range(1, 11):\n",
        "\n",
        "    # If x is equals to 5 continue to next iteration without printing\n",
        "    if x== 5:\n",
        "        continue\n",
        "    else:\n",
        "        # otherwise print the value of x\n",
        "        print(x, end=\" \")"
      ],
      "metadata": {
        "colab": {
          "base_uri": "https://localhost:8080/"
        },
        "id": "d1iTrITbXmuu",
        "outputId": "613f74a7-ca6c-4a5c-bac5-af3aeccb321e"
      },
      "execution_count": 11,
      "outputs": [
        {
          "output_type": "stream",
          "name": "stdout",
          "text": [
            "1 2 3 4 6 7 8 9 10 "
          ]
        }
      ]
    },
    {
      "cell_type": "code",
      "source": [
        "# prints all the elements in the nested list except for the ones with value 2\n",
        "nested_list = [[1, 2, 3], [4, 5, 6], [7, 8, 9]]\n",
        "\n",
        "for i in nested_list:\n",
        "    for j in i:\n",
        "        if j == 2:\n",
        "            continue\n",
        "        print(j)"
      ],
      "metadata": {
        "colab": {
          "base_uri": "https://localhost:8080/"
        },
        "id": "x3ALiGRRYLEN",
        "outputId": "30a256cc-40e3-46eb-bb90-7470e07784c0"
      },
      "execution_count": 12,
      "outputs": [
        {
          "output_type": "stream",
          "name": "stdout",
          "text": [
            "1\n",
            "3\n",
            "4\n",
            "5\n",
            "6\n",
            "7\n",
            "8\n",
            "9\n"
          ]
        }
      ]
    }
  ]
}