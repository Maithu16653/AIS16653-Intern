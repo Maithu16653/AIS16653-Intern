{
 "cells": [
  {
   "cell_type": "code",
   "execution_count": 5,
   "id": "fd5fbd85",
   "metadata": {},
   "outputs": [],
   "source": [
    "import numpy as np \n",
    "import pandas as pd \n",
    "import matplotlib.pyplot as plt \n",
    "import seaborn as sns"
   ]
  },
  {
   "cell_type": "code",
   "execution_count": 6,
   "id": "0f13f171",
   "metadata": {},
   "outputs": [],
   "source": [
    "df=pd.read_csv(\"C:/Users/spsha/Downloads/ogt.csv\")"
   ]
  },
  {
   "cell_type": "code",
   "execution_count": 7,
   "id": "eabc4050-95f4-4fdb-92b6-237279fc3f7f",
   "metadata": {},
   "outputs": [
    {
     "data": {
      "text/html": [
       "<div>\n",
       "<style scoped>\n",
       "    .dataframe tbody tr th:only-of-type {\n",
       "        vertical-align: middle;\n",
       "    }\n",
       "\n",
       "    .dataframe tbody tr th {\n",
       "        vertical-align: top;\n",
       "    }\n",
       "\n",
       "    .dataframe thead th {\n",
       "        text-align: right;\n",
       "    }\n",
       "</style>\n",
       "<table border=\"1\" class=\"dataframe\">\n",
       "  <thead>\n",
       "    <tr style=\"text-align: right;\">\n",
       "      <th></th>\n",
       "      <th>User_ID</th>\n",
       "      <th>Gender</th>\n",
       "      <th>Age</th>\n",
       "      <th>Height</th>\n",
       "      <th>Weight</th>\n",
       "      <th>Duration</th>\n",
       "      <th>Heart_Rate</th>\n",
       "      <th>Body_Temp</th>\n",
       "      <th>Calories</th>\n",
       "    </tr>\n",
       "  </thead>\n",
       "  <tbody>\n",
       "    <tr>\n",
       "      <th>0</th>\n",
       "      <td>14733363</td>\n",
       "      <td>male</td>\n",
       "      <td>68</td>\n",
       "      <td>190</td>\n",
       "      <td>94</td>\n",
       "      <td>29</td>\n",
       "      <td>105</td>\n",
       "      <td>40.8</td>\n",
       "      <td>231</td>\n",
       "    </tr>\n",
       "    <tr>\n",
       "      <th>1</th>\n",
       "      <td>14861698</td>\n",
       "      <td>female</td>\n",
       "      <td>20</td>\n",
       "      <td>166</td>\n",
       "      <td>60</td>\n",
       "      <td>14</td>\n",
       "      <td>94</td>\n",
       "      <td>40.3</td>\n",
       "      <td>66</td>\n",
       "    </tr>\n",
       "    <tr>\n",
       "      <th>2</th>\n",
       "      <td>11179863</td>\n",
       "      <td>male</td>\n",
       "      <td>69</td>\n",
       "      <td>179</td>\n",
       "      <td>79</td>\n",
       "      <td>5</td>\n",
       "      <td>88</td>\n",
       "      <td>38.7</td>\n",
       "      <td>26</td>\n",
       "    </tr>\n",
       "    <tr>\n",
       "      <th>3</th>\n",
       "      <td>16180408</td>\n",
       "      <td>female</td>\n",
       "      <td>34</td>\n",
       "      <td>179</td>\n",
       "      <td>71</td>\n",
       "      <td>13</td>\n",
       "      <td>100</td>\n",
       "      <td>40.5</td>\n",
       "      <td>71</td>\n",
       "    </tr>\n",
       "    <tr>\n",
       "      <th>4</th>\n",
       "      <td>17771927</td>\n",
       "      <td>female</td>\n",
       "      <td>27</td>\n",
       "      <td>154</td>\n",
       "      <td>58</td>\n",
       "      <td>10</td>\n",
       "      <td>81</td>\n",
       "      <td>39.8</td>\n",
       "      <td>35</td>\n",
       "    </tr>\n",
       "    <tr>\n",
       "      <th>...</th>\n",
       "      <td>...</td>\n",
       "      <td>...</td>\n",
       "      <td>...</td>\n",
       "      <td>...</td>\n",
       "      <td>...</td>\n",
       "      <td>...</td>\n",
       "      <td>...</td>\n",
       "      <td>...</td>\n",
       "      <td>...</td>\n",
       "    </tr>\n",
       "    <tr>\n",
       "      <th>995</th>\n",
       "      <td>18278454</td>\n",
       "      <td>male</td>\n",
       "      <td>50</td>\n",
       "      <td>185</td>\n",
       "      <td>83</td>\n",
       "      <td>13</td>\n",
       "      <td>97</td>\n",
       "      <td>40.3</td>\n",
       "      <td>74</td>\n",
       "    </tr>\n",
       "    <tr>\n",
       "      <th>996</th>\n",
       "      <td>11963638</td>\n",
       "      <td>female</td>\n",
       "      <td>46</td>\n",
       "      <td>151</td>\n",
       "      <td>52</td>\n",
       "      <td>25</td>\n",
       "      <td>113</td>\n",
       "      <td>40.5</td>\n",
       "      <td>183</td>\n",
       "    </tr>\n",
       "    <tr>\n",
       "      <th>997</th>\n",
       "      <td>17277065</td>\n",
       "      <td>male</td>\n",
       "      <td>38</td>\n",
       "      <td>185</td>\n",
       "      <td>91</td>\n",
       "      <td>5</td>\n",
       "      <td>82</td>\n",
       "      <td>39.2</td>\n",
       "      <td>15</td>\n",
       "    </tr>\n",
       "    <tr>\n",
       "      <th>998</th>\n",
       "      <td>15906490</td>\n",
       "      <td>male</td>\n",
       "      <td>30</td>\n",
       "      <td>189</td>\n",
       "      <td>95</td>\n",
       "      <td>21</td>\n",
       "      <td>103</td>\n",
       "      <td>40.8</td>\n",
       "      <td>123</td>\n",
       "    </tr>\n",
       "    <tr>\n",
       "      <th>999</th>\n",
       "      <td>16325355</td>\n",
       "      <td>female</td>\n",
       "      <td>42</td>\n",
       "      <td>162</td>\n",
       "      <td>66</td>\n",
       "      <td>21</td>\n",
       "      <td>96</td>\n",
       "      <td>40.4</td>\n",
       "      <td>110</td>\n",
       "    </tr>\n",
       "  </tbody>\n",
       "</table>\n",
       "<p>1000 rows × 9 columns</p>\n",
       "</div>"
      ],
      "text/plain": [
       "      User_ID  Gender  Age  Height  Weight  Duration  Heart_Rate  Body_Temp  \\\n",
       "0    14733363    male   68     190      94        29         105       40.8   \n",
       "1    14861698  female   20     166      60        14          94       40.3   \n",
       "2    11179863    male   69     179      79         5          88       38.7   \n",
       "3    16180408  female   34     179      71        13         100       40.5   \n",
       "4    17771927  female   27     154      58        10          81       39.8   \n",
       "..        ...     ...  ...     ...     ...       ...         ...        ...   \n",
       "995  18278454    male   50     185      83        13          97       40.3   \n",
       "996  11963638  female   46     151      52        25         113       40.5   \n",
       "997  17277065    male   38     185      91         5          82       39.2   \n",
       "998  15906490    male   30     189      95        21         103       40.8   \n",
       "999  16325355  female   42     162      66        21          96       40.4   \n",
       "\n",
       "     Calories  \n",
       "0         231  \n",
       "1          66  \n",
       "2          26  \n",
       "3          71  \n",
       "4          35  \n",
       "..        ...  \n",
       "995        74  \n",
       "996       183  \n",
       "997        15  \n",
       "998       123  \n",
       "999       110  \n",
       "\n",
       "[1000 rows x 9 columns]"
      ]
     },
     "execution_count": 7,
     "metadata": {},
     "output_type": "execute_result"
    }
   ],
   "source": [
    "df"
   ]
  },
  {
   "cell_type": "code",
   "execution_count": 8,
   "id": "f19b6385-75e2-41e3-a13f-aafd3125bc44",
   "metadata": {},
   "outputs": [
    {
     "data": {
      "text/plain": [
       "Index(['Gender', 'Age', 'Height', 'Weight', 'Duration', 'Heart_Rate',\n",
       "       'Body_Temp', 'Calories'],\n",
       "      dtype='object')"
      ]
     },
     "execution_count": 8,
     "metadata": {},
     "output_type": "execute_result"
    }
   ],
   "source": [
    "df = df.drop(['User_ID'],axis=1)\n",
    "df.columns"
   ]
  },
  {
   "cell_type": "code",
   "execution_count": 9,
   "id": "a72ad297",
   "metadata": {},
   "outputs": [
    {
     "name": "stdout",
     "output_type": "stream",
     "text": [
      "<class 'pandas.core.frame.DataFrame'>\n",
      "RangeIndex: 1000 entries, 0 to 999\n",
      "Data columns (total 8 columns):\n",
      " #   Column      Non-Null Count  Dtype  \n",
      "---  ------      --------------  -----  \n",
      " 0   Gender      1000 non-null   object \n",
      " 1   Age         1000 non-null   int64  \n",
      " 2   Height      1000 non-null   int64  \n",
      " 3   Weight      1000 non-null   int64  \n",
      " 4   Duration    1000 non-null   int64  \n",
      " 5   Heart_Rate  1000 non-null   int64  \n",
      " 6   Body_Temp   1000 non-null   float64\n",
      " 7   Calories    1000 non-null   int64  \n",
      "dtypes: float64(1), int64(6), object(1)\n",
      "memory usage: 62.6+ KB\n"
     ]
    }
   ],
   "source": [
    "df.info()"
   ]
  },
  {
   "cell_type": "code",
   "execution_count": 10,
   "id": "3516558c",
   "metadata": {},
   "outputs": [
    {
     "name": "stdout",
     "output_type": "stream",
     "text": [
      "Number of Rows: 1000\n",
      "Number of Columns: 8\n"
     ]
    }
   ],
   "source": [
    "# Shape of Dataset - (Num of Rows and Num of Columns)\n",
    "df.shape\n",
    "print(\"Number of Rows:\",df.shape[0])\n",
    "print(\"Number of Columns:\",df.shape[1])"
   ]
  },
  {
   "cell_type": "code",
   "execution_count": 11,
   "id": "749ba305-9eae-4f0b-8714-a4aca61a903e",
   "metadata": {},
   "outputs": [],
   "source": [
    "from sklearn.preprocessing import LabelEncoder\n",
    "cols=['Gender']\n",
    "l = LabelEncoder()\n",
    "\n",
    "for col in cols:\n",
    "    df[col]=l.fit_transform(df[col])"
   ]
  },
  {
   "cell_type": "code",
   "execution_count": 12,
   "id": "b9e194dc-c091-4546-b93a-4a6d766d7c52",
   "metadata": {},
   "outputs": [
    {
     "data": {
      "text/html": [
       "<div>\n",
       "<style scoped>\n",
       "    .dataframe tbody tr th:only-of-type {\n",
       "        vertical-align: middle;\n",
       "    }\n",
       "\n",
       "    .dataframe tbody tr th {\n",
       "        vertical-align: top;\n",
       "    }\n",
       "\n",
       "    .dataframe thead th {\n",
       "        text-align: right;\n",
       "    }\n",
       "</style>\n",
       "<table border=\"1\" class=\"dataframe\">\n",
       "  <thead>\n",
       "    <tr style=\"text-align: right;\">\n",
       "      <th></th>\n",
       "      <th>Gender</th>\n",
       "      <th>Age</th>\n",
       "      <th>Height</th>\n",
       "      <th>Weight</th>\n",
       "      <th>Duration</th>\n",
       "      <th>Heart_Rate</th>\n",
       "      <th>Body_Temp</th>\n",
       "      <th>Calories</th>\n",
       "    </tr>\n",
       "  </thead>\n",
       "  <tbody>\n",
       "    <tr>\n",
       "      <th>0</th>\n",
       "      <td>1</td>\n",
       "      <td>68</td>\n",
       "      <td>190</td>\n",
       "      <td>94</td>\n",
       "      <td>29</td>\n",
       "      <td>105</td>\n",
       "      <td>40.8</td>\n",
       "      <td>231</td>\n",
       "    </tr>\n",
       "    <tr>\n",
       "      <th>1</th>\n",
       "      <td>0</td>\n",
       "      <td>20</td>\n",
       "      <td>166</td>\n",
       "      <td>60</td>\n",
       "      <td>14</td>\n",
       "      <td>94</td>\n",
       "      <td>40.3</td>\n",
       "      <td>66</td>\n",
       "    </tr>\n",
       "    <tr>\n",
       "      <th>2</th>\n",
       "      <td>1</td>\n",
       "      <td>69</td>\n",
       "      <td>179</td>\n",
       "      <td>79</td>\n",
       "      <td>5</td>\n",
       "      <td>88</td>\n",
       "      <td>38.7</td>\n",
       "      <td>26</td>\n",
       "    </tr>\n",
       "    <tr>\n",
       "      <th>3</th>\n",
       "      <td>0</td>\n",
       "      <td>34</td>\n",
       "      <td>179</td>\n",
       "      <td>71</td>\n",
       "      <td>13</td>\n",
       "      <td>100</td>\n",
       "      <td>40.5</td>\n",
       "      <td>71</td>\n",
       "    </tr>\n",
       "    <tr>\n",
       "      <th>4</th>\n",
       "      <td>0</td>\n",
       "      <td>27</td>\n",
       "      <td>154</td>\n",
       "      <td>58</td>\n",
       "      <td>10</td>\n",
       "      <td>81</td>\n",
       "      <td>39.8</td>\n",
       "      <td>35</td>\n",
       "    </tr>\n",
       "    <tr>\n",
       "      <th>...</th>\n",
       "      <td>...</td>\n",
       "      <td>...</td>\n",
       "      <td>...</td>\n",
       "      <td>...</td>\n",
       "      <td>...</td>\n",
       "      <td>...</td>\n",
       "      <td>...</td>\n",
       "      <td>...</td>\n",
       "    </tr>\n",
       "    <tr>\n",
       "      <th>995</th>\n",
       "      <td>1</td>\n",
       "      <td>50</td>\n",
       "      <td>185</td>\n",
       "      <td>83</td>\n",
       "      <td>13</td>\n",
       "      <td>97</td>\n",
       "      <td>40.3</td>\n",
       "      <td>74</td>\n",
       "    </tr>\n",
       "    <tr>\n",
       "      <th>996</th>\n",
       "      <td>0</td>\n",
       "      <td>46</td>\n",
       "      <td>151</td>\n",
       "      <td>52</td>\n",
       "      <td>25</td>\n",
       "      <td>113</td>\n",
       "      <td>40.5</td>\n",
       "      <td>183</td>\n",
       "    </tr>\n",
       "    <tr>\n",
       "      <th>997</th>\n",
       "      <td>1</td>\n",
       "      <td>38</td>\n",
       "      <td>185</td>\n",
       "      <td>91</td>\n",
       "      <td>5</td>\n",
       "      <td>82</td>\n",
       "      <td>39.2</td>\n",
       "      <td>15</td>\n",
       "    </tr>\n",
       "    <tr>\n",
       "      <th>998</th>\n",
       "      <td>1</td>\n",
       "      <td>30</td>\n",
       "      <td>189</td>\n",
       "      <td>95</td>\n",
       "      <td>21</td>\n",
       "      <td>103</td>\n",
       "      <td>40.8</td>\n",
       "      <td>123</td>\n",
       "    </tr>\n",
       "    <tr>\n",
       "      <th>999</th>\n",
       "      <td>0</td>\n",
       "      <td>42</td>\n",
       "      <td>162</td>\n",
       "      <td>66</td>\n",
       "      <td>21</td>\n",
       "      <td>96</td>\n",
       "      <td>40.4</td>\n",
       "      <td>110</td>\n",
       "    </tr>\n",
       "  </tbody>\n",
       "</table>\n",
       "<p>1000 rows × 8 columns</p>\n",
       "</div>"
      ],
      "text/plain": [
       "     Gender  Age  Height  Weight  Duration  Heart_Rate  Body_Temp  Calories\n",
       "0         1   68     190      94        29         105       40.8       231\n",
       "1         0   20     166      60        14          94       40.3        66\n",
       "2         1   69     179      79         5          88       38.7        26\n",
       "3         0   34     179      71        13         100       40.5        71\n",
       "4         0   27     154      58        10          81       39.8        35\n",
       "..      ...  ...     ...     ...       ...         ...        ...       ...\n",
       "995       1   50     185      83        13          97       40.3        74\n",
       "996       0   46     151      52        25         113       40.5       183\n",
       "997       1   38     185      91         5          82       39.2        15\n",
       "998       1   30     189      95        21         103       40.8       123\n",
       "999       0   42     162      66        21          96       40.4       110\n",
       "\n",
       "[1000 rows x 8 columns]"
      ]
     },
     "execution_count": 12,
     "metadata": {},
     "output_type": "execute_result"
    }
   ],
   "source": [
    "df"
   ]
  },
  {
   "cell_type": "markdown",
   "id": "345e84e8",
   "metadata": {},
   "source": [
    "# Checking Missing values in dataset"
   ]
  },
  {
   "cell_type": "code",
   "execution_count": 13,
   "id": "76eee8a9",
   "metadata": {},
   "outputs": [
    {
     "data": {
      "text/plain": [
       "Gender        0\n",
       "Age           0\n",
       "Height        0\n",
       "Weight        0\n",
       "Duration      0\n",
       "Heart_Rate    0\n",
       "Body_Temp     0\n",
       "Calories      0\n",
       "dtype: int64"
      ]
     },
     "execution_count": 13,
     "metadata": {},
     "output_type": "execute_result"
    }
   ],
   "source": [
    "df.isnull().sum()"
   ]
  },
  {
   "cell_type": "code",
   "execution_count": 14,
   "id": "234b2cac",
   "metadata": {},
   "outputs": [
    {
     "data": {
      "text/html": [
       "<div>\n",
       "<style scoped>\n",
       "    .dataframe tbody tr th:only-of-type {\n",
       "        vertical-align: middle;\n",
       "    }\n",
       "\n",
       "    .dataframe tbody tr th {\n",
       "        vertical-align: top;\n",
       "    }\n",
       "\n",
       "    .dataframe thead th {\n",
       "        text-align: right;\n",
       "    }\n",
       "</style>\n",
       "<table border=\"1\" class=\"dataframe\">\n",
       "  <thead>\n",
       "    <tr style=\"text-align: right;\">\n",
       "      <th></th>\n",
       "      <th>Gender</th>\n",
       "      <th>Age</th>\n",
       "      <th>Height</th>\n",
       "      <th>Weight</th>\n",
       "      <th>Duration</th>\n",
       "      <th>Heart_Rate</th>\n",
       "      <th>Body_Temp</th>\n",
       "      <th>Calories</th>\n",
       "    </tr>\n",
       "  </thead>\n",
       "  <tbody>\n",
       "    <tr>\n",
       "      <th>count</th>\n",
       "      <td>1000.00000</td>\n",
       "      <td>1000.000000</td>\n",
       "      <td>1000.000000</td>\n",
       "      <td>1000.000000</td>\n",
       "      <td>1000.00000</td>\n",
       "      <td>1000.000000</td>\n",
       "      <td>1000.000000</td>\n",
       "      <td>1000.000000</td>\n",
       "    </tr>\n",
       "    <tr>\n",
       "      <th>mean</th>\n",
       "      <td>0.51000</td>\n",
       "      <td>42.964000</td>\n",
       "      <td>174.859000</td>\n",
       "      <td>75.503000</td>\n",
       "      <td>15.76200</td>\n",
       "      <td>95.939000</td>\n",
       "      <td>40.047200</td>\n",
       "      <td>92.033000</td>\n",
       "    </tr>\n",
       "    <tr>\n",
       "      <th>std</th>\n",
       "      <td>0.50015</td>\n",
       "      <td>16.430114</td>\n",
       "      <td>14.347856</td>\n",
       "      <td>15.089987</td>\n",
       "      <td>8.31965</td>\n",
       "      <td>9.681064</td>\n",
       "      <td>0.766942</td>\n",
       "      <td>62.853309</td>\n",
       "    </tr>\n",
       "    <tr>\n",
       "      <th>min</th>\n",
       "      <td>0.00000</td>\n",
       "      <td>20.000000</td>\n",
       "      <td>132.000000</td>\n",
       "      <td>38.000000</td>\n",
       "      <td>1.00000</td>\n",
       "      <td>69.000000</td>\n",
       "      <td>37.500000</td>\n",
       "      <td>1.000000</td>\n",
       "    </tr>\n",
       "    <tr>\n",
       "      <th>25%</th>\n",
       "      <td>0.00000</td>\n",
       "      <td>29.000000</td>\n",
       "      <td>164.000000</td>\n",
       "      <td>63.000000</td>\n",
       "      <td>8.75000</td>\n",
       "      <td>89.000000</td>\n",
       "      <td>39.600000</td>\n",
       "      <td>36.750000</td>\n",
       "    </tr>\n",
       "    <tr>\n",
       "      <th>50%</th>\n",
       "      <td>1.00000</td>\n",
       "      <td>40.000000</td>\n",
       "      <td>174.000000</td>\n",
       "      <td>75.000000</td>\n",
       "      <td>16.00000</td>\n",
       "      <td>96.500000</td>\n",
       "      <td>40.250000</td>\n",
       "      <td>83.000000</td>\n",
       "    </tr>\n",
       "    <tr>\n",
       "      <th>75%</th>\n",
       "      <td>1.00000</td>\n",
       "      <td>56.000000</td>\n",
       "      <td>186.000000</td>\n",
       "      <td>87.000000</td>\n",
       "      <td>23.00000</td>\n",
       "      <td>103.000000</td>\n",
       "      <td>40.600000</td>\n",
       "      <td>141.000000</td>\n",
       "    </tr>\n",
       "    <tr>\n",
       "      <th>max</th>\n",
       "      <td>1.00000</td>\n",
       "      <td>79.000000</td>\n",
       "      <td>212.000000</td>\n",
       "      <td>115.000000</td>\n",
       "      <td>30.00000</td>\n",
       "      <td>123.000000</td>\n",
       "      <td>41.400000</td>\n",
       "      <td>314.000000</td>\n",
       "    </tr>\n",
       "  </tbody>\n",
       "</table>\n",
       "</div>"
      ],
      "text/plain": [
       "           Gender          Age       Height       Weight    Duration  \\\n",
       "count  1000.00000  1000.000000  1000.000000  1000.000000  1000.00000   \n",
       "mean      0.51000    42.964000   174.859000    75.503000    15.76200   \n",
       "std       0.50015    16.430114    14.347856    15.089987     8.31965   \n",
       "min       0.00000    20.000000   132.000000    38.000000     1.00000   \n",
       "25%       0.00000    29.000000   164.000000    63.000000     8.75000   \n",
       "50%       1.00000    40.000000   174.000000    75.000000    16.00000   \n",
       "75%       1.00000    56.000000   186.000000    87.000000    23.00000   \n",
       "max       1.00000    79.000000   212.000000   115.000000    30.00000   \n",
       "\n",
       "        Heart_Rate    Body_Temp     Calories  \n",
       "count  1000.000000  1000.000000  1000.000000  \n",
       "mean     95.939000    40.047200    92.033000  \n",
       "std       9.681064     0.766942    62.853309  \n",
       "min      69.000000    37.500000     1.000000  \n",
       "25%      89.000000    39.600000    36.750000  \n",
       "50%      96.500000    40.250000    83.000000  \n",
       "75%     103.000000    40.600000   141.000000  \n",
       "max     123.000000    41.400000   314.000000  "
      ]
     },
     "execution_count": 14,
     "metadata": {},
     "output_type": "execute_result"
    }
   ],
   "source": [
    "# To get statistics about the dataframe \n",
    "df.describe()"
   ]
  },
  {
   "cell_type": "markdown",
   "id": "d86fea0a-aa67-457c-b333-6b301948be78",
   "metadata": {},
   "source": [
    "# K-Nearest Neighbor Algorithm"
   ]
  },
  {
   "cell_type": "code",
   "execution_count": 14,
   "id": "f083b7ca",
   "metadata": {},
   "outputs": [],
   "source": [
    "import pandas as pd\n",
    "from sklearn.model_selection import train_test_split, GridSearchCV\n",
    "from sklearn.preprocessing import StandardScaler\n",
    "from sklearn.linear_model import Ridge\n",
    "from sklearn.metrics import mean_squared_error, r2_score\n",
    "from sklearn.neighbors import KNeighborsRegressor\n",
    "import numpy as np"
   ]
  },
  {
   "cell_type": "code",
   "execution_count": 15,
   "id": "f3204187-9798-4326-91a2-1df07585a476",
   "metadata": {},
   "outputs": [],
   "source": [
    "#Key Points:\n",
    "#Data Inspection: It is important to inspect the data types of each column to identify which columns need encoding.\n",
    "#One-Hot Encoding: Convert all categorical columns to numerical using one-hot encoding.\n",
    "#Handle Missing Values: Ensure all missing values are handled appropriately.\n",
    "#Standardization: Only standardize numeric columns to have a mean of 0 and a standard deviation of 1.\n",
    "#Troubleshooting Tips:\n",
    "#Check for Additional Categorical Data: Ensure there are no other string columns that need encoding.\n",
    "#Missing Values: Confirm that missing values are filled appropriately to avoid NaNs.\n",
    "#Data Types: Double-check that after encoding and filling missing values, all columns are numeric.\n",
    "#By following these steps, you should be able to resolve the error and successfully apply the KNN algorithm to your dataset.\n",
    "#If you still encounter issues, please provide more details or a sample of the dataset for further troubleshooting."
   ]
  },
  {
   "cell_type": "code",
   "execution_count": 17,
   "id": "a0c2867b-fbb5-4df8-9b57-3ab94a142cdd",
   "metadata": {},
   "outputs": [
    {
     "name": "stdout",
     "output_type": "stream",
     "text": [
      "Mean Squared Error: 90.25602040816325\n",
      "Root Mean Squared Error: 9.500316858303371\n",
      "R Squared: 0.9772225956745747\n"
     ]
    }
   ],
   "source": [
    "# Feature selection (exclude categorical and text features for simplicity)\n",
    "features = df[['Gender','Age','Height','Weight','Duration','Heart_Rate','Body_Temp']]\n",
    "target =df['Calories']\n",
    "\n",
    "# Split the data\n",
    "X_train, X_test, Y_train, Y_test = train_test_split(features, target, test_size=0.2, random_state=42)\n",
    "\n",
    "# Standardize the features\n",
    "scaler = StandardScaler()\n",
    "X_train_scaled = scaler.fit_transform(X_train)\n",
    "X_test_scaled = scaler.transform(X_test)\n",
    "\n",
    "# Train a kNN Regression model\n",
    "k = 7  # Number of neighbors\n",
    "knn_model = KNeighborsRegressor(n_neighbors=k)\n",
    "knn_model.fit(X_train_scaled, Y_train)\n",
    "\n",
    "Y_pred = knn_model.predict(X_test_scaled)\n",
    "mse = mean_squared_error(Y_test, Y_pred)\n",
    "print(f'Mean Squared Error: {mse}')\n",
    "rmse= np.sqrt(mse)\n",
    "print(f'Root Mean Squared Error: {rmse}')\n",
    "r2=r2_score(Y_test, Y_pred)\n",
    "print(f'R Squared: {r2}')"
   ]
  },
  {
   "cell_type": "code",
   "execution_count": 18,
   "id": "994bded5-7901-41d0-9197-4967dd018209",
   "metadata": {},
   "outputs": [
    {
     "name": "stdout",
     "output_type": "stream",
     "text": [
      "Best Parameters: {'metric': 'euclidean', 'n_neighbors': 7, 'weights': 'distance'}\n",
      "Mean Squared Error: 84.56238974287317\n",
      "Root Mean Squared Error: 9.195781083892394\n",
      "R Squared: 0.9786594652280568\n"
     ]
    }
   ],
   "source": [
    "# Define the kNN model\n",
    "knn = KNeighborsRegressor()\n",
    "\n",
    "# Define the grid of hyperparameters\n",
    "param_grid = {\n",
    "    'n_neighbors': [3, 5, 7, 9, 11],\n",
    "    'weights': ['uniform', 'distance'],\n",
    "    'metric': ['euclidean', 'manhattan', 'minkowski']\n",
    "}\n",
    "\n",
    "# Perform grid search\n",
    "grid_search = GridSearchCV(knn, param_grid, cv=5, scoring='neg_mean_squared_error')\n",
    "grid_search.fit(X_train_scaled, Y_train)\n",
    "\n",
    "# Get the best parameters and best model\n",
    "best_params = grid_search.best_params_\n",
    "best_model = grid_search.best_estimator_\n",
    "\n",
    "print(f\"Best Parameters: {best_params}\")\n",
    "\n",
    "# Predict and evaluate\n",
    "Y_pred = best_model.predict(X_test_scaled)\n",
    "mse = mean_squared_error(Y_test, Y_pred)\n",
    "print(f'Mean Squared Error: {mse}')\n",
    "rmse= np.sqrt(mse)\n",
    "print(f'Root Mean Squared Error: {rmse}')\n",
    "r2=r2_score(Y_test, Y_pred)\n",
    "print(f'R Squared: {r2}')"
   ]
  },
  {
   "cell_type": "markdown",
   "id": "84106d25-be50-4863-ae53-288e73e9a269",
   "metadata": {},
   "source": [
    "# Neural Network Regressor"
   ]
  },
  {
   "cell_type": "code",
   "execution_count": 19,
   "id": "d42ec87b-aef9-4ed7-b255-5aaf61604459",
   "metadata": {},
   "outputs": [],
   "source": [
    "import pandas as pd\n",
    "from sklearn.model_selection import train_test_split\n",
    "from sklearn.preprocessing import StandardScaler\n",
    "from sklearn.metrics import mean_squared_error\n",
    "from keras.models import Sequential\n",
    "from keras.layers import Dense, Activation\n",
    "import numpy as np"
   ]
  },
  {
   "cell_type": "code",
   "execution_count": 20,
   "id": "5ff8fb1f-5cfd-4a01-a71e-c896f4c2d6c5",
   "metadata": {},
   "outputs": [
    {
     "name": "stderr",
     "output_type": "stream",
     "text": [
      "C:\\Users\\spsha\\anaconda3\\Lib\\site-packages\\keras\\src\\layers\\core\\dense.py:87: UserWarning: Do not pass an `input_shape`/`input_dim` argument to a layer. When using Sequential models, prefer using an `Input(shape)` object as the first layer in the model instead.\n",
      "  super().__init__(activity_regularizer=activity_regularizer, **kwargs)\n"
     ]
    },
    {
     "name": "stdout",
     "output_type": "stream",
     "text": [
      "Epoch 1/50\n",
      "\u001b[1m64/64\u001b[0m \u001b[32m━━━━━━━━━━━━━━━━━━━━\u001b[0m\u001b[37m\u001b[0m \u001b[1m3s\u001b[0m 8ms/step - loss: 11973.0625 - val_loss: 12295.8359\n",
      "Epoch 2/50\n",
      "\u001b[1m64/64\u001b[0m \u001b[32m━━━━━━━━━━━━━━━━━━━━\u001b[0m\u001b[37m\u001b[0m \u001b[1m0s\u001b[0m 3ms/step - loss: 10287.8545 - val_loss: 8355.1768\n",
      "Epoch 3/50\n",
      "\u001b[1m64/64\u001b[0m \u001b[32m━━━━━━━━━━━━━━━━━━━━\u001b[0m\u001b[37m\u001b[0m \u001b[1m0s\u001b[0m 3ms/step - loss: 6277.4463 - val_loss: 1811.6946\n",
      "Epoch 4/50\n",
      "\u001b[1m64/64\u001b[0m \u001b[32m━━━━━━━━━━━━━━━━━━━━\u001b[0m\u001b[37m\u001b[0m \u001b[1m0s\u001b[0m 3ms/step - loss: 845.2130 - val_loss: 201.1003\n",
      "Epoch 5/50\n",
      "\u001b[1m64/64\u001b[0m \u001b[32m━━━━━━━━━━━━━━━━━━━━\u001b[0m\u001b[37m\u001b[0m \u001b[1m0s\u001b[0m 3ms/step - loss: 205.1146 - val_loss: 178.0926\n",
      "Epoch 6/50\n",
      "\u001b[1m64/64\u001b[0m \u001b[32m━━━━━━━━━━━━━━━━━━━━\u001b[0m\u001b[37m\u001b[0m \u001b[1m0s\u001b[0m 3ms/step - loss: 183.4164 - val_loss: 161.2496\n",
      "Epoch 7/50\n",
      "\u001b[1m64/64\u001b[0m \u001b[32m━━━━━━━━━━━━━━━━━━━━\u001b[0m\u001b[37m\u001b[0m \u001b[1m0s\u001b[0m 3ms/step - loss: 147.0468 - val_loss: 148.3576\n",
      "Epoch 8/50\n",
      "\u001b[1m64/64\u001b[0m \u001b[32m━━━━━━━━━━━━━━━━━━━━\u001b[0m\u001b[37m\u001b[0m \u001b[1m0s\u001b[0m 3ms/step - loss: 142.9657 - val_loss: 137.7110\n",
      "Epoch 9/50\n",
      "\u001b[1m64/64\u001b[0m \u001b[32m━━━━━━━━━━━━━━━━━━━━\u001b[0m\u001b[37m\u001b[0m \u001b[1m0s\u001b[0m 3ms/step - loss: 141.6738 - val_loss: 127.8127\n",
      "Epoch 10/50\n",
      "\u001b[1m64/64\u001b[0m \u001b[32m━━━━━━━━━━━━━━━━━━━━\u001b[0m\u001b[37m\u001b[0m \u001b[1m0s\u001b[0m 2ms/step - loss: 126.3809 - val_loss: 117.0548\n",
      "Epoch 11/50\n",
      "\u001b[1m64/64\u001b[0m \u001b[32m━━━━━━━━━━━━━━━━━━━━\u001b[0m\u001b[37m\u001b[0m \u001b[1m0s\u001b[0m 3ms/step - loss: 130.1589 - val_loss: 109.7859\n",
      "Epoch 12/50\n",
      "\u001b[1m64/64\u001b[0m \u001b[32m━━━━━━━━━━━━━━━━━━━━\u001b[0m\u001b[37m\u001b[0m \u001b[1m0s\u001b[0m 3ms/step - loss: 115.3898 - val_loss: 101.2352\n",
      "Epoch 13/50\n",
      "\u001b[1m64/64\u001b[0m \u001b[32m━━━━━━━━━━━━━━━━━━━━\u001b[0m\u001b[37m\u001b[0m \u001b[1m0s\u001b[0m 2ms/step - loss: 101.9691 - val_loss: 95.0254\n",
      "Epoch 14/50\n",
      "\u001b[1m64/64\u001b[0m \u001b[32m━━━━━━━━━━━━━━━━━━━━\u001b[0m\u001b[37m\u001b[0m \u001b[1m0s\u001b[0m 3ms/step - loss: 97.7383 - val_loss: 87.9307\n",
      "Epoch 15/50\n",
      "\u001b[1m64/64\u001b[0m \u001b[32m━━━━━━━━━━━━━━━━━━━━\u001b[0m\u001b[37m\u001b[0m \u001b[1m0s\u001b[0m 4ms/step - loss: 85.0833 - val_loss: 80.6198\n",
      "Epoch 16/50\n",
      "\u001b[1m64/64\u001b[0m \u001b[32m━━━━━━━━━━━━━━━━━━━━\u001b[0m\u001b[37m\u001b[0m \u001b[1m0s\u001b[0m 3ms/step - loss: 79.3488 - val_loss: 74.6740\n",
      "Epoch 17/50\n",
      "\u001b[1m64/64\u001b[0m \u001b[32m━━━━━━━━━━━━━━━━━━━━\u001b[0m\u001b[37m\u001b[0m \u001b[1m0s\u001b[0m 3ms/step - loss: 79.6881 - val_loss: 72.4893\n",
      "Epoch 18/50\n",
      "\u001b[1m64/64\u001b[0m \u001b[32m━━━━━━━━━━━━━━━━━━━━\u001b[0m\u001b[37m\u001b[0m \u001b[1m0s\u001b[0m 3ms/step - loss: 69.1622 - val_loss: 65.2208\n",
      "Epoch 19/50\n",
      "\u001b[1m64/64\u001b[0m \u001b[32m━━━━━━━━━━━━━━━━━━━━\u001b[0m\u001b[37m\u001b[0m \u001b[1m0s\u001b[0m 3ms/step - loss: 61.6966 - val_loss: 59.7512\n",
      "Epoch 20/50\n",
      "\u001b[1m64/64\u001b[0m \u001b[32m━━━━━━━━━━━━━━━━━━━━\u001b[0m\u001b[37m\u001b[0m \u001b[1m0s\u001b[0m 3ms/step - loss: 57.8490 - val_loss: 56.0373\n",
      "Epoch 21/50\n",
      "\u001b[1m64/64\u001b[0m \u001b[32m━━━━━━━━━━━━━━━━━━━━\u001b[0m\u001b[37m\u001b[0m \u001b[1m0s\u001b[0m 3ms/step - loss: 58.6209 - val_loss: 56.5174\n",
      "Epoch 22/50\n",
      "\u001b[1m64/64\u001b[0m \u001b[32m━━━━━━━━━━━━━━━━━━━━\u001b[0m\u001b[37m\u001b[0m \u001b[1m0s\u001b[0m 3ms/step - loss: 55.5096 - val_loss: 48.9150\n",
      "Epoch 23/50\n",
      "\u001b[1m64/64\u001b[0m \u001b[32m━━━━━━━━━━━━━━━━━━━━\u001b[0m\u001b[37m\u001b[0m \u001b[1m0s\u001b[0m 3ms/step - loss: 51.5233 - val_loss: 43.9621\n",
      "Epoch 24/50\n",
      "\u001b[1m64/64\u001b[0m \u001b[32m━━━━━━━━━━━━━━━━━━━━\u001b[0m\u001b[37m\u001b[0m \u001b[1m0s\u001b[0m 3ms/step - loss: 43.3671 - val_loss: 40.5500\n",
      "Epoch 25/50\n",
      "\u001b[1m64/64\u001b[0m \u001b[32m━━━━━━━━━━━━━━━━━━━━\u001b[0m\u001b[37m\u001b[0m \u001b[1m0s\u001b[0m 3ms/step - loss: 41.4421 - val_loss: 38.1169\n",
      "Epoch 26/50\n",
      "\u001b[1m64/64\u001b[0m \u001b[32m━━━━━━━━━━━━━━━━━━━━\u001b[0m\u001b[37m\u001b[0m \u001b[1m0s\u001b[0m 3ms/step - loss: 36.8788 - val_loss: 35.6619\n",
      "Epoch 27/50\n",
      "\u001b[1m64/64\u001b[0m \u001b[32m━━━━━━━━━━━━━━━━━━━━\u001b[0m\u001b[37m\u001b[0m \u001b[1m0s\u001b[0m 3ms/step - loss: 39.6556 - val_loss: 31.7320\n",
      "Epoch 28/50\n",
      "\u001b[1m64/64\u001b[0m \u001b[32m━━━━━━━━━━━━━━━━━━━━\u001b[0m\u001b[37m\u001b[0m \u001b[1m0s\u001b[0m 3ms/step - loss: 27.1964 - val_loss: 33.4665\n",
      "Epoch 29/50\n",
      "\u001b[1m64/64\u001b[0m \u001b[32m━━━━━━━━━━━━━━━━━━━━\u001b[0m\u001b[37m\u001b[0m \u001b[1m0s\u001b[0m 3ms/step - loss: 27.7821 - val_loss: 27.6513\n",
      "Epoch 30/50\n",
      "\u001b[1m64/64\u001b[0m \u001b[32m━━━━━━━━━━━━━━━━━━━━\u001b[0m\u001b[37m\u001b[0m \u001b[1m0s\u001b[0m 3ms/step - loss: 26.8569 - val_loss: 26.2169\n",
      "Epoch 31/50\n",
      "\u001b[1m64/64\u001b[0m \u001b[32m━━━━━━━━━━━━━━━━━━━━\u001b[0m\u001b[37m\u001b[0m \u001b[1m0s\u001b[0m 3ms/step - loss: 20.2078 - val_loss: 24.0135\n",
      "Epoch 32/50\n",
      "\u001b[1m64/64\u001b[0m \u001b[32m━━━━━━━━━━━━━━━━━━━━\u001b[0m\u001b[37m\u001b[0m \u001b[1m0s\u001b[0m 4ms/step - loss: 21.9825 - val_loss: 23.1984\n",
      "Epoch 33/50\n",
      "\u001b[1m64/64\u001b[0m \u001b[32m━━━━━━━━━━━━━━━━━━━━\u001b[0m\u001b[37m\u001b[0m \u001b[1m0s\u001b[0m 3ms/step - loss: 23.5061 - val_loss: 19.7666\n",
      "Epoch 34/50\n",
      "\u001b[1m64/64\u001b[0m \u001b[32m━━━━━━━━━━━━━━━━━━━━\u001b[0m\u001b[37m\u001b[0m \u001b[1m0s\u001b[0m 3ms/step - loss: 22.3158 - val_loss: 18.3380\n",
      "Epoch 35/50\n",
      "\u001b[1m64/64\u001b[0m \u001b[32m━━━━━━━━━━━━━━━━━━━━\u001b[0m\u001b[37m\u001b[0m \u001b[1m0s\u001b[0m 2ms/step - loss: 14.6832 - val_loss: 19.6852\n",
      "Epoch 36/50\n",
      "\u001b[1m64/64\u001b[0m \u001b[32m━━━━━━━━━━━━━━━━━━━━\u001b[0m\u001b[37m\u001b[0m \u001b[1m0s\u001b[0m 3ms/step - loss: 16.4402 - val_loss: 16.3413\n",
      "Epoch 37/50\n",
      "\u001b[1m64/64\u001b[0m \u001b[32m━━━━━━━━━━━━━━━━━━━━\u001b[0m\u001b[37m\u001b[0m \u001b[1m0s\u001b[0m 3ms/step - loss: 15.9047 - val_loss: 13.9835\n",
      "Epoch 38/50\n",
      "\u001b[1m64/64\u001b[0m \u001b[32m━━━━━━━━━━━━━━━━━━━━\u001b[0m\u001b[37m\u001b[0m \u001b[1m0s\u001b[0m 3ms/step - loss: 11.9662 - val_loss: 12.7720\n",
      "Epoch 39/50\n",
      "\u001b[1m64/64\u001b[0m \u001b[32m━━━━━━━━━━━━━━━━━━━━\u001b[0m\u001b[37m\u001b[0m \u001b[1m0s\u001b[0m 3ms/step - loss: 10.7970 - val_loss: 12.1782\n",
      "Epoch 40/50\n",
      "\u001b[1m64/64\u001b[0m \u001b[32m━━━━━━━━━━━━━━━━━━━━\u001b[0m\u001b[37m\u001b[0m \u001b[1m0s\u001b[0m 3ms/step - loss: 10.9350 - val_loss: 10.8395\n",
      "Epoch 41/50\n",
      "\u001b[1m64/64\u001b[0m \u001b[32m━━━━━━━━━━━━━━━━━━━━\u001b[0m\u001b[37m\u001b[0m \u001b[1m0s\u001b[0m 3ms/step - loss: 11.2253 - val_loss: 9.5206\n",
      "Epoch 42/50\n",
      "\u001b[1m64/64\u001b[0m \u001b[32m━━━━━━━━━━━━━━━━━━━━\u001b[0m\u001b[37m\u001b[0m \u001b[1m0s\u001b[0m 3ms/step - loss: 9.3297 - val_loss: 9.1265\n",
      "Epoch 43/50\n",
      "\u001b[1m64/64\u001b[0m \u001b[32m━━━━━━━━━━━━━━━━━━━━\u001b[0m\u001b[37m\u001b[0m \u001b[1m0s\u001b[0m 3ms/step - loss: 8.9128 - val_loss: 10.1286\n",
      "Epoch 44/50\n",
      "\u001b[1m64/64\u001b[0m \u001b[32m━━━━━━━━━━━━━━━━━━━━\u001b[0m\u001b[37m\u001b[0m \u001b[1m0s\u001b[0m 3ms/step - loss: 8.0601 - val_loss: 10.7713\n",
      "Epoch 45/50\n",
      "\u001b[1m64/64\u001b[0m \u001b[32m━━━━━━━━━━━━━━━━━━━━\u001b[0m\u001b[37m\u001b[0m \u001b[1m0s\u001b[0m 3ms/step - loss: 6.6636 - val_loss: 8.1161\n",
      "Epoch 46/50\n",
      "\u001b[1m64/64\u001b[0m \u001b[32m━━━━━━━━━━━━━━━━━━━━\u001b[0m\u001b[37m\u001b[0m \u001b[1m0s\u001b[0m 3ms/step - loss: 7.7759 - val_loss: 7.5270\n",
      "Epoch 47/50\n",
      "\u001b[1m64/64\u001b[0m \u001b[32m━━━━━━━━━━━━━━━━━━━━\u001b[0m\u001b[37m\u001b[0m \u001b[1m0s\u001b[0m 3ms/step - loss: 5.7016 - val_loss: 8.6574\n",
      "Epoch 48/50\n",
      "\u001b[1m64/64\u001b[0m \u001b[32m━━━━━━━━━━━━━━━━━━━━\u001b[0m\u001b[37m\u001b[0m \u001b[1m0s\u001b[0m 3ms/step - loss: 6.5699 - val_loss: 6.8925\n",
      "Epoch 49/50\n",
      "\u001b[1m64/64\u001b[0m \u001b[32m━━━━━━━━━━━━━━━━━━━━\u001b[0m\u001b[37m\u001b[0m \u001b[1m0s\u001b[0m 3ms/step - loss: 4.8523 - val_loss: 6.6864\n",
      "Epoch 50/50\n",
      "\u001b[1m64/64\u001b[0m \u001b[32m━━━━━━━━━━━━━━━━━━━━\u001b[0m\u001b[37m\u001b[0m \u001b[1m0s\u001b[0m 3ms/step - loss: 4.9334 - val_loss: 7.3954\n",
      "\u001b[1m7/7\u001b[0m \u001b[32m━━━━━━━━━━━━━━━━━━━━\u001b[0m\u001b[37m\u001b[0m \u001b[1m0s\u001b[0m 15ms/step\n",
      "Mean Squared Error: 7.582399661911604\n",
      "Root Mean Squared Error: 2.7536157433294144\n",
      "R Squared: 0.9980864724361289\n"
     ]
    }
   ],
   "source": [
    "# Define the neural network model\n",
    "model = Sequential()\n",
    "model.add(Dense(64, activation='relu', input_shape=(X_train_scaled.shape[1],)))\n",
    "model.add(Dense(32, activation='relu'))\n",
    "model.add(Dense(1))  # Output layer for regression\n",
    "\n",
    "# Compile the model\n",
    "model.compile(optimizer='adam', loss='mean_squared_error')\n",
    "\n",
    "# Train the model\n",
    "model.fit(X_train_scaled, Y_train, epochs=50, batch_size=10, validation_split=0.2)\n",
    "\n",
    "# Predict and evaluate\n",
    "Y_pred = model.predict(X_test_scaled)\n",
    "mse = mean_squared_error(Y_test, Y_pred)\n",
    "print(f'Mean Squared Error: {mse}')\n",
    "rmse= np.sqrt(mse)\n",
    "print(f'Root Mean Squared Error: {rmse}')\n",
    "r2=r2_score(Y_test, Y_pred)\n",
    "print(f'R Squared: {r2}')"
   ]
  },
  {
   "cell_type": "code",
   "execution_count": 21,
   "id": "77a71ddb-e930-4029-be72-c15acb7f03cf",
   "metadata": {},
   "outputs": [
    {
     "name": "stdout",
     "output_type": "stream",
     "text": [
      "Epoch 1/50\n"
     ]
    },
    {
     "name": "stderr",
     "output_type": "stream",
     "text": [
      "C:\\Users\\spsha\\anaconda3\\Lib\\site-packages\\keras\\src\\layers\\core\\dense.py:87: UserWarning: Do not pass an `input_shape`/`input_dim` argument to a layer. When using Sequential models, prefer using an `Input(shape)` object as the first layer in the model instead.\n",
      "  super().__init__(activity_regularizer=activity_regularizer, **kwargs)\n"
     ]
    },
    {
     "name": "stdout",
     "output_type": "stream",
     "text": [
      "\u001b[1m20/20\u001b[0m \u001b[32m━━━━━━━━━━━━━━━━━━━━\u001b[0m\u001b[37m\u001b[0m \u001b[1m2s\u001b[0m 19ms/step - loss: 5278.1670 - val_loss: 3720.9009\n",
      "Epoch 2/50\n",
      "\u001b[1m20/20\u001b[0m \u001b[32m━━━━━━━━━━━━━━━━━━━━\u001b[0m\u001b[37m\u001b[0m \u001b[1m0s\u001b[0m 4ms/step - loss: 3455.6477 - val_loss: 3237.9644\n",
      "Epoch 3/50\n",
      "\u001b[1m20/20\u001b[0m \u001b[32m━━━━━━━━━━━━━━━━━━━━\u001b[0m\u001b[37m\u001b[0m \u001b[1m0s\u001b[0m 4ms/step - loss: 2638.9595 - val_loss: 2550.9521\n",
      "Epoch 4/50\n",
      "\u001b[1m20/20\u001b[0m \u001b[32m━━━━━━━━━━━━━━━━━━━━\u001b[0m\u001b[37m\u001b[0m \u001b[1m0s\u001b[0m 4ms/step - loss: 2264.5972 - val_loss: 2084.0542\n",
      "Epoch 5/50\n",
      "\u001b[1m20/20\u001b[0m \u001b[32m━━━━━━━━━━━━━━━━━━━━\u001b[0m\u001b[37m\u001b[0m \u001b[1m0s\u001b[0m 4ms/step - loss: 1987.4032 - val_loss: 1698.1088\n",
      "Epoch 6/50\n",
      "\u001b[1m20/20\u001b[0m \u001b[32m━━━━━━━━━━━━━━━━━━━━\u001b[0m\u001b[37m\u001b[0m \u001b[1m0s\u001b[0m 4ms/step - loss: 1747.8690 - val_loss: 1328.7795\n",
      "Epoch 7/50\n",
      "\u001b[1m20/20\u001b[0m \u001b[32m━━━━━━━━━━━━━━━━━━━━\u001b[0m\u001b[37m\u001b[0m \u001b[1m0s\u001b[0m 4ms/step - loss: 1110.8217 - val_loss: 1057.6473\n",
      "Epoch 8/50\n",
      "\u001b[1m20/20\u001b[0m \u001b[32m━━━━━━━━━━━━━━━━━━━━\u001b[0m\u001b[37m\u001b[0m \u001b[1m0s\u001b[0m 3ms/step - loss: 944.6682 - val_loss: 925.3929\n",
      "Epoch 9/50\n",
      "\u001b[1m20/20\u001b[0m \u001b[32m━━━━━━━━━━━━━━━━━━━━\u001b[0m\u001b[37m\u001b[0m \u001b[1m0s\u001b[0m 4ms/step - loss: 739.1684 - val_loss: 687.7684\n",
      "Epoch 10/50\n",
      "\u001b[1m20/20\u001b[0m \u001b[32m━━━━━━━━━━━━━━━━━━━━\u001b[0m\u001b[37m\u001b[0m \u001b[1m0s\u001b[0m 4ms/step - loss: 600.7426 - val_loss: 580.7482\n",
      "Epoch 11/50\n",
      "\u001b[1m20/20\u001b[0m \u001b[32m━━━━━━━━━━━━━━━━━━━━\u001b[0m\u001b[37m\u001b[0m \u001b[1m0s\u001b[0m 4ms/step - loss: 592.9911 - val_loss: 434.3665\n",
      "Epoch 12/50\n",
      "\u001b[1m20/20\u001b[0m \u001b[32m━━━━━━━━━━━━━━━━━━━━\u001b[0m\u001b[37m\u001b[0m \u001b[1m0s\u001b[0m 4ms/step - loss: 424.8669 - val_loss: 439.2664\n",
      "Epoch 13/50\n",
      "\u001b[1m20/20\u001b[0m \u001b[32m━━━━━━━━━━━━━━━━━━━━\u001b[0m\u001b[37m\u001b[0m \u001b[1m0s\u001b[0m 4ms/step - loss: 313.4486 - val_loss: 288.5255\n",
      "Epoch 14/50\n",
      "\u001b[1m20/20\u001b[0m \u001b[32m━━━━━━━━━━━━━━━━━━━━\u001b[0m\u001b[37m\u001b[0m \u001b[1m0s\u001b[0m 4ms/step - loss: 304.2694 - val_loss: 224.7497\n",
      "Epoch 15/50\n",
      "\u001b[1m20/20\u001b[0m \u001b[32m━━━━━━━━━━━━━━━━━━━━\u001b[0m\u001b[37m\u001b[0m \u001b[1m0s\u001b[0m 4ms/step - loss: 247.5990 - val_loss: 200.5288\n",
      "Epoch 16/50\n",
      "\u001b[1m20/20\u001b[0m \u001b[32m━━━━━━━━━━━━━━━━━━━━\u001b[0m\u001b[37m\u001b[0m \u001b[1m0s\u001b[0m 4ms/step - loss: 202.9169 - val_loss: 231.1680\n",
      "Epoch 17/50\n",
      "\u001b[1m20/20\u001b[0m \u001b[32m━━━━━━━━━━━━━━━━━━━━\u001b[0m\u001b[37m\u001b[0m \u001b[1m0s\u001b[0m 4ms/step - loss: 212.8811 - val_loss: 151.9555\n",
      "Epoch 18/50\n",
      "\u001b[1m20/20\u001b[0m \u001b[32m━━━━━━━━━━━━━━━━━━━━\u001b[0m\u001b[37m\u001b[0m \u001b[1m0s\u001b[0m 4ms/step - loss: 162.7620 - val_loss: 146.6524\n",
      "Epoch 19/50\n",
      "\u001b[1m20/20\u001b[0m \u001b[32m━━━━━━━━━━━━━━━━━━━━\u001b[0m\u001b[37m\u001b[0m \u001b[1m0s\u001b[0m 5ms/step - loss: 175.9267 - val_loss: 129.5062\n",
      "Epoch 20/50\n",
      "\u001b[1m20/20\u001b[0m \u001b[32m━━━━━━━━━━━━━━━━━━━━\u001b[0m\u001b[37m\u001b[0m \u001b[1m0s\u001b[0m 4ms/step - loss: 193.5180 - val_loss: 117.4177\n",
      "Epoch 21/50\n",
      "\u001b[1m20/20\u001b[0m \u001b[32m━━━━━━━━━━━━━━━━━━━━\u001b[0m\u001b[37m\u001b[0m \u001b[1m0s\u001b[0m 6ms/step - loss: 143.9010 - val_loss: 128.2812\n",
      "Epoch 22/50\n",
      "\u001b[1m20/20\u001b[0m \u001b[32m━━━━━━━━━━━━━━━━━━━━\u001b[0m\u001b[37m\u001b[0m \u001b[1m0s\u001b[0m 4ms/step - loss: 132.3434 - val_loss: 103.0835\n",
      "Epoch 23/50\n",
      "\u001b[1m20/20\u001b[0m \u001b[32m━━━━━━━━━━━━━━━━━━━━\u001b[0m\u001b[37m\u001b[0m \u001b[1m0s\u001b[0m 8ms/step - loss: 122.5850 - val_loss: 115.9191\n",
      "Epoch 24/50\n",
      "\u001b[1m20/20\u001b[0m \u001b[32m━━━━━━━━━━━━━━━━━━━━\u001b[0m\u001b[37m\u001b[0m \u001b[1m0s\u001b[0m 4ms/step - loss: 145.3900 - val_loss: 96.5990\n",
      "Epoch 25/50\n",
      "\u001b[1m20/20\u001b[0m \u001b[32m━━━━━━━━━━━━━━━━━━━━\u001b[0m\u001b[37m\u001b[0m \u001b[1m0s\u001b[0m 4ms/step - loss: 112.3898 - val_loss: 94.4699\n",
      "Epoch 26/50\n",
      "\u001b[1m20/20\u001b[0m \u001b[32m━━━━━━━━━━━━━━━━━━━━\u001b[0m\u001b[37m\u001b[0m \u001b[1m0s\u001b[0m 4ms/step - loss: 112.2458 - val_loss: 99.5639\n",
      "Epoch 27/50\n",
      "\u001b[1m20/20\u001b[0m \u001b[32m━━━━━━━━━━━━━━━━━━━━\u001b[0m\u001b[37m\u001b[0m \u001b[1m0s\u001b[0m 4ms/step - loss: 122.4118 - val_loss: 104.7149\n",
      "Epoch 28/50\n",
      "\u001b[1m20/20\u001b[0m \u001b[32m━━━━━━━━━━━━━━━━━━━━\u001b[0m\u001b[37m\u001b[0m \u001b[1m0s\u001b[0m 4ms/step - loss: 110.2400 - val_loss: 89.8603\n",
      "Epoch 29/50\n",
      "\u001b[1m20/20\u001b[0m \u001b[32m━━━━━━━━━━━━━━━━━━━━\u001b[0m\u001b[37m\u001b[0m \u001b[1m0s\u001b[0m 4ms/step - loss: 118.6031 - val_loss: 97.9448\n",
      "Epoch 30/50\n",
      "\u001b[1m20/20\u001b[0m \u001b[32m━━━━━━━━━━━━━━━━━━━━\u001b[0m\u001b[37m\u001b[0m \u001b[1m0s\u001b[0m 4ms/step - loss: 123.2464 - val_loss: 87.4088\n",
      "Epoch 31/50\n",
      "\u001b[1m20/20\u001b[0m \u001b[32m━━━━━━━━━━━━━━━━━━━━\u001b[0m\u001b[37m\u001b[0m \u001b[1m0s\u001b[0m 4ms/step - loss: 100.8215 - val_loss: 107.0383\n",
      "Epoch 32/50\n",
      "\u001b[1m20/20\u001b[0m \u001b[32m━━━━━━━━━━━━━━━━━━━━\u001b[0m\u001b[37m\u001b[0m \u001b[1m0s\u001b[0m 4ms/step - loss: 103.5220 - val_loss: 124.5218\n",
      "Epoch 33/50\n",
      "\u001b[1m20/20\u001b[0m \u001b[32m━━━━━━━━━━━━━━━━━━━━\u001b[0m\u001b[37m\u001b[0m \u001b[1m0s\u001b[0m 3ms/step - loss: 115.5444 - val_loss: 86.0400\n",
      "Epoch 34/50\n",
      "\u001b[1m20/20\u001b[0m \u001b[32m━━━━━━━━━━━━━━━━━━━━\u001b[0m\u001b[37m\u001b[0m \u001b[1m0s\u001b[0m 4ms/step - loss: 105.6286 - val_loss: 125.2295\n",
      "Epoch 35/50\n",
      "\u001b[1m20/20\u001b[0m \u001b[32m━━━━━━━━━━━━━━━━━━━━\u001b[0m\u001b[37m\u001b[0m \u001b[1m0s\u001b[0m 4ms/step - loss: 148.1758 - val_loss: 173.9128\n",
      "Epoch 36/50\n",
      "\u001b[1m20/20\u001b[0m \u001b[32m━━━━━━━━━━━━━━━━━━━━\u001b[0m\u001b[37m\u001b[0m \u001b[1m0s\u001b[0m 4ms/step - loss: 123.3539 - val_loss: 90.1712\n",
      "Epoch 37/50\n",
      "\u001b[1m20/20\u001b[0m \u001b[32m━━━━━━━━━━━━━━━━━━━━\u001b[0m\u001b[37m\u001b[0m \u001b[1m0s\u001b[0m 4ms/step - loss: 95.0955 - val_loss: 85.2538\n",
      "Epoch 38/50\n",
      "\u001b[1m20/20\u001b[0m \u001b[32m━━━━━━━━━━━━━━━━━━━━\u001b[0m\u001b[37m\u001b[0m \u001b[1m0s\u001b[0m 4ms/step - loss: 105.8390 - val_loss: 81.1552\n",
      "Epoch 39/50\n",
      "\u001b[1m20/20\u001b[0m \u001b[32m━━━━━━━━━━━━━━━━━━━━\u001b[0m\u001b[37m\u001b[0m \u001b[1m0s\u001b[0m 4ms/step - loss: 119.0068 - val_loss: 79.4481\n",
      "Epoch 40/50\n",
      "\u001b[1m20/20\u001b[0m \u001b[32m━━━━━━━━━━━━━━━━━━━━\u001b[0m\u001b[37m\u001b[0m \u001b[1m0s\u001b[0m 4ms/step - loss: 94.5875 - val_loss: 109.4093\n",
      "Epoch 41/50\n",
      "\u001b[1m20/20\u001b[0m \u001b[32m━━━━━━━━━━━━━━━━━━━━\u001b[0m\u001b[37m\u001b[0m \u001b[1m0s\u001b[0m 4ms/step - loss: 108.4121 - val_loss: 77.7159\n",
      "Epoch 42/50\n",
      "\u001b[1m20/20\u001b[0m \u001b[32m━━━━━━━━━━━━━━━━━━━━\u001b[0m\u001b[37m\u001b[0m \u001b[1m0s\u001b[0m 4ms/step - loss: 91.3016 - val_loss: 93.1740\n",
      "Epoch 43/50\n",
      "\u001b[1m20/20\u001b[0m \u001b[32m━━━━━━━━━━━━━━━━━━━━\u001b[0m\u001b[37m\u001b[0m \u001b[1m0s\u001b[0m 4ms/step - loss: 91.3730 - val_loss: 75.7368\n",
      "Epoch 44/50\n",
      "\u001b[1m20/20\u001b[0m \u001b[32m━━━━━━━━━━━━━━━━━━━━\u001b[0m\u001b[37m\u001b[0m \u001b[1m0s\u001b[0m 4ms/step - loss: 79.4066 - val_loss: 87.9599\n",
      "Epoch 45/50\n",
      "\u001b[1m20/20\u001b[0m \u001b[32m━━━━━━━━━━━━━━━━━━━━\u001b[0m\u001b[37m\u001b[0m \u001b[1m0s\u001b[0m 5ms/step - loss: 123.0277 - val_loss: 72.7891\n",
      "Epoch 46/50\n",
      "\u001b[1m20/20\u001b[0m \u001b[32m━━━━━━━━━━━━━━━━━━━━\u001b[0m\u001b[37m\u001b[0m \u001b[1m0s\u001b[0m 4ms/step - loss: 88.5240 - val_loss: 78.6759\n",
      "Epoch 47/50\n",
      "\u001b[1m20/20\u001b[0m \u001b[32m━━━━━━━━━━━━━━━━━━━━\u001b[0m\u001b[37m\u001b[0m \u001b[1m0s\u001b[0m 7ms/step - loss: 93.4380 - val_loss: 100.7478\n",
      "Epoch 48/50\n",
      "\u001b[1m20/20\u001b[0m \u001b[32m━━━━━━━━━━━━━━━━━━━━\u001b[0m\u001b[37m\u001b[0m \u001b[1m0s\u001b[0m 4ms/step - loss: 79.2929 - val_loss: 75.6143\n",
      "Epoch 49/50\n",
      "\u001b[1m20/20\u001b[0m \u001b[32m━━━━━━━━━━━━━━━━━━━━\u001b[0m\u001b[37m\u001b[0m \u001b[1m0s\u001b[0m 5ms/step - loss: 88.8031 - val_loss: 98.6559\n",
      "Epoch 50/50\n",
      "\u001b[1m20/20\u001b[0m \u001b[32m━━━━━━━━━━━━━━━━━━━━\u001b[0m\u001b[37m\u001b[0m \u001b[1m0s\u001b[0m 5ms/step - loss: 107.8820 - val_loss: 71.1461\n",
      "\u001b[1m7/7\u001b[0m \u001b[32m━━━━━━━━━━━━━━━━━━━━\u001b[0m\u001b[37m\u001b[0m \u001b[1m0s\u001b[0m 16ms/step\n",
      "Root Mean Square Error: 9.24954291251624\n",
      "R Squared: 0.9784092069968126\n"
     ]
    }
   ],
   "source": [
    "import numpy as np\n",
    "from sklearn.model_selection import train_test_split\n",
    "from sklearn.preprocessing import StandardScaler\n",
    "from sklearn.metrics import mean_squared_error\n",
    "from tensorflow.keras.models import Sequential\n",
    "from tensorflow.keras.layers import Dense\n",
    "\n",
    "# Create the neural network model\n",
    "model = Sequential()\n",
    "model.add(Dense(64, input_dim=X_train.shape[1], activation='relu'))\n",
    "model.add(Dense(64, activation='relu'))\n",
    "model.add(Dense(1))  # Output layer for regression\n",
    "\n",
    "model.compile(optimizer='adam', loss='mean_squared_error')\n",
    "\n",
    "model.fit(X_train, Y_train, epochs=50, batch_size=32, validation_split=0.2)\n",
    "\n",
    "Y_pred = model.predict(X_test)\n",
    "rmse = np.sqrt(mean_squared_error(Y_test, Y_pred))\n",
    "print(f'Root Mean Square Error: {rmse}')\n",
    "r2=r2_score(Y_test, Y_pred)\n",
    "print(f'R Squared: {r2}')"
   ]
  },
  {
   "cell_type": "markdown",
   "id": "9235ba5c-8ceb-434e-aa08-34344e3c646b",
   "metadata": {},
   "source": [
    "# Bagging Regressor"
   ]
  },
  {
   "cell_type": "code",
   "execution_count": 22,
   "id": "725c8368-aad7-4332-b5c4-0d8713fe26e8",
   "metadata": {},
   "outputs": [],
   "source": [
    "import numpy as np\n",
    "import pandas as pd\n",
    "from sklearn.model_selection import train_test_split\n",
    "from sklearn.ensemble import BaggingRegressor\n",
    "from sklearn.tree import DecisionTreeRegressor\n",
    "from sklearn.metrics import mean_squared_error"
   ]
  },
  {
   "cell_type": "code",
   "execution_count": 23,
   "id": "0ce4ce89-7487-4c3a-9f05-14eec65549ef",
   "metadata": {},
   "outputs": [
    {
     "name": "stderr",
     "output_type": "stream",
     "text": [
      "C:\\Users\\spsha\\anaconda3\\Lib\\site-packages\\sklearn\\ensemble\\_base.py:166: FutureWarning: `base_estimator` was renamed to `estimator` in version 1.2 and will be removed in 1.4.\n",
      "  warnings.warn(\n"
     ]
    },
    {
     "name": "stdout",
     "output_type": "stream",
     "text": [
      "Mean Squared Error with Bagging: 42.5761235\n",
      "Root Mean Square Error: 6.525038199121902\n",
      "R Squared: 0.9892553031345371\n"
     ]
    }
   ],
   "source": [
    "# Create a Bagging Regressor\n",
    "bagging_model = BaggingRegressor(base_estimator=DecisionTreeRegressor(), n_estimators=100, random_state=42)\n",
    "bagging_model.fit(X_train, Y_train)\n",
    "\n",
    "# Make predictions and evaluate the model\n",
    "Y_pred = bagging_model.predict(X_test)\n",
    "mse = mean_squared_error(Y_test, Y_pred)\n",
    "print(f\"Mean Squared Error with Bagging: {mse}\")\n",
    "rmse = np.sqrt(mean_squared_error(Y_test, Y_pred))\n",
    "print(f'Root Mean Square Error: {rmse}')\n",
    "r2=r2_score(Y_test, Y_pred)\n",
    "print(f'R Squared: {r2}')"
   ]
  },
  {
   "cell_type": "code",
   "execution_count": 24,
   "id": "29c88a18-6444-4056-afb2-2e2f921ac9da",
   "metadata": {},
   "outputs": [
    {
     "name": "stderr",
     "output_type": "stream",
     "text": [
      "C:\\Users\\spsha\\anaconda3\\Lib\\site-packages\\sklearn\\ensemble\\_base.py:166: FutureWarning: `base_estimator` was renamed to `estimator` in version 1.2 and will be removed in 1.4.\n",
      "  warnings.warn(\n"
     ]
    },
    {
     "name": "stdout",
     "output_type": "stream",
     "text": [
      "Best parameters: {'max_features': 1.0, 'max_samples': 1.0, 'n_estimators': 100}\n",
      "Mean Squared Error with Bagging: 42.5761235\n",
      "Root Mean Square Error: 6.525038199121902\n",
      "R Squared: 0.9892553031345371\n"
     ]
    }
   ],
   "source": [
    "# Define the parameter grid\n",
    "param_grid = {\n",
    "    'n_estimators': [10, 50, 100],\n",
    "    'max_samples': [0.5, 0.7, 1.0],\n",
    "    'max_features': [0.5, 0.7, 1.0],\n",
    "}\n",
    "\n",
    "# Grid Search CV\n",
    "grid_search = GridSearchCV(estimator=bagging_model, param_grid=param_grid, cv=5, scoring='neg_mean_squared_error', n_jobs=-1)\n",
    "grid_search.fit(X_train, Y_train)\n",
    "\n",
    "# Best parameters and model evaluation\n",
    "print(\"Best parameters:\", grid_search.best_params_)\n",
    "best_model = grid_search.best_estimator_\n",
    "Y_pred = best_model.predict(X_test)\n",
    "mse = mean_squared_error(Y_test, Y_pred)\n",
    "print(f\"Mean Squared Error with Bagging: {mse}\")\n",
    "rmse = np.sqrt(mean_squared_error(Y_test, Y_pred))\n",
    "print(f'Root Mean Square Error: {rmse}')\n",
    "r2=r2_score(Y_test, Y_pred)\n",
    "print(f'R Squared: {r2}')"
   ]
  },
  {
   "cell_type": "markdown",
   "id": "29bb09c0-f13a-475c-b185-950d83ab4b8e",
   "metadata": {},
   "source": [
    "# Boosting Regressor"
   ]
  },
  {
   "cell_type": "code",
   "execution_count": 25,
   "id": "11f72f3a-628c-4649-b982-c13ef3395dec",
   "metadata": {},
   "outputs": [
    {
     "name": "stdout",
     "output_type": "stream",
     "text": [
      "Mean Squared Error with Boosting: 19.20715734678194\n",
      "Root Mean Square Error: 4.382597100667815\n",
      "R Squared: 0.9951527977097676\n"
     ]
    }
   ],
   "source": [
    "from sklearn.ensemble import GradientBoostingRegressor\n",
    "\n",
    "# Create a Gradient Boosting Regressor\n",
    "boosting_model = GradientBoostingRegressor(n_estimators=100, learning_rate=0.1, max_depth=3, random_state=42)\n",
    "boosting_model.fit(X_train, Y_train)\n",
    "\n",
    "# Make predictions and evaluate the model\n",
    "Y_pred = boosting_model.predict(X_test)\n",
    "mse = mean_squared_error(Y_test, Y_pred)\n",
    "print(f\"Mean Squared Error with Boosting: {mse}\")\n",
    "rmse = np.sqrt(mean_squared_error(Y_test, Y_pred))\n",
    "print(f'Root Mean Square Error: {rmse}')\n",
    "r2=r2_score(Y_test, Y_pred)\n",
    "print(f'R Squared: {r2}')"
   ]
  },
  {
   "cell_type": "code",
   "execution_count": 27,
   "id": "0ee63c1a-fea2-42b6-a467-7c1f0a000725",
   "metadata": {},
   "outputs": [
    {
     "name": "stderr",
     "output_type": "stream",
     "text": [
      "C:\\Users\\spsha\\anaconda3\\Lib\\site-packages\\sklearn\\ensemble\\_base.py:166: FutureWarning: `base_estimator` was renamed to `estimator` in version 1.2 and will be removed in 1.4.\n",
      "  warnings.warn(\n"
     ]
    },
    {
     "name": "stdout",
     "output_type": "stream",
     "text": [
      "Best parameters: {'base_estimator__learning_rate': 0.1, 'base_estimator__max_depth': 3, 'base_estimator__n_estimators': 200, 'max_features': 1.0, 'max_samples': 1.0, 'n_estimators': 20}\n",
      "Mean Squared Error with Boosting: 17.327166380726027\n",
      "Root Mean Square Error: 4.162591305992702\n",
      "R Squared: 0.9956272404579449\n"
     ]
    }
   ],
   "source": [
    "# Define the bagging model with boosting as the base estimator\n",
    "bagging_boosting_model = BaggingRegressor(base_estimator=boosting_model, random_state=42)\n",
    "\n",
    "# Define the parameter grid\n",
    "param_grid = {\n",
    "    'base_estimator__n_estimators': [100, 200],\n",
    "    'base_estimator__learning_rate': [0.01, 0.1],\n",
    "    'base_estimator__max_depth': [3, 4],\n",
    "    'n_estimators': [10, 20],\n",
    "    'max_samples': [0.8, 1.0],\n",
    "    'max_features': [0.8, 1.0]\n",
    "}\n",
    "\n",
    "# Grid Search CV\n",
    "grid_search = GridSearchCV(estimator=bagging_boosting_model, param_grid=param_grid, cv=5, scoring='neg_mean_squared_error', n_jobs=-1)\n",
    "grid_search.fit(X_train, Y_train)\n",
    "\n",
    "# Best parameters and model evaluation\n",
    "print(\"Best parameters:\", grid_search.best_params_)\n",
    "best_model = grid_search.best_estimator_\n",
    "\n",
    "Y_pred = best_model.predict(X_test)\n",
    "mse = mean_squared_error(Y_test, Y_pred)\n",
    "print(f\"Mean Squared Error with Boosting: {mse}\")\n",
    "rmse = np.sqrt(mean_squared_error(Y_test, Y_pred))\n",
    "print(f'Root Mean Square Error: {rmse}')\n",
    "r2=r2_score(Y_test, Y_pred)\n",
    "print(f'R Squared: {r2}')"
   ]
  },
  {
   "cell_type": "markdown",
   "id": "3d303625-859f-47f7-90d4-6eef8ff9e7df",
   "metadata": {},
   "source": [
    "# Stacking Regressor"
   ]
  },
  {
   "cell_type": "code",
   "execution_count": 28,
   "id": "a7eb96dd-fe11-48cc-a6f1-e5d46bd5d310",
   "metadata": {},
   "outputs": [],
   "source": [
    "import numpy as np\n",
    "import pandas as pd\n",
    "from sklearn.model_selection import train_test_split\n",
    "from sklearn.preprocessing import StandardScaler\n",
    "from sklearn.linear_model import LinearRegression\n",
    "from sklearn.ensemble import RandomForestRegressor, GradientBoostingRegressor\n",
    "from sklearn.svm import SVR\n",
    "from sklearn.ensemble import StackingRegressor\n",
    "from sklearn.metrics import mean_squared_error"
   ]
  },
  {
   "cell_type": "code",
   "execution_count": 29,
   "id": "653f7bb8-0937-4fb5-b1e9-578a74f7386d",
   "metadata": {},
   "outputs": [
    {
     "name": "stdout",
     "output_type": "stream",
     "text": [
      "Mean Squared Error: 20.11\n",
      "Root Mean Square Error: 4.484646658003713\n",
      "R Squared: 0.994924433614303\n"
     ]
    }
   ],
   "source": [
    "# Step 3: Define Base Models\n",
    "base_models = [\n",
    "    ('rf', RandomForestRegressor(n_estimators=100, random_state=42)),\n",
    "    ('gb', GradientBoostingRegressor(n_estimators=100, random_state=42)),\n",
    "    ('svr', SVR(kernel='rbf', C=1.0, epsilon=0.1))\n",
    "]\n",
    "\n",
    "# Step 4: Define the Meta-Model\n",
    "meta_model = LinearRegression()\n",
    "\n",
    "# Step 5: Create the Stacking Ensemble\n",
    "stacking_model = StackingRegressor(estimators=base_models, final_estimator=meta_model)\n",
    "\n",
    "# Step 6: Train and Evaluate the Model\n",
    "stacking_model.fit(X_train, Y_train)\n",
    "Y_pred = stacking_model.predict(X_test)\n",
    "\n",
    "# Evaluate the performance\n",
    "mse = mean_squared_error(Y_test, Y_pred)\n",
    "print(f\"Mean Squared Error: {mse:.2f}\")\n",
    "rmse = np.sqrt(mean_squared_error(Y_test, Y_pred))\n",
    "print(f'Root Mean Square Error: {rmse}')\n",
    "r2=r2_score(Y_test, Y_pred)\n",
    "print(f'R Squared: {r2}')"
   ]
  },
  {
   "cell_type": "code",
   "execution_count": 30,
   "id": "e745579f-751f-41ea-ba13-9553da766d1b",
   "metadata": {},
   "outputs": [
    {
     "name": "stdout",
     "output_type": "stream",
     "text": [
      "Best Model Mean Squared Error: 20.12\n",
      "Root Mean Square Error: 4.485674541025543\n",
      "R Squared: 0.9949221067034931\n"
     ]
    }
   ],
   "source": [
    "# Step 3: Define Base Models with Hyperparameters for Grid Search\n",
    "base_models = [\n",
    "    ('rf', RandomForestRegressor(random_state=42)),\n",
    "    ('gb', GradientBoostingRegressor(random_state=42)),\n",
    "    ('svr', SVR())\n",
    "]\n",
    "\n",
    "# Define parameter grids for each base model\n",
    "param_grid = {\n",
    "    'rf__n_estimators': [50, 100],\n",
    "    'rf__max_depth': [None, 10, 20],\n",
    "    'gb__n_estimators': [50, 100],\n",
    "    'gb__learning_rate': [0.01, 0.1],\n",
    "    'svr__C': [0.1, 1.0, 10],\n",
    "    'svr__epsilon': [0.1, 0.2]\n",
    "}\n",
    "\n",
    "# Step 4: Define the Meta-Model with Hyperparameters for Grid Search\n",
    "meta_model = LinearRegression()\n",
    "\n",
    "# Step 5: Create the Stacking Ensemble\n",
    "stacking_model = StackingRegressor(estimators=base_models, final_estimator=meta_model)\n",
    "\n",
    "# Step 6: Perform Grid Search CV\n",
    "grid_search = GridSearchCV(estimator=stacking_model, param_grid=param_grid, cv=5, scoring='neg_mean_squared_error', n_jobs=-1)\n",
    "\n",
    "# Fit the grid search to the data\n",
    "grid_search.fit(X_train, Y_train)\n",
    "\n",
    "# Get the best model\n",
    "best_model = grid_search.best_estimator_\n",
    "\n",
    "# Step 7: Train and Evaluate the Best Model\n",
    "Y_pred = best_model.predict(X_test)\n",
    "\n",
    "# Evaluate the performance\n",
    "mse = mean_squared_error(Y_test, Y_pred)\n",
    "print(f\"Best Model Mean Squared Error: {mse:.2f}\")\n",
    "rmse = np.sqrt(mean_squared_error(Y_test, Y_pred))\n",
    "print(f'Root Mean Square Error: {rmse}')\n",
    "r2=r2_score(Y_test, Y_pred)\n",
    "print(f'R Squared: {r2}')"
   ]
  },
  {
   "cell_type": "markdown",
   "id": "d05b05a3-3743-44c3-a45b-6742b4437d66",
   "metadata": {},
   "source": [
    "# Voting Regressor"
   ]
  },
  {
   "cell_type": "code",
   "execution_count": 31,
   "id": "1fd9b1c8-5249-420e-b286-d4b6cf1eb6c1",
   "metadata": {},
   "outputs": [],
   "source": [
    "import numpy as np\n",
    "import pandas as pd\n",
    "from sklearn.model_selection import train_test_split\n",
    "from sklearn.preprocessing import StandardScaler\n",
    "from sklearn.linear_model import LinearRegression\n",
    "from sklearn.ensemble import RandomForestRegressor, GradientBoostingRegressor\n",
    "from sklearn.svm import SVR\n",
    "from sklearn.ensemble import VotingRegressor\n",
    "from sklearn.metrics import mean_squared_error"
   ]
  },
  {
   "cell_type": "code",
   "execution_count": 32,
   "id": "077e0d0f-fce0-4856-b178-2d518e448a7a",
   "metadata": {},
   "outputs": [
    {
     "name": "stdout",
     "output_type": "stream",
     "text": [
      "Voting Regressor Mean Squared Error: 217.46\n",
      "Root Mean Square Error: 14.746560807999098\n",
      "R Squared: 0.9451205762508327\n"
     ]
    }
   ],
   "source": [
    "# Step 3: Define Base Models\n",
    "base_models = [\n",
    "    ('lr', LinearRegression()),\n",
    "    ('rf', RandomForestRegressor(n_estimators=100, random_state=42)),\n",
    "    ('gb', GradientBoostingRegressor(n_estimators=100, random_state=42)),\n",
    "    ('svr', SVR(kernel='rbf', C=1.0, epsilon=0.1))\n",
    "]\n",
    "\n",
    "# Step 4: Create the Voting Regressor\n",
    "voting_regressor = VotingRegressor(estimators=base_models)\n",
    "\n",
    "# Step 5: Train and Evaluate the Model\n",
    "voting_regressor.fit(X_train, Y_train)\n",
    "Y_pred = voting_regressor.predict(X_test)\n",
    "\n",
    "# Evaluate the performance\n",
    "mse = mean_squared_error(Y_test, Y_pred)\n",
    "print(f\"Voting Regressor Mean Squared Error: {mse:.2f}\")\n",
    "rmse = np.sqrt(mean_squared_error(Y_test, Y_pred))\n",
    "print(f'Root Mean Square Error: {rmse}')\n",
    "r2=r2_score(Y_test, Y_pred)\n",
    "print(f'R Squared: {r2}')"
   ]
  },
  {
   "cell_type": "code",
   "execution_count": 33,
   "id": "08c2539e-8dc7-4338-8902-851d42ba828c",
   "metadata": {},
   "outputs": [
    {
     "name": "stdout",
     "output_type": "stream",
     "text": [
      "Best Model Mean Squared Error: 52.84\n",
      "Root Mean Squared Error:7.268892606860348\n",
      "R Squared: 0.9866658739741593\n"
     ]
    }
   ],
   "source": [
    "# Step 3: Define Base Models with Hyperparameters for Grid Search\n",
    "base_models = [\n",
    "    ('rf', RandomForestRegressor(random_state=42)),\n",
    "    ('gb', GradientBoostingRegressor(random_state=42)),\n",
    "    ('svr', SVR())\n",
    "]\n",
    "\n",
    "# Define parameter grids for each base model\n",
    "param_grid = {\n",
    "    'rf__n_estimators': [50, 100],\n",
    "    'rf__max_depth': [None, 10, 20],\n",
    "    'gb__n_estimators': [50, 100],\n",
    "    'gb__learning_rate': [0.01, 0.1],\n",
    "    'svr__C': [0.1, 1.0, 10],\n",
    "    'svr__epsilon': [0.1, 0.2]\n",
    "}\n",
    "\n",
    "# Step 4: Create the Voting Regressor\n",
    "voting_regressor = VotingRegressor(estimators=base_models)\n",
    "\n",
    "# Step 5: Perform Grid Search CV\n",
    "grid_search = GridSearchCV(estimator=voting_regressor, param_grid=param_grid, cv=5, scoring='neg_mean_squared_error', n_jobs=-1)\n",
    "\n",
    "# Fit the grid search to the data\n",
    "grid_search.fit(X_train, Y_train)\n",
    "\n",
    "# Get the best model\n",
    "best_model = grid_search.best_estimator_\n",
    "\n",
    "# Step 6: Train and Evaluate the Best Model\n",
    "Y_pred = best_model.predict(X_test)\n",
    "\n",
    "# Evaluate the performance\n",
    "mse = mean_squared_error(Y_test, Y_pred)\n",
    "print(f\"Best Model Mean Squared Error: {mse:.2f}\")\n",
    "rmse=np.sqrt(mse)\n",
    "print(f'Root Mean Squared Error:{rmse}')\n",
    "r2=r2_score(Y_test, Y_pred)\n",
    "print(f'R Squared: {r2}')"
   ]
  },
  {
   "cell_type": "markdown",
   "id": "a46593e1-65a0-47c0-af79-ad60b7f52004",
   "metadata": {},
   "source": [
    "# linear regression"
   ]
  },
  {
   "cell_type": "code",
   "execution_count": 34,
   "id": "de5e8856-807e-403f-b706-0fb86c29d0ee",
   "metadata": {},
   "outputs": [],
   "source": [
    "from sklearn.model_selection import train_test_split\n",
    "from sklearn.linear_model import LinearRegression\n",
    "from sklearn.model_selection import GridSearchCV, train_test_split\n",
    "from sklearn.metrics import mean_squared_error"
   ]
  },
  {
   "cell_type": "code",
   "execution_count": 35,
   "id": "a26b8f3d-2492-4aff-a309-da133588aa3b",
   "metadata": {},
   "outputs": [
    {
     "name": "stdout",
     "output_type": "stream",
     "text": [
      "Mean Squared Error: 118.48087722825785\n",
      "root Mean Squared Error: 10.884892155104609\n",
      " R^2:0.9662324983496119\n"
     ]
    }
   ],
   "source": [
    "model = LinearRegression()\n",
    "model.fit(X_train, Y_train)\n",
    "coefficients = model.coef_\n",
    "model = LinearRegression()\n",
    "model.fit(X_train, Y_train)\n",
    "\n",
    "coefficients = pd.DataFrame({'Feature': X_train.columns,'Coefficient': model.coef_})\n",
    "coefficients\n",
    "\n",
    "X_train, X_test, Y_train, Y_test = train_test_split(X_train, Y_train, test_size=0.2, random_state=0)\n",
    "model = LinearRegression()\n",
    "model.fit(X_train, Y_train)\n",
    "Y_pred = model.predict(X_test)\n",
    "mse = mean_squared_error(Y_test, Y_pred)\n",
    "print(f\"Mean Squared Error: {mse}\")\n",
    "rmse=np.sqrt(mse)\n",
    "print(f'root Mean Squared Error: {rmse}')\n",
    "rmse\n",
    "r2=r2_score(Y_test,Y_pred)\n",
    "print(f' R^2:{r2}')"
   ]
  },
  {
   "cell_type": "code",
   "execution_count": 36,
   "id": "ca14792b-ff7d-4428-b05d-eeb700f438a4",
   "metadata": {},
   "outputs": [
    {
     "name": "stdout",
     "output_type": "stream",
     "text": [
      "Fitting 5 folds for each of 4 candidates, totalling 20 fits\n",
      "Best Model Mean Squared Error: 132.28931793102464\n",
      "Best Parameters: {'copy_X': True, 'fit_intercept': True}\n",
      "Mean Squared Error: 132.28931793102464\n",
      "Root Mean Squared Error:11.501709348224056\n"
     ]
    }
   ],
   "source": [
    "X_train, X_test, Y_train, Y_test = train_test_split(X_train, Y_train, test_size=0.2, random_state=0)\n",
    "model = LinearRegression()\n",
    "model.fit(X_train, Y_train)\n",
    "\n",
    "param_grid = {\n",
    "    'fit_intercept': [True, False],\n",
    "    'copy_X': [True, False]\n",
    "}\n",
    "grid_search = GridSearchCV(estimator=model, param_grid=param_grid, cv=5, scoring='neg_mean_squared_error', verbose=1)\n",
    "grid_search.fit(X_train, Y_train)\n",
    "best_model = grid_search.best_estimator_\n",
    "Y_pred = best_model.predict(X_test)\n",
    "mse = mean_squared_error(Y_test, Y_pred)\n",
    "print(f\"Best Model Mean Squared Error: {mse}\")\n",
    "best_params = grid_search.best_params_\n",
    "print(f\"Best Parameters: {best_params}\")\n",
    "mse = mean_squared_error(Y_test, Y_pred)\n",
    "print(f\"Mean Squared Error: {mse}\")\n",
    "rmse=np.sqrt(mse)\n",
    "print(f'Root Mean Squared Error:{rmse}')"
   ]
  },
  {
   "cell_type": "markdown",
   "id": "af2eba09-9d08-4297-91ab-7014528f3ca9",
   "metadata": {},
   "source": [
    "# Support Vector Regression (SVR)"
   ]
  },
  {
   "cell_type": "code",
   "execution_count": 37,
   "id": "8c2cadab-f69f-4c0b-87f2-23582039f9f0",
   "metadata": {},
   "outputs": [],
   "source": [
    "import pandas as pd\n",
    "import numpy as np\n",
    "from sklearn.model_selection import train_test_split\n",
    "from sklearn.svm import SVR\n",
    "from sklearn.preprocessing import StandardScaler\n",
    "from sklearn.metrics import mean_squared_error\n",
    "from sklearn.metrics import r2_score"
   ]
  },
  {
   "cell_type": "code",
   "execution_count": 38,
   "id": "5309eec3-2204-4433-bfdf-825093a162eb",
   "metadata": {},
   "outputs": [
    {
     "name": "stdout",
     "output_type": "stream",
     "text": [
      "Mean Squared Error: 1544.823045432556\n",
      "root Mean Squared Error: 39.3042369908456\n"
     ]
    },
    {
     "data": {
      "text/plain": [
       "39.3042369908456"
      ]
     },
     "execution_count": 38,
     "metadata": {},
     "output_type": "execute_result"
    }
   ],
   "source": [
    "X_train, X_test, Y_train, Y_test = train_test_split(X_train, Y_train, test_size=0.2, random_state=0)\n",
    "\n",
    "\n",
    "scaler = StandardScaler()\n",
    "X_train_scaled = scaler.fit_transform(X_train)\n",
    "X_test_scaled = scaler.transform(X_test)\n",
    "\n",
    "\n",
    "svr_model = SVR(kernel='rbf')  \n",
    "svr_model.fit(X_train_scaled, Y_train)\n",
    "\n",
    "\n",
    "Y_pred = svr_model.predict(X_test_scaled)\n",
    "Y_pred\n",
    "\n",
    "mse = mean_squared_error(Y_test, Y_pred)\n",
    "print(f'Mean Squared Error: {mse}')\n",
    "rmse=np.sqrt(mse)\n",
    "print(f'root Mean Squared Error: {rmse}')\n",
    "rmse"
   ]
  },
  {
   "cell_type": "code",
   "execution_count": 39,
   "id": "4bcac7d0-6267-4c17-b057-0eae1c3e4255",
   "metadata": {},
   "outputs": [
    {
     "name": "stdout",
     "output_type": "stream",
     "text": [
      "Fitting 5 folds for each of 18 candidates, totalling 90 fits\n",
      "Best parameters found:  {'C': 1, 'epsilon': 0.1, 'gamma': 'auto', 'kernel': 'rbf'}\n",
      "Lowest RMSE found:  42.8417868462925\n",
      "Mean Squared Error: 1296.2708184163425\n",
      "root Mean Squared Error: 36.00376117041583\n"
     ]
    },
    {
     "data": {
      "text/plain": [
       "36.00376117041583"
      ]
     },
     "execution_count": 39,
     "metadata": {},
     "output_type": "execute_result"
    }
   ],
   "source": [
    "X_train, X_test, Y_train, Y_test = train_test_split(X_train, Y_train, test_size=0.2, random_state=0)\n",
    "scaler = StandardScaler()\n",
    "X_train_scaled = scaler.fit_transform(X_train)\n",
    "X_test_scaled = scaler.transform(X_test)\n",
    "svr = SVR()\n",
    "\n",
    "param_grid = {'kernel': ['rbf'],'C': [0.1, 1, 1],'gamma': ['scale', 'auto'], 'epsilon': [0.1, 0.2, 0.5]} \n",
    "# kernel type: linear or radial basis function (gaussian)            \n",
    "# regularization parameter# kernel coefficient (for 'rbf' kernel) \n",
    "# epsilon parameter in SVR\n",
    "\n",
    "grid_search = GridSearchCV(estimator=svr, param_grid=param_grid, scoring='neg_mean_squared_error', cv=5, verbose=1, n_jobs=-1)\n",
    "\n",
    "grid_search.fit(X_train_scaled, Y_train)\n",
    "print(\"Best parameters found: \", grid_search.best_params_)\n",
    "print(\"Lowest RMSE found: \", np.sqrt(np.abs(grid_search.best_score_)))\n",
    "best_model = grid_search.best_estimator_\n",
    "Y_pred = best_model.predict(X_test_scaled)\n",
    "\n",
    "mse = mean_squared_error(Y_test, Y_pred)\n",
    "print(f'Mean Squared Error: {mse}')\n",
    "rmse=np.sqrt(mse)\n",
    "print(f'root Mean Squared Error: {rmse}')\n",
    "rmse"
   ]
  },
  {
   "cell_type": "markdown",
   "id": "ba2eabd7-6fe2-4562-a5f6-62bdf19e8d02",
   "metadata": {},
   "source": [
    "# Decision Tree Regression"
   ]
  },
  {
   "cell_type": "code",
   "execution_count": 40,
   "id": "a5ad1cfb-7ca9-43f0-8f31-5c648bf94a43",
   "metadata": {},
   "outputs": [],
   "source": [
    "from sklearn.tree import DecisionTreeRegressor\n",
    "from sklearn.metrics import mean_squared_error, r2_score, make_scorer\n",
    "from sklearn.model_selection import GridSearchCV"
   ]
  },
  {
   "cell_type": "code",
   "execution_count": 41,
   "id": "f5e70710-e7c1-40c7-8b4d-023c6d203ba7",
   "metadata": {},
   "outputs": [
    {
     "name": "stdout",
     "output_type": "stream",
     "text": [
      "Decision Tree Regression:\n",
      "Mean Squared Error: 131.0121951219512\n",
      "Root Mean Squared Error: 11.446055876237509\n",
      "R^2 Score: 0.9657893997958609\n"
     ]
    }
   ],
   "source": [
    "model_dt = DecisionTreeRegressor(random_state=5)\n",
    "\n",
    "# Train the model\n",
    "model_dt.fit(X_train, Y_train)\n",
    "\n",
    "# Make predictions\n",
    "Y_pred = model_dt.predict(X_test)\n",
    "\n",
    "# Evaluate the model\n",
    "mse = mean_squared_error(Y_test, Y_pred)\n",
    "rmse = np.sqrt(mse)\n",
    "r2 = r2_score(Y_test, Y_pred)\n",
    "\n",
    "print(\"Decision Tree Regression:\")\n",
    "print(f'Mean Squared Error: {mse}')\n",
    "print(f'Root Mean Squared Error: {rmse}')\n",
    "print(f'R^2 Score: {r2}')"
   ]
  },
  {
   "cell_type": "code",
   "execution_count": 42,
   "id": "9cff938b-6803-4d6c-a2b4-65bc40113971",
   "metadata": {},
   "outputs": [
    {
     "name": "stdout",
     "output_type": "stream",
     "text": [
      "Best parameters found:  {'max_depth': 10, 'min_samples_leaf': 1, 'min_samples_split': 5}\n",
      "Best negative mean squared error:  -214.8187686998187\n",
      "\n",
      "Best Model Evaluation:\n",
      "Best Model Mean Squared Error: 190.16522696476966\n",
      "Best Model Root Mean Squared Error: 13.790040861606236\n",
      "Best Model R^2 Score: 0.9503430459556427\n"
     ]
    }
   ],
   "source": [
    "# Define the Decision Tree Regressor model\n",
    "model_dt = DecisionTreeRegressor(random_state=5)\n",
    "\n",
    "# Define the parameter grid\n",
    "param_grid = {\n",
    "    'max_depth': [None, 10, 20, 30, 40, 50],\n",
    "    'min_samples_split': [2, 5, 10],\n",
    "    'min_samples_leaf': [1, 2, 4]\n",
    "}\n",
    "\n",
    "# Grid Search CV\n",
    "grid_search = GridSearchCV(estimator=model_dt, param_grid=param_grid, cv=5, scoring='neg_mean_squared_error')\n",
    "grid_search.fit(X_train, Y_train)\n",
    "\n",
    "#best parameters \n",
    "print(\"Best parameters found: \", grid_search.best_params_)\n",
    "print(\"Best negative mean squared error: \", grid_search.best_score_)\n",
    "\n",
    "# Evaluate the best model on test data\n",
    "best_model = grid_search.best_estimator_\n",
    "Y_pred = best_model.predict(X_test)\n",
    "mse = mean_squared_error(Y_test, Y_pred)\n",
    "rmse = np.sqrt(mse)\n",
    "r2 = r2_score(Y_test, Y_pred)\n",
    "\n",
    "print(\"\\nBest Model Evaluation:\")\n",
    "print(f'Best Model Mean Squared Error: {mse}')\n",
    "print(f'Best Model Root Mean Squared Error: {rmse}')\n",
    "print(f'Best Model R^2 Score: {r2}')"
   ]
  },
  {
   "cell_type": "markdown",
   "id": "4b929b85-4354-4560-b3c2-9b1c807b739e",
   "metadata": {},
   "source": [
    "# Random Forest Algorithm "
   ]
  },
  {
   "cell_type": "markdown",
   "id": "cde58563-0b1d-465b-bf23-3d9e54861f13",
   "metadata": {},
   "source": [
    "* Random Forest or random decision forest is an ensemble learning method for classification, regression.\n",
    "* Random decision forests correct for decision tree's habit overfitting to their trainning set.\n",
    "* Step1 : Create Bootstrap Dataset from Original data by randomly choosing data(repetation is allowed)\n",
    "* Step2 : Create Randomized Decision Tress from Bootstap dataset.\n",
    "* Step3 : Finally output of the random foresr is the class selected by most trees."
   ]
  },
  {
   "cell_type": "code",
   "execution_count": 43,
   "id": "d6f163db-a749-4689-9c52-ee9ce40062d2",
   "metadata": {},
   "outputs": [
    {
     "name": "stdout",
     "output_type": "stream",
     "text": [
      "Random Forest Regression:\n",
      "Mean Squared Error: 46.22801707317072\n",
      "Root Mean Squared Error: 6.799118845348324\n",
      "R^2 Score: 0.9879286946619874\n"
     ]
    }
   ],
   "source": [
    "from sklearn.ensemble import RandomForestRegressor\n",
    "\n",
    "# Random Forest Regression model\n",
    "model_rf = RandomForestRegressor(n_estimators=100, random_state=5)\n",
    "\n",
    "# Train the model\n",
    "model_rf.fit(X_train, Y_train)\n",
    "\n",
    "# Make predictions\n",
    "Y_pred = model_rf.predict(X_test)\n",
    "\n",
    "# Evaluate the model\n",
    "mse = mean_squared_error(Y_test, Y_pred)\n",
    "rmse = np.sqrt(mse)\n",
    "r2 = r2_score(Y_test, Y_pred)\n",
    "\n",
    "print(\"Random Forest Regression:\")\n",
    "print(f'Mean Squared Error: {mse}')\n",
    "print(f'Root Mean Squared Error: {rmse}')\n",
    "print(f'R^2 Score: {r2}')"
   ]
  },
  {
   "cell_type": "code",
   "execution_count": 44,
   "id": "05c578fe-3295-4a0b-add1-b657dfa572f5",
   "metadata": {},
   "outputs": [
    {
     "name": "stdout",
     "output_type": "stream",
     "text": [
      "Fitting 5 folds for each of 486 candidates, totalling 2430 fits\n",
      "Best parameters found by GridSearchCV:\n",
      "{'max_depth': None, 'max_features': 'sqrt', 'min_samples_leaf': 4, 'min_samples_split': 10, 'n_estimators': 200}\n",
      "Best score (MSE) found by GridSearchCV:\n",
      "174.69406836372428\n",
      "\n",
      "Evaluation metrics of the best model:\n",
      "Mean Squared Error: 101.94121353808399\n",
      "Root Mean Squared Error: 10.096594155361696\n",
      "R^2 Score: 0.9733805689048268\n"
     ]
    }
   ],
   "source": [
    "from sklearn.model_selection import GridSearchCV\n",
    "\n",
    "# Define the RandomForestRegressor\n",
    "model_rf = RandomForestRegressor(random_state=5)\n",
    "\n",
    "# Define the parameter grid\n",
    "param_grid = {\n",
    "    'n_estimators': [100, 200, 300],\n",
    "    'max_features': ['auto', 'sqrt', 'log2'],\n",
    "    'max_depth': [None, 10, 20, 30, 40, 50],\n",
    "    'min_samples_split': [2, 5, 10],\n",
    "    'min_samples_leaf': [1, 2, 4]\n",
    "}\n",
    "\n",
    "\n",
    "# Define the scoring methods \n",
    "scoring = {\n",
    "    'MSE': make_scorer(mean_squared_error),\n",
    "    'R^2': make_scorer(r2_score)\n",
    "}\n",
    "\n",
    "# Model\n",
    "grid_search = GridSearchCV(estimator=model_rf, param_grid=param_grid, \n",
    "                           scoring=scoring, refit='MSE', cv=5, verbose=1, n_jobs=-1)\n",
    "\n",
    "# To fit GridSearchCV\n",
    "grid_search.fit(X_train, Y_train)\n",
    "\n",
    "# Best parameters and best score found by GridSearchCV\n",
    "print(\"Best parameters found by GridSearchCV:\")\n",
    "print(grid_search.best_params_)\n",
    "print(\"Best score (MSE) found by GridSearchCV:\")\n",
    "print(grid_search.best_score_)\n",
    "\n",
    "# Make predictions with the best estimator\n",
    "best_model = grid_search.best_estimator_\n",
    "Y_pred = best_model.predict(X_test)\n",
    "\n",
    "# Evaluate the best model\n",
    "mse = mean_squared_error(Y_test, Y_pred)\n",
    "rmse = np.sqrt(mse)\n",
    "r2 = r2_score(Y_test, Y_pred)\n",
    "\n",
    "# Print evaluation metrics of the best model\n",
    "print(\"\\nEvaluation metrics of the best model:\")\n",
    "print(f'Mean Squared Error: {mse}')\n",
    "print(f'Root Mean Squared Error: {rmse}')\n",
    "print(f'R^2 Score: {r2}')"
   ]
  },
  {
   "cell_type": "code",
   "execution_count": 1,
   "id": "048dd9d2-d969-42e4-b68c-91a3c3493fcb",
   "metadata": {},
   "outputs": [],
   "source": [
    "import pandas as pd\n",
    "from sklearn.datasets import load_iris\n",
    "from sklearn.model_selection import train_test_split, cross_val_score\n",
    "from sklearn.linear_model import LinearRegression\n",
    "from sklearn.neighbors import KNeighborsClassifier\n",
    "from sklearn.tree import DecisionTreeClassifier\n",
    "from sklearn.ensemble import RandomForestClassifier, BaggingClassifier, AdaBoostClassifier, GradientBoostingClassifier, VotingClassifier\n",
    "from sklearn.neural_network import MLPClassifier\n",
    "from sklearn.svm import SVR\n",
    "from sklearn.metrics import accuracy_score"
   ]
  },
  {
   "cell_type": "code",
   "execution_count": 2,
   "id": "0d6011af-0f92-48b0-9e73-d9a141304fd1",
   "metadata": {},
   "outputs": [
    {
     "name": "stdout",
     "output_type": "stream",
     "text": [
      "               model                RMSE      Grid Search CV\n",
      "0  Linear Regression  10.884892155104609  11.501709348224056\n",
      "1                KNN   9.500316858303371   9.195781083892394\n",
      "2      Decision Tree  11.446055876237509  13.790040861606236\n",
      "3      Random Forest   6.799118845348324  10.096594155361696\n",
      "4            Bagging   6.525038199121902   6.525038199121902\n",
      "5     Neural network  2.7536157433294144    9.24954291251624\n",
      "6  Gradient Boosting   4.382597100667815   4.162591305992702\n",
      "7           Stacking   4.484646658003713   4.485674541025543\n",
      "8             Voting  14.746560807999098   7.268892606860348\n",
      "9                SVR    39.3042369908456   36.00376117041583\n"
     ]
    }
   ],
   "source": [
    "# Example, adjust parameters as needed\n",
    "Data = {'model' :  ['Linear Regression','KNN','Decision Tree','Random Forest','Bagging','Neural network','Gradient Boosting','Stacking','Voting','SVR'],\n",
    "        'RMSE' : ['10.884892155104609','9.500316858303371','11.446055876237509','6.799118845348324','6.525038199121902','2.7536157433294144',\n",
    "                  '4.382597100667815','4.484646658003713','14.746560807999098','39.3042369908456'],\n",
    "        'Grid Search CV' : ['11.501709348224056','9.195781083892394','13.790040861606236','10.096594155361696','6.525038199121902',\n",
    "                            '9.24954291251624','4.162591305992702','4.485674541025543','7.268892606860348','36.00376117041583']\n",
    "}\n",
    "print(pd.DataFrame(Data))"
   ]
  },
  {
   "cell_type": "code",
   "execution_count": 3,
   "id": "e65019da-a121-4775-a9ac-c586721afc13",
   "metadata": {},
   "outputs": [
    {
     "data": {
      "image/png": "[encoded data removed]",
      "text/plain": [
       "<Figure size 1000x600 with 1 Axes>"
      ]
     },
     "metadata": {},
     "output_type": "display_data"
    }
   ],
   "source": [
    "import pandas as pd\n",
    "import matplotlib.pyplot as plt\n",
    "import numpy as np\n",
    "\n",
    "# Set the positions and width for the bars\n",
    "barWidth = 0.35\n",
    "r1 = np.arange(len(Data['model']))\n",
    "r2 = [x + barWidth for x in r1]\n",
    "\n",
    "# Create the figure and axis\n",
    "plt.figure(figsize=(10, 6))\n",
    "\n",
    "# Create the bars\n",
    "plt.bar(r1, Data['RMSE'], color='blue', width=barWidth, edgecolor='grey', label='RMSE')\n",
    "plt.bar(r2, Data['Grid Search CV'], color='green', width=barWidth, edgecolor='grey', label='Grid Search CV')\n",
    "\n",
    "# Add xticks on the middle of the group bars\n",
    "plt.xlabel('Model', fontweight='bold')\n",
    "plt.xticks([r + barWidth/2 for r in range(len(Data['model']))], Data['model'], rotation=45, ha='right')\n",
    "\n",
    "# Add labels, title, and legend\n",
    "plt.ylabel('Scores')\n",
    "plt.title('Comparison of RMSE and Grid Search CV for Different Models')\n",
    "plt.legend()\n",
    "\n",
    "# Display the plot\n",
    "plt.tight_layout()\n",
    "plt.show()"
   ]
  },
  {
   "cell_type": "code",
   "execution_count": 15,
   "id": "a4b68637-8a7d-43f1-b175-56bae9dd92ff",
   "metadata": {},
   "outputs": [
    {
     "name": "stdout",
     "output_type": "stream",
     "text": [
      "      Feature  Importance\n",
      "4    Duration   91.614831\n",
      "5  Heart_Rate    4.185205\n",
      "1         Age    2.875107\n",
      "3      Weight    0.798362\n",
      "2      Height    0.319442\n",
      "0      Gender    0.174848\n",
      "6   Body_Temp    0.032204\n"
     ]
    },
    {
     "name": "stderr",
     "output_type": "stream",
     "text": [
      "C:\\Users\\spsha\\AppData\\Local\\Temp\\ipykernel_7508\\891600403.py:27: SettingWithCopyWarning: \n",
      "A value is trying to be set on a copy of a slice from a DataFrame.\n",
      "Try using .loc[row_indexer,col_indexer] = value instead\n",
      "\n",
      "See the caveats in the documentation: https://pandas.pydata.org/pandas-docs/stable/user_guide/indexing.html#returning-a-view-versus-a-copy\n",
      "  X[genre_cols] = X[genre_cols].astype(int)\n"
     ]
    }
   ],
   "source": [
    "import pandas as pd\n",
    "import numpy as np\n",
    "from sklearn.model_selection import train_test_split\n",
    "from sklearn.tree import DecisionTreeRegressor\n",
    "import matplotlib.pyplot as plt\n",
    "\n",
    "# Assuming the DataFrame 'df' is already defined and contains the data.\n",
    "\n",
    "# Drop rows with missing target values\n",
    "df = df.dropna(subset=['Calories'])\n",
    "\n",
    "# Define the feature columns and target column\n",
    "feature_cols = [\n",
    "    'Gender','Age','Height','Weight','Duration','Heart_Rate','Body_Temp'\n",
    "]\n",
    "target_col = 'Calories'\n",
    "\n",
    "# Separate features and target\n",
    "X = df[feature_cols]\n",
    "Y = df[target_col]\n",
    "\n",
    "# Ensure all genre columns are of integer type (0 or 1)\n",
    "genre_cols = [\n",
    "    'Gender','Age','Height','Weight','Duration','Heart_Rate','Body_Temp'\n",
    "]\n",
    "\n",
    "X[genre_cols] = X[genre_cols].astype(int)\n",
    "\n",
    "# Split the data into training and testing sets\n",
    "X_train, X_test, Y_train, Y_test = train_test_split(X, Y, test_size=0.2, random_state=42)\n",
    "\n",
    "# Initialize and train the decision tree model\n",
    "model = DecisionTreeRegressor(random_state=42)\n",
    "model.fit(X_train, Y_train)\n",
    "\n",
    "# Extract feature importances\n",
    "feature_importances = model.feature_importances_\n",
    "\n",
    "# Create a DataFrame for better visualization\n",
    "importance_df = pd.DataFrame({\n",
    "    'Feature': feature_cols,\n",
    "    'Importance': feature_importances*100\n",
    "})\n",
    "\n",
    "# Sort the DataFrame by importance\n",
    "importance_df = importance_df.sort_values(by='Importance', ascending=False)\n",
    "\n",
    "# Display the feature importances\n",
    "print(importance_df)"
   ]
  },
  {
   "cell_type": "code",
   "execution_count": 16,
   "id": "8556fadc-5e62-40d9-a774-f8e90c73d02a",
   "metadata": {},
   "outputs": [
    {
     "data": {
      "text/plain": [
       "0.9999999999999999"
      ]
     },
     "execution_count": 16,
     "metadata": {},
     "output_type": "execute_result"
    }
   ],
   "source": [
    "sum(feature_importances)"
   ]
  },
  {
   "cell_type": "code",
   "execution_count": 18,
   "id": "6f203443-eb81-419a-9831-afac7dd53bb2",
   "metadata": {},
   "outputs": [
    {
     "name": "stdout",
     "output_type": "stream",
     "text": [
      "Train Score with selected features: 0.9288200057771663\n",
      "Test Score with selected features: 0.9333504444064344\n"
     ]
    }
   ],
   "source": [
    "# Determine a threshold for feature importance (e.g., mean importance)\n",
    "threshold = importance_df['Importance'].mean()\n",
    "\n",
    "# Select features above the threshold\n",
    "selected_features = importance_df[importance_df['Importance'] >= threshold]['Feature'].tolist()\n",
    "\n",
    "# Create a new DataFrame with selected features\n",
    "X_selected = X[selected_features]\n",
    "\n",
    "# Split the data into training and testing sets with selected features\n",
    "X_train_selected, X_test_selected, Y_train_selected, Y_test_selected = train_test_split(X_selected, Y, test_size=0.2, random_state=42)\n",
    "\n",
    "# Retrain the model with the selected features\n",
    "model_selected = DecisionTreeRegressor(random_state=42)\n",
    "model_selected.fit(X_train_selected, Y_train_selected)\n",
    "\n",
    "# Evaluate the model\n",
    "train_score = model_selected.score(X_train_selected, Y_train_selected)\n",
    "test_score = model_selected.score(X_test_selected, Y_test_selected)\n",
    "\n",
    "print(\"Train Score with selected features:\", train_score)\n",
    "print(\"Test Score with selected features:\", test_score)"
   ]
  },
  {
   "cell_type": "code",
   "execution_count": 24,
   "id": "aebaf843-65bb-43e5-b762-dd9beb4eb1d9",
   "metadata": {},
   "outputs": [
    {
     "data": {
      "text/html": [
       "<div>\n",
       "<style scoped>\n",
       "    .dataframe tbody tr th:only-of-type {\n",
       "        vertical-align: middle;\n",
       "    }\n",
       "\n",
       "    .dataframe tbody tr th {\n",
       "        vertical-align: top;\n",
       "    }\n",
       "\n",
       "    .dataframe thead th {\n",
       "        text-align: right;\n",
       "    }\n",
       "</style>\n",
       "<table border=\"1\" class=\"dataframe\">\n",
       "  <thead>\n",
       "    <tr style=\"text-align: right;\">\n",
       "      <th></th>\n",
       "      <th>Duration</th>\n",
       "    </tr>\n",
       "  </thead>\n",
       "  <tbody>\n",
       "    <tr>\n",
       "      <th>29</th>\n",
       "      <td>2</td>\n",
       "    </tr>\n",
       "    <tr>\n",
       "      <th>535</th>\n",
       "      <td>23</td>\n",
       "    </tr>\n",
       "    <tr>\n",
       "      <th>695</th>\n",
       "      <td>19</td>\n",
       "    </tr>\n",
       "    <tr>\n",
       "      <th>557</th>\n",
       "      <td>18</td>\n",
       "    </tr>\n",
       "    <tr>\n",
       "      <th>836</th>\n",
       "      <td>28</td>\n",
       "    </tr>\n",
       "    <tr>\n",
       "      <th>...</th>\n",
       "      <td>...</td>\n",
       "    </tr>\n",
       "    <tr>\n",
       "      <th>106</th>\n",
       "      <td>30</td>\n",
       "    </tr>\n",
       "    <tr>\n",
       "      <th>270</th>\n",
       "      <td>16</td>\n",
       "    </tr>\n",
       "    <tr>\n",
       "      <th>860</th>\n",
       "      <td>12</td>\n",
       "    </tr>\n",
       "    <tr>\n",
       "      <th>435</th>\n",
       "      <td>27</td>\n",
       "    </tr>\n",
       "    <tr>\n",
       "      <th>102</th>\n",
       "      <td>25</td>\n",
       "    </tr>\n",
       "  </tbody>\n",
       "</table>\n",
       "<p>800 rows × 1 columns</p>\n",
       "</div>"
      ],
      "text/plain": [
       "     Duration\n",
       "29          2\n",
       "535        23\n",
       "695        19\n",
       "557        18\n",
       "836        28\n",
       "..        ...\n",
       "106        30\n",
       "270        16\n",
       "860        12\n",
       "435        27\n",
       "102        25\n",
       "\n",
       "[800 rows x 1 columns]"
      ]
     },
     "execution_count": 24,
     "metadata": {},
     "output_type": "execute_result"
    }
   ],
   "source": [
    "X_train_selected"
   ]
  }
 ],
 "metadata": {
  "kernelspec": {
   "display_name": "Python 3 (ipykernel)",
   "language": "python",
   "name": "python3"
  },
  "language_info": {
   "codemirror_mode": {
    "name": "ipython",
    "version": 3
   },
   "file_extension": ".py",
   "mimetype": "text/x-python",
   "name": "python",
   "nbconvert_exporter": "python",
   "pygments_lexer": "ipython3",
   "version": "3.11.7"
  }
 },
 "nbformat": 4,
 "nbformat_minor": 5
}
