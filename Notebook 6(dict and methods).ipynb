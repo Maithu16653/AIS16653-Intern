{
 "cells": [
  {
   "cell_type": "code",
   "execution_count": 1,
   "id": "70b5ba81",
   "metadata": {},
   "outputs": [],
   "source": [
    "#Dictionary \n",
    "#A) Dictionaries are used in key:value pairs. \n",
    "#B) Is in ordered. \n",
    "#C) Changeable. \n",
    "#D) DO not allow duplicates. \n",
    "#E) nit written in curly brackets."
   ]
  },
  {
   "cell_type": "code",
   "execution_count": 2,
   "id": "f9acdcf5",
   "metadata": {},
   "outputs": [
    {
     "name": "stdout",
     "output_type": "stream",
     "text": [
      "{'1': 'Apple', '2': 'for', '3': 'Maithili'}\n"
     ]
    }
   ],
   "source": [
    "x={\"1\":\"Apple\",             # key:value pairs and orderwise\n",
    "  '2':\"for\",\n",
    "   '3':'Maithili'}\n",
    "print(x)"
   ]
  },
  {
   "cell_type": "code",
   "execution_count": 4,
   "id": "2343a0b4",
   "metadata": {},
   "outputs": [
    {
     "name": "stdout",
     "output_type": "stream",
     "text": [
      "{'1': 'Apple', '2': 'fo', '3': 'Maithili'}\n"
     ]
    }
   ],
   "source": [
    "x={\"1\":\"Apple\",            #DO not allow duplicates                   \n",
    "   '2':\"for\",\n",
    "   '2':'fo',\n",
    "   '3':\"Maithili\" }\n",
    "print(x)"
   ]
  },
  {
   "cell_type": "code",
   "execution_count": 5,
   "id": "d0a6b488",
   "metadata": {},
   "outputs": [
    {
     "name": "stdout",
     "output_type": "stream",
     "text": [
      "{}\n"
     ]
    }
   ],
   "source": [
    "x={\"1\":\"Apple\",       # CLear\n",
    "  '2':\"for\",\n",
    "   '3':'Maithili'}\n",
    "x.clear()\n",
    "print(x)\n"
   ]
  },
  {
   "cell_type": "code",
   "execution_count": 6,
   "id": "a46a5647",
   "metadata": {},
   "outputs": [
    {
     "name": "stdout",
     "output_type": "stream",
     "text": [
      "{'1': 'Apple', '2': 'for', '3': 'Maithili'}\n"
     ]
    }
   ],
   "source": [
    "x={\"1\":\"Apple\",      # Copy\n",
    "  '2':\"for\",\n",
    "   '3':'Maithili'}\n",
    "y=x.copy()\n",
    "print(y)\n"
   ]
  },
  {
   "cell_type": "code",
   "execution_count": 7,
   "id": "0ccea79b",
   "metadata": {},
   "outputs": [
    {
     "name": "stdout",
     "output_type": "stream",
     "text": [
      "Maithili\n"
     ]
    }
   ],
   "source": [
    "x={\"1\":\"Apple\",         #get() use  return the value of items with specified key\n",
    "  '2':\"for\",\n",
    "   '3':'Maithili'}\n",
    "y=x.get(\"3\")\n",
    "print(y)\n"
   ]
  },
  {
   "cell_type": "code",
   "execution_count": 8,
   "id": "b66620e7",
   "metadata": {},
   "outputs": [
    {
     "name": "stdout",
     "output_type": "stream",
     "text": [
      "dict_keys(['1', '2', '3'])\n"
     ]
    }
   ],
   "source": [
    "x={\"1\":\"Apple\",         #Key() use  return a view object\n",
    "  '2':\"for\",\n",
    "   '3':'Maithili'}\n",
    "y=x.keys()\n",
    "print(y)\n"
   ]
  },
  {
   "cell_type": "code",
   "execution_count": 9,
   "id": "d97a8938",
   "metadata": {},
   "outputs": [
    {
     "name": "stdout",
     "output_type": "stream",
     "text": [
      "{'1': 'Apple', '2': 'for'}\n"
     ]
    }
   ],
   "source": [
    "{\"1\":\"Apple\",         #popitem() use remove the last item from dictionary\n",
    "  '2':\"for\",\n",
    "   '3':'Maithili'}\n",
    "x.popitem()\n",
    "print(x)\n"
   ]
  },
  {
   "cell_type": "code",
   "execution_count": 10,
   "id": "e04aae95",
   "metadata": {},
   "outputs": [
    {
     "name": "stdout",
     "output_type": "stream",
     "text": [
      "{'1': 'Apple', '3': 'Maithili'}\n"
     ]
    }
   ],
   "source": [
    "x={\"1\":\"Apple\",         #pop() use remove the keys item from dictionary\n",
    "  '2':\"for\",\n",
    "   '3':'Maithili'}\n",
    "x.pop('2')\n",
    "print(x)\n"
   ]
  },
  {
   "cell_type": "code",
   "execution_count": 11,
   "id": "3abeac9f",
   "metadata": {},
   "outputs": [
    {
     "name": "stdout",
     "output_type": "stream",
     "text": [
      "for\n"
     ]
    }
   ],
   "source": [
    "{\"1\":\"Apple\",         #setdefault() \n",
    "  '2':\"for\",\n",
    "   '3':'Maithili'}\n",
    "y=x.setdefault('2','for')\n",
    "print(y)"
   ]
  },
  {
   "cell_type": "code",
   "execution_count": 12,
   "id": "11c171ab",
   "metadata": {},
   "outputs": [
    {
     "name": "stdout",
     "output_type": "stream",
     "text": [
      "{'1': 'Apple', '3': 'Maithili', '2': 'for'}\n"
     ]
    }
   ],
   "source": [
    "{\"1\":\"Apple\",         #Update() \n",
    "  '2':\"for\",\n",
    "   '3':'Maithili'}\n",
    "x.update({'2':'for'})\n",
    "print(x)"
   ]
  },
  {
   "cell_type": "code",
   "execution_count": 13,
   "id": "5920a6e6",
   "metadata": {},
   "outputs": [
    {
     "name": "stdout",
     "output_type": "stream",
     "text": [
      "dict_values(['Apple', 'for', 'Maithili'])\n"
     ]
    }
   ],
   "source": [
    "x={\"1\":\"Apple\",         #Values() \n",
    "  '2':\"for\",\n",
    "   '3':'Maithili'}\n",
    "y=x.values()\n",
    "print(y)"
   ]
  }
 ],
 "metadata": {
  "kernelspec": {
   "display_name": "Python 3 (ipykernel)",
   "language": "python",
   "name": "python3"
  },
  "language_info": {
   "codemirror_mode": {
    "name": "ipython",
    "version": 3
   },
   "file_extension": ".py",
   "mimetype": "text/x-python",
   "name": "python",
   "nbconvert_exporter": "python",
   "pygments_lexer": "ipython3",
   "version": "3.11.7"
  }
 },
 "nbformat": 4,
 "nbformat_minor": 5
}
