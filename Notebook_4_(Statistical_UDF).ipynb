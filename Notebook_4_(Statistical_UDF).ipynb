{
  "cells": [
    {
      "cell_type": "markdown",
      "source": [
        "**Statistical User Defined Functions:**"
      ],
      "metadata": {
        "id": "iP0CDhRDm6m4"
      },
      "id": "iP0CDhRDm6m4"
    },
    {
      "cell_type": "code",
      "source": [
        "def calculate_mode(d):\n",
        "#create an empty dictionary to store value counts\n",
        " value_counts ={}\n",
        "\n",
        "#iterate through data\n",
        "for value in d:\n",
        "    if value in value_counts:\n",
        "       value_counts[value] += 1\n",
        "    else:\n",
        "      value_counts[value] =1\n",
        "\n",
        "# Find the maximum count\n",
        "max_count = max (value_counts.values())\n",
        "\n",
        "# Mode\n",
        "mode_values = [key for key, count in value_counts.items() if count == max_count]\n",
        "return mode_values\n",
        "\n",
        "# Example :\n",
        "d= [8,5,7,9,6,3,3]\n",
        "M = calculate_mode(d)\n",
        "print(\"Mode(s):\",M)"
      ],
      "metadata": {
        "colab": {
          "base_uri": "https://localhost:8080/",
          "height": 211
        },
        "id": "FB9KvLMxnQV1",
        "outputId": "0e065af8-06d9-4bfd-e556-578c52955467"
      },
      "id": "FB9KvLMxnQV1",
      "execution_count": 43,
      "outputs": [
        {
          "output_type": "error",
          "ename": "NameError",
          "evalue": "name 'value_counts' is not defined",
          "traceback": [
            "\u001b[0;31m---------------------------------------------------------------------------\u001b[0m",
            "\u001b[0;31mNameError\u001b[0m                                 Traceback (most recent call last)",
            "\u001b[0;32m<ipython-input-43-176f55dbe6d0>\u001b[0m in \u001b[0;36m<cell line: 6>\u001b[0;34m()\u001b[0m\n\u001b[1;32m      5\u001b[0m \u001b[0;31m#iterate through data\u001b[0m\u001b[0;34m\u001b[0m\u001b[0;34m\u001b[0m\u001b[0m\n\u001b[1;32m      6\u001b[0m \u001b[0;32mfor\u001b[0m \u001b[0mvalue\u001b[0m \u001b[0;32min\u001b[0m \u001b[0md\u001b[0m\u001b[0;34m:\u001b[0m\u001b[0;34m\u001b[0m\u001b[0;34m\u001b[0m\u001b[0m\n\u001b[0;32m----> 7\u001b[0;31m     \u001b[0;32mif\u001b[0m \u001b[0mvalue\u001b[0m \u001b[0;32min\u001b[0m \u001b[0mvalue_counts\u001b[0m\u001b[0;34m:\u001b[0m\u001b[0;34m\u001b[0m\u001b[0;34m\u001b[0m\u001b[0m\n\u001b[0m\u001b[1;32m      8\u001b[0m        \u001b[0mvalue_counts\u001b[0m\u001b[0;34m[\u001b[0m\u001b[0mvalue\u001b[0m\u001b[0;34m]\u001b[0m \u001b[0;34m+=\u001b[0m \u001b[0;36m1\u001b[0m\u001b[0;34m\u001b[0m\u001b[0;34m\u001b[0m\u001b[0m\n\u001b[1;32m      9\u001b[0m     \u001b[0;32melse\u001b[0m\u001b[0;34m:\u001b[0m\u001b[0;34m\u001b[0m\u001b[0;34m\u001b[0m\u001b[0m\n",
            "\u001b[0;31mNameError\u001b[0m: name 'value_counts' is not defined"
          ]
        }
      ]
    },
    {
      "cell_type": "code",
      "source": [
        "def custum_mean(num):\n",
        "  if len(num) == 0:\n",
        "    return 0\n",
        "\n",
        "\n",
        "\n",
        "  mean = sum(num) / len (num)\n",
        "  return Mean\n",
        "num=[63,85,96,75,63]\n",
        "mean=custum_mean\n",
        "print(\" THE MEAN OF GIVEN NUMBERS IS :\",mean)"
      ],
      "metadata": {
        "colab": {
          "base_uri": "https://localhost:8080/"
        },
        "id": "3xxGeJIds0ww",
        "outputId": "7b72bb6a-ad89-43a8-cdf8-b846e1600e43"
      },
      "id": "3xxGeJIds0ww",
      "execution_count": 22,
      "outputs": [
        {
          "output_type": "stream",
          "name": "stdout",
          "text": [
            " THE MEAN OF GIVEN NUMBERS IS : <function custum_mean at 0x78b18e5cc8b0>\n"
          ]
        }
      ]
    },
    {
      "cell_type": "code",
      "source": [
        "def calculate_variance(data):\n",
        "  n = len(data)\n",
        "  mean = sum(data) / n\n",
        "  squared_deviations =    [(x - mean) ** 2 for x in data]\n",
        "  variance = sum (squared_deviations) / n\n",
        "  return variance_value\n",
        "\n",
        "#Example\n",
        "d=[3,2,4,5,8]\n",
        "variance = calculate_variance (d)\n",
        "print(f\"Variance:  {variance:.6f}\")\n"
      ],
      "metadata": {
        "colab": {
          "base_uri": "https://localhost:8080/"
        },
        "id": "wDujerkFvNAy",
        "outputId": "3201cc06-7ce5-4e31-cdeb-987a44faaba2"
      },
      "id": "wDujerkFvNAy",
      "execution_count": 39,
      "outputs": [
        {
          "output_type": "stream",
          "name": "stdout",
          "text": [
            "Variance:  1036.266667\n"
          ]
        }
      ]
    },
    {
      "cell_type": "code",
      "source": [
        "def calculate_range(data):\n",
        "  data_min = min(data)\n",
        "  data_max = max(data)\n",
        "  data_range = data_max - data_min\n",
        "  return data_range\n",
        "\n",
        "#Example:\n",
        "d=[6,8,7,5,4]\n",
        "r= calculate_range(d)\n",
        "print(f\"Maximum value:(r)\")"
      ],
      "metadata": {
        "colab": {
          "base_uri": "https://localhost:8080/"
        },
        "id": "MuadQ6djx6g0",
        "outputId": "513f7eba-f8fa-4517-f487-2a98cad5c2a9"
      },
      "id": "MuadQ6djx6g0",
      "execution_count": 45,
      "outputs": [
        {
          "output_type": "stream",
          "name": "stdout",
          "text": [
            "Maximum value:(r)\n"
          ]
        }
      ]
    },
    {
      "cell_type": "code",
      "execution_count": 30,
      "id": "0aabe7d3-63b1-4d4a-bf2f-4d81bee35e93",
      "metadata": {
        "colab": {
          "base_uri": "https://localhost:8080/"
        },
        "id": "0aabe7d3-63b1-4d4a-bf2f-4d81bee35e93",
        "outputId": "7c308d26-f44d-4180-b5d5-20b6216cc6ca"
      },
      "outputs": [
        {
          "output_type": "stream",
          "name": "stdout",
          "text": [
            "standard deviation value: 32.19109607743524\n"
          ]
        }
      ],
      "source": [
        "import statistics\n",
        "def calculate_std_deviation(data):\n",
        "    return statistics.stdev(data)\n",
        "data=[45,12,87,54,32,96]\n",
        "std_value=calculate_std_deviation(data)\n",
        "print(\"standard deviation value:\",std_value)"
      ]
    },
    {
      "cell_type": "code",
      "execution_count": 31,
      "id": "6b77ab14-876f-4471-b5b3-402d663abb58",
      "metadata": {
        "colab": {
          "base_uri": "https://localhost:8080/"
        },
        "id": "6b77ab14-876f-4471-b5b3-402d663abb58",
        "outputId": "e245d3c0-6f8f-4abc-c8a9-874768d31150"
      },
      "outputs": [
        {
          "output_type": "stream",
          "name": "stdout",
          "text": [
            "mean: 54.333333333333336\n"
          ]
        }
      ],
      "source": [
        "def calculate_mean(data):\n",
        "    return statistics.mean(data)\n",
        "data=[45,12,87,54,32,96]\n",
        "mean_value=calculate_mean(data)\n",
        "print(\"mean:\",mean_value)"
      ]
    },
    {
      "cell_type": "code",
      "execution_count": 32,
      "id": "2629ba5e-2df5-46dd-b65d-c01bd0a61a71",
      "metadata": {
        "colab": {
          "base_uri": "https://localhost:8080/"
        },
        "id": "2629ba5e-2df5-46dd-b65d-c01bd0a61a71",
        "outputId": "6037eee7-0d49-4b0d-c78e-4d262c3c7abe"
      },
      "outputs": [
        {
          "output_type": "stream",
          "name": "stdout",
          "text": [
            "variance: 1036.2666666666667\n"
          ]
        }
      ],
      "source": [
        "def calculate_variance(data):\n",
        "    return statistics.variance(data)\n",
        "data=[45,12,87,54,32,96]\n",
        "variance_value=calculate_variance(data)\n",
        "print(\"variance:\",variance_value)"
      ]
    },
    {
      "cell_type": "code",
      "execution_count": 27,
      "id": "2827b3cf-c19d-47d6-8145-d228fd6bf8d7",
      "metadata": {
        "colab": {
          "base_uri": "https://localhost:8080/"
        },
        "id": "2827b3cf-c19d-47d6-8145-d228fd6bf8d7",
        "outputId": "8ae5ee27-e320-4c48-b9da-96ef0294b651"
      },
      "outputs": [
        {
          "output_type": "stream",
          "name": "stdout",
          "text": [
            "median: 49.5\n"
          ]
        }
      ],
      "source": [
        "def calculate_median(data):\n",
        "    return statistics.median(data)\n",
        "data=[45,12,87,54,32,96]\n",
        "median_value=calculate_median(data)\n",
        "print(\"median:\",median_value)"
      ]
    },
    {
      "cell_type": "code",
      "execution_count": 33,
      "id": "1fc5c4f5-9084-453b-8eab-2553c05a6242",
      "metadata": {
        "colab": {
          "base_uri": "https://localhost:8080/"
        },
        "id": "1fc5c4f5-9084-453b-8eab-2553c05a6242",
        "outputId": "d45b59c4-dfad-4f89-9387-44319a46f150"
      },
      "outputs": [
        {
          "output_type": "stream",
          "name": "stdout",
          "text": [
            "mode: 45\n"
          ]
        }
      ],
      "source": [
        "def calculate_mode(data):\n",
        "    return statistics.mode(data)\n",
        "data=[45,12,87,54,32,96]\n",
        "mode_value=calculate_mode(data)\n",
        "print(\"mode:\",mode_value)"
      ]
    }
  ],
  "metadata": {
    "kernelspec": {
      "display_name": "Python 3 (ipykernel)",
      "language": "python",
      "name": "python3"
    },
    "language_info": {
      "codemirror_mode": {
        "name": "ipython",
        "version": 3
      },
      "file_extension": ".py",
      "mimetype": "text/x-python",
      "name": "python",
      "nbconvert_exporter": "python",
      "pygments_lexer": "ipython3",
      "version": "3.11.7"
    },
    "colab": {
      "provenance": []
    }
  },
  "nbformat": 4,
  "nbformat_minor": 5
}