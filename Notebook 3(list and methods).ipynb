{
 "cells": [
  {
   "cell_type": "code",
   "execution_count": 1,
   "id": "f7ac015f",
   "metadata": {},
   "outputs": [],
   "source": [
    "#List \n",
    "#a)It is a collection of Orderd. \n",
    "#b)It is changable. c)It take Dublicates. \n",
    "#d) It is written in square bracket[]."
   ]
  },
  {
   "cell_type": "code",
   "execution_count": 2,
   "id": "b950f227",
   "metadata": {},
   "outputs": [
    {
     "name": "stdout",
     "output_type": "stream",
     "text": [
      "['Banana', 'Mango', 'Apple']\n"
     ]
    }
   ],
   "source": [
    "A=['Banana','Mango','Apple'] #Orderdwise\n",
    "print(A)"
   ]
  },
  {
   "cell_type": "code",
   "execution_count": 3,
   "id": "48994273",
   "metadata": {},
   "outputs": [
    {
     "name": "stdout",
     "output_type": "stream",
     "text": [
      "['Cherry', 'Mango', 'Apple']\n"
     ]
    }
   ],
   "source": [
    "A=['Banana','Mango','Apple'] #Changable\n",
    "A[0]=\"Cherry\"\n",
    "print(A)"
   ]
  },
  {
   "cell_type": "code",
   "execution_count": 4,
   "id": "1272590b",
   "metadata": {},
   "outputs": [
    {
     "name": "stdout",
     "output_type": "stream",
     "text": [
      "['Banana', 'Mango', 'Apple', 'Banana']\n"
     ]
    }
   ],
   "source": [
    "A=['Banana','Mango','Apple','Banana'] #Dublicate Value\n",
    "print(A)"
   ]
  },
  {
   "cell_type": "code",
   "execution_count": 5,
   "id": "13521d4c",
   "metadata": {},
   "outputs": [
    {
     "name": "stdout",
     "output_type": "stream",
     "text": [
      "['Banana', 'Mango', 'Apple', 'cherry']\n"
     ]
    }
   ],
   "source": [
    "A=['Banana','Mango','Apple'] #Add(append)\n",
    "A.append(\"cherry\")\n",
    "print(A)"
   ]
  },
  {
   "cell_type": "code",
   "execution_count": 6,
   "id": "cf4c7ce9",
   "metadata": {},
   "outputs": [
    {
     "name": "stdout",
     "output_type": "stream",
     "text": [
      "['Banana', 'Mango', 'cherry', 'Apple']\n"
     ]
    }
   ],
   "source": [
    "A=['Banana','Mango','Apple'] #Insert\n",
    "A.insert(2,\"cherry\")\n",
    "print(A)"
   ]
  },
  {
   "cell_type": "code",
   "execution_count": 7,
   "id": "e0015f32",
   "metadata": {},
   "outputs": [
    {
     "name": "stdout",
     "output_type": "stream",
     "text": [
      "['Banana', 'Mango', 'Apple', 'cherry', 'Grapes', 'banana']\n"
     ]
    }
   ],
   "source": [
    "A=['Banana','Mango','Apple']  #Extend\n",
    "B=['cherry','Grapes','banana']\n",
    "A.extend(B)\n",
    "print(A)"
   ]
  },
  {
   "cell_type": "code",
   "execution_count": 8,
   "id": "30ef8e00",
   "metadata": {},
   "outputs": [
    {
     "name": "stdout",
     "output_type": "stream",
     "text": [
      "['Banana', 'Mango']\n"
     ]
    }
   ],
   "source": [
    "A=['Banana','Mango','Apple'] #Remove a Spesific Value\n",
    "A.remove('Apple')\n",
    "print(A)"
   ]
  },
  {
   "cell_type": "code",
   "execution_count": 9,
   "id": "f7deaf18",
   "metadata": {},
   "outputs": [
    {
     "name": "stdout",
     "output_type": "stream",
     "text": [
      "['Banana', 'Apple']\n"
     ]
    }
   ],
   "source": [
    "A=['Banana','Mango','Apple'] #Remove a Spesific index by using pop\n",
    "A.pop(1)\n",
    "print(A)"
   ]
  },
  {
   "cell_type": "code",
   "execution_count": 10,
   "id": "43080ab2",
   "metadata": {},
   "outputs": [
    {
     "name": "stdout",
     "output_type": "stream",
     "text": [
      "['Banana', 'Apple']\n"
     ]
    }
   ],
   "source": [
    "A=['Banana','Mango','Apple']  #Delete a Spesific index by using del\n",
    "del A [1]\n",
    "print(A)"
   ]
  },
  {
   "cell_type": "code",
   "execution_count": 12,
   "id": "64d1d033",
   "metadata": {},
   "outputs": [
    {
     "name": "stdout",
     "output_type": "stream",
     "text": [
      "[]\n"
     ]
    }
   ],
   "source": [
    "A=['Banana','Mango','Apple']  #Clear the list \n",
    "A.clear()\n",
    "print(A)"
   ]
  },
  {
   "cell_type": "code",
   "execution_count": 13,
   "id": "51951b64",
   "metadata": {},
   "outputs": [
    {
     "name": "stdout",
     "output_type": "stream",
     "text": [
      "Banana\n",
      "Mango\n",
      "Apple\n"
     ]
    }
   ],
   "source": [
    "A=['Banana','Mango','Apple']  #loop through the list \n",
    "for i in A:\n",
    "    print(i)"
   ]
  },
  {
   "cell_type": "code",
   "execution_count": 15,
   "id": "6ddd54a0",
   "metadata": {},
   "outputs": [
    {
     "name": "stdout",
     "output_type": "stream",
     "text": [
      "['Apple', 'Banana', 'Mango']\n"
     ]
    }
   ],
   "source": [
    "A=['Banana','Mango','Apple']  #Sort in Asc and Desc\n",
    "A.sort()\n",
    "print(A)"
   ]
  },
  {
   "cell_type": "code",
   "execution_count": 17,
   "id": "59c21e70",
   "metadata": {},
   "outputs": [
    {
     "name": "stdout",
     "output_type": "stream",
     "text": [
      "['Mango', 'Banana', 'Apple']\n"
     ]
    }
   ],
   "source": [
    "A=['Banana','Mango','Apple']  #Sort in  Desc\n",
    "A.sort(reverse=True)\n",
    "print(A)"
   ]
  },
  {
   "cell_type": "code",
   "execution_count": 18,
   "id": "417f73e2",
   "metadata": {},
   "outputs": [
    {
     "name": "stdout",
     "output_type": "stream",
     "text": [
      "['Banana', 'Mango', 'Apple']\n"
     ]
    }
   ],
   "source": [
    "A=['Banana','Mango','Apple']  #Copy the list\n",
    "B=A.copy()\n",
    "print(B)"
   ]
  },
  {
   "cell_type": "code",
   "execution_count": 19,
   "id": "a68da371",
   "metadata": {},
   "outputs": [
    {
     "name": "stdout",
     "output_type": "stream",
     "text": [
      "['Banana', 'Mango', 'Apple']\n"
     ]
    }
   ],
   "source": [
    "A=['Banana','Mango','Apple']  #Copy the list\n",
    "B=list(A)\n",
    "print(B)"
   ]
  }
 ],
 "metadata": {
  "kernelspec": {
   "display_name": "Python 3 (ipykernel)",
   "language": "python",
   "name": "python3"
  },
  "language_info": {
   "codemirror_mode": {
    "name": "ipython",
    "version": 3
   },
   "file_extension": ".py",
   "mimetype": "text/x-python",
   "name": "python",
   "nbconvert_exporter": "python",
   "pygments_lexer": "ipython3",
   "version": "3.11.7"
  }
 },
 "nbformat": 4,
 "nbformat_minor": 5
}
