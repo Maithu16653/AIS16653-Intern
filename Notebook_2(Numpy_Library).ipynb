{
  "nbformat": 4,
  "nbformat_minor": 0,
  "metadata": {
    "colab": {
      "provenance": []
    },
    "kernelspec": {
      "name": "python3",
      "display_name": "Python 3"
    },
    "language_info": {
      "name": "python"
    }
  },
  "cells": [
    {
      "cell_type": "markdown",
      "source": [
        "**Numpy Basic Operations**: In the case of +=, -=, *= operators, the existing array is modified."
      ],
      "metadata": {
        "id": "wnYjf1Xe7NPc"
      }
    },
    {
      "cell_type": "code",
      "source": [
        "import numpy as np\n",
        "\n",
        "f = np.array([1, 2, 5, 3])\n",
        "\n",
        "# add 2 to every element\n",
        "print (\"Adding 1 to every element:\", f+1)\n",
        "\n",
        "# subtract 2 from each element\n",
        "print (\"Subtracting 2 from each element:\", f-3)\n",
        "\n",
        "# multiply each element by 5\n",
        "print (\"Multiplying each element by 5:\", f*10)\n",
        "\n",
        "# square each element\n",
        "print (\"Squaring each element:\", f**2)\n",
        "\n",
        "# modify existing array\n",
        "f *= 2\n",
        "print (\"Doubled each element of original array:\", f)\n"
      ],
      "metadata": {
        "colab": {
          "base_uri": "https://localhost:8080/"
        },
        "id": "e_px9Mnt74-S",
        "outputId": "8f30135d-7cad-4d7d-ec00-93f17041be20"
      },
      "execution_count": 12,
      "outputs": [
        {
          "output_type": "stream",
          "name": "stdout",
          "text": [
            "Adding 1 to every element: [2 3 6 4]\n",
            "Subtracting 2 from each element: [-2 -1  2  0]\n",
            "Multiplying each element by 5: [10 20 50 30]\n",
            "Squaring each element: [ 1  4 25  9]\n",
            "Doubled each element of original array: [ 2  4 10  6]\n"
          ]
        }
      ]
    },
    {
      "cell_type": "markdown",
      "source": [
        "**NumPy Unary Operators**: It includes sum, min, max, etc."
      ],
      "metadata": {
        "id": "m4EcqF7j_SUe"
      }
    },
    {
      "cell_type": "code",
      "source": [
        "#Example:\n",
        "arr = np.array([[1, 2, 3],\n",
        "                [4, 5, 6],\n",
        "                [7, 8, 9]])\n",
        "\n",
        "# maximum element of array\n",
        "print (\"Largest element is:\", arr.max())\n",
        "print (\"Row-wise maximum elements:\",\n",
        "                    arr.max(axis = 1))\n",
        "\n",
        "# minimum element of array\n",
        "print (\"Column-wise minimum elements:\",\n",
        "                        arr.min(axis = 0))\n",
        "\n",
        "# sum of array elements\n",
        "print (\"Sum of all array elements:\",\n",
        "                            arr.sum())\n",
        "\n",
        "# cumulative sum along each row\n",
        "print (\"Cumulative sum along each row:\\n\",\n",
        "                        arr.cumsum(axis = 1))"
      ],
      "metadata": {
        "colab": {
          "base_uri": "https://localhost:8080/"
        },
        "id": "13qNsmBd_ib3",
        "outputId": "7374aadf-8364-4ce3-942e-6f19b3ceb2c5"
      },
      "execution_count": 16,
      "outputs": [
        {
          "output_type": "stream",
          "name": "stdout",
          "text": [
            "Largest element is: 9\n",
            "Row-wise maximum elements: [3 6 9]\n",
            "Column-wise minimum elements: [1 2 3]\n",
            "Sum of all array elements: 45\n",
            "Cumulative sum along each row:\n",
            " [[ 1  3  6]\n",
            " [ 4  9 15]\n",
            " [ 7 15 24]]\n"
          ]
        }
      ]
    },
    {
      "cell_type": "markdown",
      "source": [
        "**NumPy Binary Operators**:These operations apply to the array elementwise and a new array is created."
      ],
      "metadata": {
        "id": "Bb8pUN9MAbUS"
      }
    },
    {
      "cell_type": "code",
      "source": [
        "#Example:\n",
        "\n",
        "x = np.array([[1, 2],\n",
        "            [3, 4]])\n",
        "y = np.array([[4, 3],\n",
        "            [2, 1]])\n",
        "\n",
        "# add arrays\n",
        "print (\"Array sum:\\n\", x + y)\n",
        "\n",
        "# multiply arrays (elementwise multiplication)\n",
        "print (\"Array multiplication:\\n\", x*y)\n",
        "\n",
        "# matrix multiplication\n",
        "print (\"Matrix multiplication:\\n\", x.dot(y))"
      ],
      "metadata": {
        "colab": {
          "base_uri": "https://localhost:8080/"
        },
        "id": "BFJlxzjzBUls",
        "outputId": "787a55db-4ff3-4164-f106-85e039cc2288"
      },
      "execution_count": 17,
      "outputs": [
        {
          "output_type": "stream",
          "name": "stdout",
          "text": [
            "Array sum:\n",
            " [[5 5]\n",
            " [5 5]]\n",
            "Array multiplication:\n",
            " [[4 6]\n",
            " [6 4]]\n",
            "Matrix multiplication:\n",
            " [[ 8  5]\n",
            " [20 13]]\n"
          ]
        }
      ]
    },
    {
      "cell_type": "code",
      "source": [
        "#Sorting of array\n",
        "#Example:\n",
        "array = np.array([\n",
        "    [1, 2, 3],\n",
        "    [4, 5, 6],\n",
        "    [7, 8, 9]\n",
        "])\n",
        "print(array)\n",
        "print()\n",
        "\n",
        "# Sort the whole array\n",
        "print(np.sort(array, axis=None))\n",
        "\n",
        "# Sort along each row\n",
        "print(np.sort(array, axis=1))\n",
        "\n",
        "# Sort along each column\n",
        "print(np.sort(array, axis=0))"
      ],
      "metadata": {
        "colab": {
          "base_uri": "https://localhost:8080/"
        },
        "id": "xJ3ew_C1D9MA",
        "outputId": "e6ed28da-27c9-417d-e687-9466ad21fdbc"
      },
      "execution_count": 15,
      "outputs": [
        {
          "output_type": "stream",
          "name": "stdout",
          "text": [
            "[[1 2 3]\n",
            " [4 5 6]\n",
            " [7 8 9]]\n",
            "\n",
            "[1 2 3 4 5 6 7 8 9]\n",
            "[[1 2 3]\n",
            " [4 5 6]\n",
            " [7 8 9]]\n",
            "[[1 2 3]\n",
            " [4 5 6]\n",
            " [7 8 9]]\n"
          ]
        }
      ]
    },
    {
      "cell_type": "code",
      "source": [
        "#Example:\n",
        "x= np.array([1, 2, 3, 4, 5, 6, 0])\n",
        "print(x)\n",
        "\n",
        "print(np.argsort(x))"
      ],
      "metadata": {
        "colab": {
          "base_uri": "https://localhost:8080/"
        },
        "id": "ifg0gC-zE8mX",
        "outputId": "48627462-e7ca-49dd-b93a-1c522430d76e"
      },
      "execution_count": 18,
      "outputs": [
        {
          "output_type": "stream",
          "name": "stdout",
          "text": [
            "[1 2 3 4 5 6 0]\n",
            "[6 0 1 2 3 4 5]\n"
          ]
        }
      ]
    }
  ]
}