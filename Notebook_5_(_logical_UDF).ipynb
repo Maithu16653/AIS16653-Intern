{
  "cells": [
    {
      "cell_type": "markdown",
      "id": "241efe4c-a996-42d2-a42a-e4b757d0a8df",
      "metadata": {
        "id": "241efe4c-a996-42d2-a42a-e4b757d0a8df"
      },
      "source": [
        "  **Logical user defined function**"
      ]
    },
    {
      "cell_type": "code",
      "source": [
        "def square(x):\n",
        "  return x**2\n",
        "  print(square(8))"
      ],
      "metadata": {
        "id": "xrCEXMoSjTw_"
      },
      "id": "xrCEXMoSjTw_",
      "execution_count": null,
      "outputs": []
    },
    {
      "cell_type": "code",
      "source": [
        "def print_square(start, end):\n",
        "  for num in range(start, end+1 ):\n",
        "    print(f\"{num} squared is {num**2}\")\n",
        "#Example:\n",
        "print_square(1,10)"
      ],
      "metadata": {
        "colab": {
          "base_uri": "https://localhost:8080/"
        },
        "id": "z0ndgoKTj5CP",
        "outputId": "25e79b4d-d19d-41a3-f3d1-30fe98ce7f9d"
      },
      "id": "z0ndgoKTj5CP",
      "execution_count": null,
      "outputs": [
        {
          "output_type": "stream",
          "name": "stdout",
          "text": [
            "1 squared is 1\n",
            "2 squared is 4\n",
            "3 squared is 9\n",
            "4 squared is 16\n",
            "5 squared is 25\n",
            "6 squared is 36\n",
            "7 squared is 49\n",
            "8 squared is 64\n",
            "9 squared is 81\n",
            "10 squared is 100\n"
          ]
        }
      ]
    },
    {
      "cell_type": "code",
      "execution_count": null,
      "id": "974baccb-4655-4474-96ef-6b53b1970bf4",
      "metadata": {
        "colab": {
          "base_uri": "https://localhost:8080/"
        },
        "id": "974baccb-4655-4474-96ef-6b53b1970bf4",
        "outputId": "300a026f-fb4b-4da3-cfa8-3119bed874a8"
      },
      "outputs": [
        {
          "output_type": "stream",
          "name": "stdout",
          "text": [
            "Enter number19\n",
            "the number 19 is Odd\n"
          ]
        }
      ],
      "source": [
        "def is_ev_od(n):\n",
        "    if n%2==0:\n",
        "        return \"Even\"\n",
        "    else:\n",
        "        return \"Odd\"\n",
        "no=int(input(\"Enter number\"))\n",
        "result=is_ev_od(no)\n",
        "print(\"the number\",no,\"is\",result)"
      ]
    },
    {
      "cell_type": "code",
      "execution_count": null,
      "id": "266c824c-fa30-4ae7-be6e-4a2c5f7e8f7d",
      "metadata": {
        "colab": {
          "base_uri": "https://localhost:8080/"
        },
        "id": "266c824c-fa30-4ae7-be6e-4a2c5f7e8f7d",
        "outputId": "dd8e7f2a-a6a7-4821-ced6-78e0494e0b0e"
      },
      "outputs": [
        {
          "output_type": "stream",
          "name": "stdout",
          "text": [
            "Enter number28\n",
            "the number 28 is Even\n"
          ]
        }
      ],
      "source": [
        "def is_ev_od(n):\n",
        "    if n%2==0:\n",
        "        return \"Even\"\n",
        "    else:\n",
        "        return \"Odd\"\n",
        "no=int(input(\"Enter number\"))\n",
        "result=is_ev_od(no)\n",
        "print(\"the number\",no,\"is\",result)\n"
      ]
    },
    {
      "cell_type": "code",
      "execution_count": null,
      "id": "f776b3f4-4652-48be-a584-e113f6a42a22",
      "metadata": {
        "colab": {
          "base_uri": "https://localhost:8080/"
        },
        "id": "f776b3f4-4652-48be-a584-e113f6a42a22",
        "outputId": "a09e189f-d93b-46bf-95d2-e5a3b5596ec4"
      },
      "outputs": [
        {
          "output_type": "stream",
          "name": "stdout",
          "text": [
            "enter your marks:53\n",
            "Grade:F\n"
          ]
        }
      ],
      "source": [
        "def calculate_grade(marks):\n",
        "  if 90 <=  marks <= 100:\n",
        "    return'A'\n",
        "  elif 80 <= marks < 90:\n",
        "      return 'B'\n",
        "  elif 70 <= marks < 80:\n",
        "        return'C'\n",
        "  elif 60 <= marks< 70:\n",
        "          return'D'\n",
        "  else:\n",
        "            return'F'\n",
        "\n",
        "#Example:\n",
        "student_marks=int(input(\"enter your marks:\"))\n",
        "grade=calculate_grade(student_marks)\n",
        "print(f\"Grade:{grade}\")"
      ]
    },
    {
      "cell_type": "code",
      "execution_count": null,
      "id": "2bbe8325-946a-4973-b79d-4167232610e8",
      "metadata": {
        "colab": {
          "base_uri": "https://localhost:8080/"
        },
        "id": "2bbe8325-946a-4973-b79d-4167232610e8",
        "outputId": "6048b46c-2344-4835-edd0-95e4da18f58e"
      },
      "outputs": [
        {
          "output_type": "stream",
          "name": "stdout",
          "text": [
            "enter a num8\n",
            "factorial is: 40320\n"
          ]
        }
      ],
      "source": [
        "def factorial(n):\n",
        "    fact=1\n",
        "    for i in range(1,n+1):\n",
        "        fact=fact*i\n",
        "    return fact\n",
        "number=int(input(\"enter a num\"))\n",
        "f=factorial(number)\n",
        "print(\"factorial is:\",f)"
      ]
    },
    {
      "cell_type": "code",
      "execution_count": null,
      "id": "5b44f95f-31f9-4c60-9e83-f558fc6b3f24",
      "metadata": {
        "colab": {
          "base_uri": "https://localhost:8080/"
        },
        "id": "5b44f95f-31f9-4c60-9e83-f558fc6b3f24",
        "outputId": "bd728aae-ac3a-4964-8909-481032a9011c"
      },
      "outputs": [
        {
          "output_type": "stream",
          "name": "stdout",
          "text": [
            "Enter Radius56\n",
            "351.68\n"
          ]
        }
      ],
      "source": [
        "def area(r):\n",
        "    pi=3.14\n",
        "    a=pi*r*2\n",
        "    return a\n",
        "rad=int(input(\"Enter Radius\"))\n",
        "print(area(rad))"
      ]
    },
    {
      "cell_type": "code",
      "execution_count": null,
      "id": "2a80e5b0-497a-4307-a50e-5b758845afd6",
      "metadata": {
        "colab": {
          "base_uri": "https://localhost:8080/"
        },
        "id": "2a80e5b0-497a-4307-a50e-5b758845afd6",
        "outputId": "655ab8ae-702f-4f5d-f44e-88b3a1e28c93"
      },
      "outputs": [
        {
          "output_type": "stream",
          "name": "stdout",
          "text": [
            "maximum num: 9\n"
          ]
        }
      ],
      "source": [
        "def max(n):\n",
        "    m=n[0]\n",
        "    for x in n:\n",
        "        if x>m:\n",
        "            m=x\n",
        "    return m\n",
        "l=[8,6,5,9,5]\n",
        "max_num=max(l)\n",
        "print(\"maximum num:\",max_num)"
      ]
    },
    {
      "cell_type": "code",
      "execution_count": null,
      "id": "bdaf7b0c-6d83-4e80-a6ac-e82c841938d7",
      "metadata": {
        "id": "bdaf7b0c-6d83-4e80-a6ac-e82c841938d7",
        "outputId": "0525ac44-97fa-4f24-a5e5-bcb0b4dc987d"
      },
      "outputs": [
        {
          "name": "stdin",
          "output_type": "stream",
          "text": [
            "Enter a number 12\n"
          ]
        },
        {
          "name": "stdout",
          "output_type": "stream",
          "text": [
            "it is not prime\n"
          ]
        }
      ],
      "source": [
        "def prime(n):\n",
        "    if n <=1:\n",
        "        return \"not prime\"\n",
        "    else:\n",
        "        i=2\n",
        "        while i <n:\n",
        "            if n%i==0:\n",
        "                return \"it is not prime\"\n",
        "            else:\n",
        "                return \"It is prime\"\n",
        "                i=i+1\n",
        "num=int(input(\"Enter a number\"))\n",
        "print(prime(num))"
      ]
    },
    {
      "cell_type": "code",
      "execution_count": null,
      "id": "fc58f4d6-aa6e-448e-b163-fe0a8e2f428d",
      "metadata": {
        "colab": {
          "base_uri": "https://localhost:8080/"
        },
        "id": "fc58f4d6-aa6e-448e-b163-fe0a8e2f428d",
        "outputId": "634b1481-4356-4b78-a058-237f755d69a6"
      },
      "outputs": [
        {
          "output_type": "stream",
          "name": "stdout",
          "text": [
            "Enter a WordMathematics\n",
            "1\n"
          ]
        }
      ],
      "source": [
        "def vowel_count(s):\n",
        "    c=0\n",
        "    vowels='aeiou'\n",
        "    for char in s:\n",
        "        if char in vowels:\n",
        "            c=c+1\n",
        "            return c\n",
        "st=input(\"Enter a Word\")\n",
        "v_count=vowel_count(st)\n",
        "print(v_count)"
      ]
    }
  ],
  "metadata": {
    "kernelspec": {
      "display_name": "Python 3 (ipykernel)",
      "language": "python",
      "name": "python3"
    },
    "language_info": {
      "codemirror_mode": {
        "name": "ipython",
        "version": 3
      },
      "file_extension": ".py",
      "mimetype": "text/x-python",
      "name": "python",
      "nbconvert_exporter": "python",
      "pygments_lexer": "ipython3",
      "version": "3.11.7"
    },
    "colab": {
      "provenance": []
    }
  },
  "nbformat": 4,
  "nbformat_minor": 5
}