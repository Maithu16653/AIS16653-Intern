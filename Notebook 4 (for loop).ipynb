{
 "cells": [
  {
   "cell_type": "code",
   "execution_count": 2,
   "id": "6f73f180-70d0-4f46-805d-fdd12af36be0",
   "metadata": {},
   "outputs": [],
   "source": [
    "#For loop : Used to iterate over sequences such as lists, strings, tuples, etc."
   ]
  },
  {
   "cell_type": "code",
   "execution_count": 3,
   "id": "4fbdec5d-904b-4a6c-a1e3-3aa07c9cc4dd",
   "metadata": {},
   "outputs": [
    {
     "name": "stdout",
     "output_type": "stream",
     "text": [
      "Swift\n",
      "Scorpio\n",
      "Thar\n"
     ]
    }
   ],
   "source": [
    "Cars = ['Swift', 'Scorpio', 'Thar']\n",
    "# access elements of the list one by one\n",
    "for i in Cars:\n",
    "    print(i)      \n",
    "# we have created a list called Cars. As the list has 3 elements, the loop iterates 3 times.\n",
    "#The value of i is: #Swift in the first iteration.\n",
    "                    # Scorpio in the second iteration.\n",
    "                    #Thar in the third iteration."
   ]
  },
  {
   "cell_type": "code",
   "execution_count": 4,
   "id": "8a6e4784-c840-4c1d-ace4-3e0e09adc52e",
   "metadata": {},
   "outputs": [
    {
     "ename": "SyntaxError",
     "evalue": "incomplete input (983514877.py, line 3)",
     "output_type": "error",
     "traceback": [
      "\u001b[1;36m  Cell \u001b[1;32mIn[4], line 3\u001b[1;36m\u001b[0m\n\u001b[1;33m    # statement(s)\u001b[0m\n\u001b[1;37m                  ^\u001b[0m\n\u001b[1;31mSyntaxError\u001b[0m\u001b[1;31m:\u001b[0m incomplete input\n"
     ]
    }
   ],
   "source": [
    "#For loop Syntax:\n",
    "for val in sequence:\n",
    "    # statement(s)"
   ]
  },
  {
   "cell_type": "code",
   "execution_count": 9,
   "id": "d7a6b8e4-c595-4f52-a568-0635e45edf60",
   "metadata": {},
   "outputs": [
    {
     "name": "stdout",
     "output_type": "stream",
     "text": [
      "S\n",
      "c\n",
      "o\n",
      "r\n",
      "p\n",
      "i\n",
      "o\n"
     ]
    }
   ],
   "source": [
    "#Example 1: Loop Through a String\n",
    "Cars= 'Scorpio'\n",
    "# iterate over each character in Cars\n",
    "for x in Cars:\n",
    "    print(x)"
   ]
  },
  {
   "cell_type": "code",
   "execution_count": 10,
   "id": "03115dc8-0e1a-4b7c-850c-af9de462c85a",
   "metadata": {},
   "outputs": [
    {
     "name": "stdout",
     "output_type": "stream",
     "text": [
      "S\n",
      "w\n",
      "i\n",
      "f\n",
      "t\n"
     ]
    }
   ],
   "source": [
    "#Example 2\n",
    "Cars= 'Swift'\n",
    "# iterate over each character in Cars\n",
    "for x in Cars:\n",
    "    print(x)\n",
    "\n"
   ]
  },
  {
   "cell_type": "code",
   "execution_count": 12,
   "id": "d0f3f8dd-485e-4a91-bd94-d57c2995ee85",
   "metadata": {},
   "outputs": [
    {
     "name": "stdout",
     "output_type": "stream",
     "text": [
      "0\n",
      "2\n",
      "4\n",
      "6\n",
      "8\n"
     ]
    }
   ],
   "source": [
    "#Example.3: (For Range) \n",
    "for i in range(0, 10, 2):\n",
    "    print(i)"
   ]
  },
  {
   "cell_type": "code",
   "execution_count": 13,
   "id": "b3e6e7f8-8176-4155-879e-281a9e511bd2",
   "metadata": {},
   "outputs": [
    {
     "name": "stdout",
     "output_type": "stream",
     "text": [
      "0\n",
      "5\n",
      "10\n",
      "15\n",
      "20\n"
     ]
    }
   ],
   "source": [
    "#Example.4: (For Range) \n",
    "for i in range(0, 25, 5):\n",
    "    print(i)"
   ]
  },
  {
   "cell_type": "code",
   "execution_count": 16,
   "id": "ce8fdb48-5d4f-44fe-8f00-c29c4263430d",
   "metadata": {},
   "outputs": [
    {
     "name": "stdout",
     "output_type": "stream",
     "text": [
      "0 eat\n",
      "1 sleep\n",
      "2 repeat\n"
     ]
    }
   ],
   "source": [
    "#Example.5: Loop Enumerate\n",
    "X= [\"eat\", \"sleep\", \"repeat\"]\n",
    "for count, ele in enumerate(X):\n",
    "    print (count, ele)"
   ]
  },
  {
   "cell_type": "code",
   "execution_count": 17,
   "id": "729ea9fa-8b14-4ead-bf1d-461474d86a79",
   "metadata": {},
   "outputs": [
    {
     "name": "stdout",
     "output_type": "stream",
     "text": [
      "0 Swift\n",
      "1 Scorpio\n",
      "2 Thar\n"
     ]
    }
   ],
   "source": [
    "#Example.6\n",
    "X= [\"Swift\", \"Scorpio\", \"Thar\"]\n",
    "for count, ele in enumerate(X):\n",
    "    print (count, ele)"
   ]
  },
  {
   "cell_type": "code",
   "execution_count": 18,
   "id": "f4816373-528b-4bd8-ad34-1ba2f28421e3",
   "metadata": {},
   "outputs": [
    {
     "name": "stdout",
     "output_type": "stream",
     "text": [
      "1 1\n",
      "1 2\n",
      "1 3\n",
      "1 4\n",
      "1 5\n",
      "1 6\n",
      "1 7\n",
      "1 8\n",
      "2 1\n",
      "2 2\n",
      "2 3\n",
      "2 4\n",
      "2 5\n",
      "2 6\n",
      "2 7\n",
      "2 8\n",
      "3 1\n",
      "3 2\n",
      "3 3\n",
      "3 4\n",
      "3 5\n",
      "3 6\n",
      "3 7\n",
      "3 8\n",
      "4 1\n",
      "4 2\n",
      "4 3\n",
      "4 4\n",
      "4 5\n",
      "4 6\n",
      "4 7\n",
      "4 8\n",
      "5 1\n",
      "5 2\n",
      "5 3\n",
      "5 4\n",
      "5 5\n",
      "5 6\n",
      "5 7\n",
      "5 8\n",
      "6 1\n",
      "6 2\n",
      "6 3\n",
      "6 4\n",
      "6 5\n",
      "6 6\n",
      "6 7\n",
      "6 8\n",
      "7 1\n",
      "7 2\n",
      "7 3\n",
      "7 4\n",
      "7 5\n",
      "7 6\n",
      "7 7\n",
      "7 8\n",
      "8 1\n",
      "8 2\n",
      "8 3\n",
      "8 4\n",
      "8 5\n",
      "8 6\n",
      "8 7\n",
      "8 8\n"
     ]
    }
   ],
   "source": [
    "#Example.7 (Nested loop)\n",
    "for i in range(1, 9):\n",
    "    for j in range(1, 9):\n",
    "        print(i, j)"
   ]
  },
  {
   "cell_type": "code",
   "execution_count": 20,
   "id": "98b4ad47-1cb2-4f71-a5ec-c89a5f4f4181",
   "metadata": {},
   "outputs": [
    {
     "name": "stdout",
     "output_type": "stream",
     "text": [
      "Day 1: Run 2.0 miles\n",
      "Day 2: Run 2.5 miles\n",
      "Day 3: Run 3.0 miles\n",
      "Day 4: Run 3.5 miles\n"
     ]
    }
   ],
   "source": [
    "#Example.8.\n",
    "for day in range(1, 5):\n",
    "    distance = 2 + (day - 1) * 0.5\n",
    "    print(f\"Day {day}: Run {distance:.1f} miles\")"
   ]
  },
  {
   "cell_type": "code",
   "execution_count": 21,
   "id": "9a6584b9-1b6e-4f26-9177-d7765b917ba7",
   "metadata": {},
   "outputs": [
    {
     "name": "stdout",
     "output_type": "stream",
     "text": [
      "1\n",
      "2\n",
      "3\n",
      "4\n",
      "No Break\n",
      "\n"
     ]
    }
   ],
   "source": [
    "# for-else loop\n",
    "for i in range(1, 5):\n",
    "    print(i)\n",
    "else:  # Executed because no break in for\n",
    "    print(\"No Break\\n\")"
   ]
  },
  {
   "cell_type": "code",
   "execution_count": 22,
   "id": "3305f3a7-9a69-4473-8d9c-4c31561ecdbc",
   "metadata": {},
   "outputs": [
    {
     "name": "stdout",
     "output_type": "stream",
     "text": [
      "Last Letter : o\n"
     ]
    }
   ],
   "source": [
    "# An empty loop\n",
    "for letter in 'Scorpio':\n",
    "    pass\n",
    "print('Last Letter :', letter)"
   ]
  },
  {
   "cell_type": "code",
   "execution_count": 23,
   "id": "6a8daf90-906f-43b5-894c-1b241364a90a",
   "metadata": {},
   "outputs": [
    {
     "name": "stdout",
     "output_type": "stream",
     "text": [
      "Current Letter : o\n"
     ]
    }
   ],
   "source": [
    "for letter in 'Scorpio':\n",
    "    # break the loop as soon it sees 'e'\n",
    "    # or 's'\n",
    "    if letter == 'o' or letter == 'r':\n",
    "        break\n",
    "\n",
    "print('Current Letter :', letter)"
   ]
  },
  {
   "cell_type": "code",
   "execution_count": 25,
   "id": "8121479f-e24d-48eb-99ca-01cee2ea3ed9",
   "metadata": {},
   "outputs": [
    {
     "name": "stdout",
     "output_type": "stream",
     "text": [
      "Current Letter : S\n",
      "Current Letter : r\n",
      "Current Letter : p\n",
      "Current Letter : i\n"
     ]
    }
   ],
   "source": [
    "# Prints all letters except 'c' and 'o'\n",
    "\n",
    "for letter in 'Scorpio':\n",
    "    if letter == 'c' or letter == 'o':\n",
    "        continue\n",
    "    print('Current Letter :', letter)\n",
    "    "
   ]
  },
  {
   "cell_type": "code",
   "execution_count": 27,
   "id": "e53ed6a8-b7af-4321-ba2e-d9f22379ea75",
   "metadata": {},
   "outputs": [
    {
     "name": "stdout",
     "output_type": "stream",
     "text": [
      "apple is red\n",
      "banana is yellow\n",
      "cherry is green\n"
     ]
    }
   ],
   "source": [
    "# loop with zip\n",
    "fruits = [\"apple\", \"banana\", \"cherry\"]\n",
    "colors = [\"red\", \"yellow\", \"green\"]\n",
    "for fruit, color in zip(fruits, colors):\n",
    "    print(fruit, \"is\", color)"
   ]
  },
  {
   "cell_type": "code",
   "execution_count": 28,
   "id": "47022a56-2cc1-4e55-aa28-7a2366293d64",
   "metadata": {},
   "outputs": [
    {
     "name": "stdout",
     "output_type": "stream",
     "text": [
      "1 2\n",
      "3 4\n",
      "5 6\n"
     ]
    }
   ],
   "source": [
    "#loop with touple\n",
    "t = ((1, 2), (3, 4), (5, 6))\n",
    "for a, b in t:\n",
    "    print(a, b)"
   ]
  },
  {
   "cell_type": "code",
   "execution_count": 29,
   "id": "ed6d5701-8a6f-4b67-a477-7b9be40ee212",
   "metadata": {},
   "outputs": [
    {
     "name": "stdout",
     "output_type": "stream",
     "text": [
      "Dictionary Iteration\n",
      "xyz  123\n",
      "abc  345\n"
     ]
    }
   ],
   "source": [
    "# Iterating over dictionary\n",
    "print(\"Dictionary Iteration\")\n",
    "\n",
    "d = dict()\n",
    "\n",
    "d['xyz'] = 123\n",
    "d['abc'] = 345\n",
    "for i in d:\n",
    "    print(\"% s % d\" % (i, d[i]))"
   ]
  },
  {
   "cell_type": "code",
   "execution_count": 31,
   "id": "a420bfc9-929e-4143-b783-4e5b90a8e0d7",
   "metadata": {},
   "outputs": [
    {
     "name": "stdout",
     "output_type": "stream",
     "text": [
      "[0, 1, 2, 3, 4]\n"
     ]
    }
   ],
   "source": [
    "# loop in one line\n",
    "Numbers =[x for x in range(5)]\n",
    "print(Numbers)"
   ]
  },
  {
   "cell_type": "code",
   "execution_count": 32,
   "id": "cd272743-32ca-4653-a14a-b75d982c5881",
   "metadata": {},
   "outputs": [
    {
     "name": "stdout",
     "output_type": "stream",
     "text": [
      "Apple\n",
      "for\n",
      "Yogita\n"
     ]
    }
   ],
   "source": [
    "# Python program to illustrate\n",
    "# Iterating over a list\n",
    "l = [\"Apple\", \"for\", \"Yogita\"]\n",
    "for i in l:\n",
    "    print(i)"
   ]
  }
 ],
 "metadata": {
  "kernelspec": {
   "display_name": "Python 3 (ipykernel)",
   "language": "python",
   "name": "python3"
  },
  "language_info": {
   "codemirror_mode": {
    "name": "ipython",
    "version": 3
   },
   "file_extension": ".py",
   "mimetype": "text/x-python",
   "name": "python",
   "nbconvert_exporter": "python",
   "pygments_lexer": "ipython3",
   "version": "3.11.7"
  }
 },
 "nbformat": 4,
 "nbformat_minor": 5
}
