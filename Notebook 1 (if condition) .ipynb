{
 "cells": [
  {
   "cell_type": "code",
   "execution_count": 29,
   "id": "02feb25e-eee9-4f9b-9bc6-83a1bfef1e49",
   "metadata": {},
   "outputs": [],
   "source": [
    "# If Condition : Code to execute if condition is true.\n",
    "          # Here if the condition is true, if block \n",
    "          # will consider only statement1 to be inside its block."
   ]
  },
  {
   "cell_type": "code",
   "execution_count": 9,
   "id": "31f47063-e30d-4a52-9943-37a8f89299cc",
   "metadata": {},
   "outputs": [
    {
     "name": "stdout",
     "output_type": "stream",
     "text": [
      "The number is positive\n"
     ]
    }
   ],
   "source": [
    "#Example.1\n",
    "X=5\n",
    "if (X >0):\n",
    "    print(\"The number is positive\")\n",
    "    \n",
    "    "
   ]
  },
  {
   "cell_type": "code",
   "execution_count": 12,
   "id": "c9488313-1c5c-4dce-b6f8-2c9b217e8461",
   "metadata": {},
   "outputs": [
    {
     "name": "stdout",
     "output_type": "stream",
     "text": [
      "10 is less than 15\n"
     ]
    }
   ],
   "source": [
    "#Example.2\n",
    "i=15\n",
    "if(i >10):\n",
    "    print(\"10 is less than 15\")"
   ]
  },
  {
   "cell_type": "code",
   "execution_count": 14,
   "id": "d2890ceb-16e1-4ba9-9532-496fea5f67e8",
   "metadata": {},
   "outputs": [
    {
     "name": "stdout",
     "output_type": "stream",
     "text": [
      "x is less than y\n"
     ]
    }
   ],
   "source": [
    "#Example.3\n",
    "x=5\n",
    "y=2\n",
    "if (x >y):\n",
    "    print(\"x is less than y\")"
   ]
  },
  {
   "cell_type": "code",
   "execution_count": 18,
   "id": "05f21b19-8403-41e7-a751-79422c4f1a7b",
   "metadata": {},
   "outputs": [
    {
     "name": "stdout",
     "output_type": "stream",
     "text": [
      "Z is greater than Y\n"
     ]
    }
   ],
   "source": [
    "#Example.4\n",
    "Y=1122\n",
    "Z=5236\n",
    "if(Z > Y):\n",
    "    print(\"Z is greater than Y\")\n"
   ]
  },
  {
   "cell_type": "code",
   "execution_count": 23,
   "id": "c42f3f87-5162-4acf-acf4-f084bbb8f0e4",
   "metadata": {},
   "outputs": [
    {
     "name": "stdout",
     "output_type": "stream",
     "text": [
      "a is not equal to b\n"
     ]
    }
   ],
   "source": [
    "#Example.5\n",
    "a=5\n",
    "b=6\n",
    "if(a != b):\n",
    "    print(\"a is not equal to b\")\n"
   ]
  },
  {
   "cell_type": "code",
   "execution_count": 24,
   "id": "6edeeeaf-19f4-4093-80bc-ac7030ee0156",
   "metadata": {},
   "outputs": [
    {
     "name": "stdout",
     "output_type": "stream",
     "text": [
      "y is greater than z\n"
     ]
    }
   ],
   "source": [
    "#Example.6\n",
    "y=96+52\n",
    "z=85+20\n",
    "if(y>z):\n",
    "    print(\"y is greater than z\")"
   ]
  },
  {
   "cell_type": "code",
   "execution_count": 25,
   "id": "a591482d-244f-4a5a-9fa1-6ca59f7d9065",
   "metadata": {},
   "outputs": [
    {
     "name": "stdout",
     "output_type": "stream",
     "text": [
      "a is less than equal to b\n"
     ]
    }
   ],
   "source": [
    "#Example.7\n",
    "a=5\n",
    "b=5\n",
    "if(a<=b):\n",
    "    print(\"a is less than equal to b\")"
   ]
  },
  {
   "cell_type": "code",
   "execution_count": 26,
   "id": "2882705a-6a44-468b-a6cc-add51b18c4a4",
   "metadata": {},
   "outputs": [
    {
     "name": "stdout",
     "output_type": "stream",
     "text": [
      "a is greater than equal to b\n"
     ]
    }
   ],
   "source": [
    "#Example.8\n",
    "b=8\n",
    "a=9\n",
    "if(a>=b):\n",
    "    print(\"a is greater than equal to b\")"
   ]
  },
  {
   "cell_type": "code",
   "execution_count": 27,
   "id": "51170592-5a4f-44b9-bdbb-22590805b820",
   "metadata": {},
   "outputs": [
    {
     "name": "stdout",
     "output_type": "stream",
     "text": [
      "x is greater than equal to 2\n"
     ]
    }
   ],
   "source": [
    "#Example.9\n",
    "x=2\n",
    "if (x>=2):\n",
    "    print (\"x is greater than equal to 2\")"
   ]
  },
  {
   "cell_type": "code",
   "execution_count": 28,
   "id": "dc8a74a9-547e-4ecd-bee2-3b7486894978",
   "metadata": {},
   "outputs": [
    {
     "name": "stdout",
     "output_type": "stream",
     "text": [
      "Y is less than equal to Z\n"
     ]
    }
   ],
   "source": [
    "#Example.10\n",
    "Y=510\n",
    "Z=852\n",
    "if(Y<= Z):\n",
    "    print(\"Y is less than equal to Z\")"
   ]
  }
 ],
 "metadata": {
  "kernelspec": {
   "display_name": "Python 3 (ipykernel)",
   "language": "python",
   "name": "python3"
  },
  "language_info": {
   "codemirror_mode": {
    "name": "ipython",
    "version": 3
   },
   "file_extension": ".py",
   "mimetype": "text/x-python",
   "name": "python",
   "nbconvert_exporter": "python",
   "pygments_lexer": "ipython3",
   "version": "3.11.7"
  }
 },
 "nbformat": 4,
 "nbformat_minor": 5
}
