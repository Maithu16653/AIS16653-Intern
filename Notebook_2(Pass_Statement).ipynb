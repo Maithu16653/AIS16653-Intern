{
  "nbformat": 4,
  "nbformat_minor": 0,
  "metadata": {
    "colab": {
      "provenance": []
    },
    "kernelspec": {
      "name": "python3",
      "display_name": "Python 3"
    },
    "language_info": {
      "name": "python"
    }
  },
  "cells": [
    {
      "cell_type": "markdown",
      "source": [
        "**Pass Statement**: Pass Statement is a null statement which can be used as a placeholder for future code."
      ],
      "metadata": {
        "id": "D59-dJD9vFlf"
      }
    },
    {
      "cell_type": "code",
      "source": [
        "n = 10\n",
        "if n > 10:\n",
        "    pass\n",
        "\n",
        "print('Maithili')"
      ],
      "metadata": {
        "colab": {
          "base_uri": "https://localhost:8080/"
        },
        "id": "HIyHL4naN-k9",
        "outputId": "98929895-be0f-4354-aed9-9d4fed0f0d4d"
      },
      "execution_count": 6,
      "outputs": [
        {
          "output_type": "stream",
          "name": "stdout",
          "text": [
            "Maithili\n"
          ]
        }
      ]
    },
    {
      "cell_type": "code",
      "source": [
        "n = 2\n",
        "# use pass inside if statement\n",
        "if n > 2:\n",
        "    pass\n",
        "\n",
        "print('Hello')"
      ],
      "metadata": {
        "colab": {
          "base_uri": "https://localhost:8080/"
        },
        "id": "HNvxzyerNp1P",
        "outputId": "0c798350-8aa0-4b15-aed4-456e72e02135"
      },
      "execution_count": 7,
      "outputs": [
        {
          "output_type": "stream",
          "name": "stdout",
          "text": [
            "Hello\n"
          ]
        }
      ]
    },
    {
      "cell_type": "code",
      "source": [
        "#placeholder for future code:\n",
        "for x in [0, 1, 2]:\n",
        "  pass"
      ],
      "metadata": {
        "id": "PcbSGcEwOuiH"
      },
      "execution_count": 10,
      "outputs": []
    },
    {
      "cell_type": "code",
      "source": [
        "#For Function\n",
        "def function():\n",
        "  pass"
      ],
      "metadata": {
        "id": "i2dI37txPGrm"
      },
      "execution_count": 11,
      "outputs": []
    },
    {
      "cell_type": "code",
      "source": [
        "#For class\n",
        "class mscclass:\n",
        "  pass"
      ],
      "metadata": {
        "id": "dO1E34QkPXVX"
      },
      "execution_count": 12,
      "outputs": []
    },
    {
      "cell_type": "code",
      "source": [
        "# pass can be used as placeholder when code is to added later\n",
        "n = 10\n",
        "for i in range(n):\n",
        "  pass"
      ],
      "metadata": {
        "id": "8tmN4_Q4Pg5Y"
      },
      "execution_count": 13,
      "outputs": []
    },
    {
      "cell_type": "code",
      "source": [
        "#IF Statement\n",
        "a = 33\n",
        "b = 200\n",
        "\n",
        "if b > a:\n",
        "  pass"
      ],
      "metadata": {
        "id": "CTzXehP7PzJR"
      },
      "execution_count": 15,
      "outputs": []
    },
    {
      "cell_type": "code",
      "source": [
        "#Example.1\n",
        "x =['Maithili', 'Yogita', 'Apurva']\n",
        "\n",
        "for i in x:\n",
        "    if(i =='Maithili'):\n",
        "        pass\n",
        "    else:\n",
        "        print(i)\n",
        ""
      ],
      "metadata": {
        "colab": {
          "base_uri": "https://localhost:8080/"
        },
        "id": "xiukZzw9QDVz",
        "outputId": "fa378013-55c1-4b70-d438-404f22ef663e"
      },
      "execution_count": 18,
      "outputs": [
        {
          "output_type": "stream",
          "name": "stdout",
          "text": [
            "Yogita\n",
            "Apurva\n"
          ]
        }
      ]
    },
    {
      "cell_type": "code",
      "source": [
        "#Example.2\n",
        "x = 2\n",
        "if x > 5:\n",
        "    pass\n",
        "else:\n",
        "    print(\"x is less than or equal to 5\")\n",
        "\n"
      ],
      "metadata": {
        "colab": {
          "base_uri": "https://localhost:8080/"
        },
        "id": "7wqcrOJDQhzA",
        "outputId": "be6145e9-4a36-4867-b586-5bced6ec240e"
      },
      "execution_count": 23,
      "outputs": [
        {
          "output_type": "stream",
          "name": "stdout",
          "text": [
            "x is less than or equal to 5\n"
          ]
        }
      ]
    },
    {
      "cell_type": "code",
      "source": [
        "#Example.no.3\n",
        "x =5\n",
        "if x != 5:\n",
        "    pass\n",
        "else:\n",
        "    print(\"x is not equal to 5\")"
      ],
      "metadata": {
        "colab": {
          "base_uri": "https://localhost:8080/"
        },
        "id": "lgyMCW7-RRxB",
        "outputId": "1d77a003-4997-4142-8c2b-efa37b19b7f2"
      },
      "execution_count": 27,
      "outputs": [
        {
          "output_type": "stream",
          "name": "stdout",
          "text": [
            "x is not equal to 5\n"
          ]
        }
      ]
    }
  ]
}