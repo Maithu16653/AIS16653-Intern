{
  "nbformat": 4,
  "nbformat_minor": 0,
  "metadata": {
    "colab": {
      "provenance": []
    },
    "kernelspec": {
      "name": "python3",
      "display_name": "Python 3"
    },
    "language_info": {
      "name": "python"
    }
  },
  "cells": [
    {
      "cell_type": "markdown",
      "source": [
        "**Numpy Library**:\n",
        "NumPy is a Python library used for working with arrays.\n",
        "\n",
        "It also has functions for working in domain of linear algebra, fourier transform, and matrices.\n",
        "\n",
        "NumPy was created in 2005 by Travis Oliphant. It is an open source project and you can use it freely."
      ],
      "metadata": {
        "id": "b-wJZFbptzGk"
      }
    },
    {
      "cell_type": "code",
      "source": [
        "import numpy as np\n"
      ],
      "metadata": {
        "id": "fJxSnYZdwkFi"
      },
      "execution_count": 3,
      "outputs": []
    },
    {
      "cell_type": "code",
      "source": [
        "# Creating array object\n",
        "arr = np.array( [[ 1, 2, 3],\n",
        "                 [ 4, 2, 5]] )\n",
        "# Printing type of arr object\n",
        "print(\"Array is of type: \", type(arr))\n",
        "# Printing array dimensions (axes)\n",
        "print(\"No. of dimensions: \", arr.ndim)\n",
        "# Printing shape of array\n",
        "print(\"Shape of array: \", arr.shape)\n",
        "\n",
        "# Printing size (total number of elements) of array\n",
        "print(\"Size of array: \", arr.size)\n",
        "\n",
        "# Printing type of elements in array\n",
        "print(\"Array stores elements of type: \", arr.dtype)"
      ],
      "metadata": {
        "colab": {
          "base_uri": "https://localhost:8080/"
        },
        "id": "1f3aOBRlxUxx",
        "outputId": "82352157-c0af-4009-c3c5-8fed7a53823b"
      },
      "execution_count": 7,
      "outputs": [
        {
          "output_type": "stream",
          "name": "stdout",
          "text": [
            "Array is of type:  <class 'numpy.ndarray'>\n",
            "No. of dimensions:  2\n",
            "Shape of array:  (2, 3)\n",
            "Size of array:  6\n",
            "Array stores elements of type:  int64\n"
          ]
        }
      ]
    },
    {
      "cell_type": "code",
      "source": [
        "# Creating 3x2 array\n",
        "array = np.arange(6).reshape(3, 2)\n",
        "print(array)\n",
        "print()"
      ],
      "metadata": {
        "colab": {
          "base_uri": "https://localhost:8080/"
        },
        "id": "buvYOTHTzR9x",
        "outputId": "51a74031-4eff-4771-b631-aa07ad424435"
      },
      "execution_count": 9,
      "outputs": [
        {
          "output_type": "stream",
          "name": "stdout",
          "text": [
            "[[0 1]\n",
            " [2 3]\n",
            " [4 5]]\n",
            "\n"
          ]
        }
      ]
    },
    {
      "cell_type": "code",
      "source": [
        "# If no axis mentioned, then it works on the entire array\n",
        "print(np.argmax(array))\n",
        "\n",
        "# If axis=1, then it works on each row\n",
        "print(np.argmax(array, axis=1))\n",
        "\n",
        "# If axis=0, then it works on each column\n",
        "print(np.argmax(array, axis=0))"
      ],
      "metadata": {
        "colab": {
          "base_uri": "https://localhost:8080/"
        },
        "id": "c2HjUymG0Bhp",
        "outputId": "42c90d39-677e-4039-f9ff-15217d07b392"
      },
      "execution_count": 12,
      "outputs": [
        {
          "output_type": "stream",
          "name": "stdout",
          "text": [
            "5\n",
            "[1 1 1]\n",
            "[2 2]\n"
          ]
        }
      ]
    },
    {
      "cell_type": "code",
      "source": [
        "# Creating a 5x4 array with all zeros\n",
        "c = np.zeros((5, 4))\n",
        "print (\"An array initialized with all zeros:\\n\", c)\n",
        "\n",
        "# Create a constant value array of complex type\n",
        "d = np.full((5, 5), 6, dtype = 'complex')\n",
        "print (\"An array initialized with all 6s.\"\n",
        "            \"Array type is complex:\\n\", d)\n",
        "\n",
        "# Create an array with random values\n",
        "e = np.random.random((2, 2))\n",
        "print (\"A random array:\\n\", e)"
      ],
      "metadata": {
        "colab": {
          "base_uri": "https://localhost:8080/"
        },
        "id": "wp9zYzNZ0kHc",
        "outputId": "80b55a1f-bba2-4066-c72e-be65ba48487f"
      },
      "execution_count": 13,
      "outputs": [
        {
          "output_type": "stream",
          "name": "stdout",
          "text": [
            "An array initialized with all zeros:\n",
            " [[0. 0. 0. 0.]\n",
            " [0. 0. 0. 0.]\n",
            " [0. 0. 0. 0.]\n",
            " [0. 0. 0. 0.]\n",
            " [0. 0. 0. 0.]]\n",
            "An array initialized with all 6s.Array type is complex:\n",
            " [[6.+0.j 6.+0.j 6.+0.j 6.+0.j 6.+0.j]\n",
            " [6.+0.j 6.+0.j 6.+0.j 6.+0.j 6.+0.j]\n",
            " [6.+0.j 6.+0.j 6.+0.j 6.+0.j 6.+0.j]\n",
            " [6.+0.j 6.+0.j 6.+0.j 6.+0.j 6.+0.j]\n",
            " [6.+0.j 6.+0.j 6.+0.j 6.+0.j 6.+0.j]]\n",
            "A random array:\n",
            " [[0.8789326  0.13881278]\n",
            " [0.50476849 0.91101405]]\n"
          ]
        }
      ]
    },
    {
      "cell_type": "code",
      "source": [
        "#arange:It returns evenly spaced values within a given interval.\n",
        "#Example:\n",
        "# Create a sequence of integers from 0 to 20 with steps of 3\n",
        "fun = np.arange(0, 20, 3)\n",
        "print (\"A sequential array with steps of 3:\\n\", fun)"
      ],
      "metadata": {
        "colab": {
          "base_uri": "https://localhost:8080/"
        },
        "id": "R6yXfOHB1N4S",
        "outputId": "0e244a8c-a535-4f96-8a42-ed8b83920866"
      },
      "execution_count": 15,
      "outputs": [
        {
          "output_type": "stream",
          "name": "stdout",
          "text": [
            "A sequential array with steps of 3:\n",
            " [ 0  3  6  9 12 15 18]\n"
          ]
        }
      ]
    },
    {
      "cell_type": "code",
      "source": [
        "#linspace: It returns evenly spaced values within a given interval.\n",
        "#Example:\n",
        "# Create a sequence of 10 values in range 0 to 3\n",
        "fun = np.linspace(0, 3, 10)\n",
        "print (\"A sequential array with 10 values between\"\n",
        "                                 \"0 and 3:\\n\", fun)"
      ],
      "metadata": {
        "colab": {
          "base_uri": "https://localhost:8080/"
        },
        "id": "zKBpA-I-2g5b",
        "outputId": "eb1ea38d-93f8-4be1-a1f3-2457f9f29385"
      },
      "execution_count": 17,
      "outputs": [
        {
          "output_type": "stream",
          "name": "stdout",
          "text": [
            "A sequential array with 10 values between0 and 3:\n",
            " [0.         0.33333333 0.66666667 1.         1.33333333 1.66666667\n",
            " 2.         2.33333333 2.66666667 3.        ]\n"
          ]
        }
      ]
    },
    {
      "cell_type": "code",
      "source": [
        "#Reshaping array: We can use reshape method to reshape an array.\n",
        "# Reshaping 3X4 array to 2X2X3 array\n",
        "arr = np.array([[1, 2, 3, 4],\n",
        "                [5, 2, 4, 2],\n",
        "                [1, 2, 0, 1]])\n",
        "\n",
        "newarr = arr.reshape(2, 2, 3)\n",
        "\n",
        "print (\"Original array:\\n\", arr)\n",
        "print(\"---------------\")\n",
        "print (\"Reshaped array:\\n\", newarr)"
      ],
      "metadata": {
        "colab": {
          "base_uri": "https://localhost:8080/"
        },
        "id": "ZwAZHdDV3jek",
        "outputId": "d6a0e72d-ec2e-4b71-f510-8078fda6f963"
      },
      "execution_count": 22,
      "outputs": [
        {
          "output_type": "stream",
          "name": "stdout",
          "text": [
            "Original array:\n",
            " [[1 2 3 4]\n",
            " [5 2 4 2]\n",
            " [1 2 0 1]]\n",
            "---------------\n",
            "Reshaped array:\n",
            " [[[1 2 3]\n",
            "  [4 5 2]]\n",
            "\n",
            " [[4 2 1]\n",
            "  [2 0 1]]]\n"
          ]
        }
      ]
    },
    {
      "cell_type": "code",
      "source": [
        "# Flatten array: We can use flatten method to get a copy of the array collapsed into one dimension.\n",
        "#Example.1\n",
        "arr = np.array([[1, 2, 3], [4, 5, 6]])\n",
        "flat_arr = arr.flatten()\n",
        "\n",
        "print (\"Original array:\\n\", arr)\n",
        "print (\"Fattened array:\\n\", flat_arr)"
      ],
      "metadata": {
        "colab": {
          "base_uri": "https://localhost:8080/"
        },
        "id": "kQJBFk5u48ca",
        "outputId": "b0637f57-1fb7-4c0b-e134-8fb37c322c83"
      },
      "execution_count": 23,
      "outputs": [
        {
          "output_type": "stream",
          "name": "stdout",
          "text": [
            "Original array:\n",
            " [[1 2 3]\n",
            " [4 5 6]]\n",
            "Fattened array:\n",
            " [1 2 3 4 5 6]\n"
          ]
        }
      ]
    }
  ]
}