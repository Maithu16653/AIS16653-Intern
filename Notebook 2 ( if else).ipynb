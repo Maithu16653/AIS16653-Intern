{
 "cells": [
  {
   "cell_type": "code",
   "execution_count": 1,
   "id": "0d639a4a-8e21-4126-9166-9ff36b6bbd02",
   "metadata": {},
   "outputs": [],
   "source": [
    "#if condition:code to execute if condition is true.\n",
    "#else: code to execute if condition is false."
   ]
  },
  {
   "cell_type": "code",
   "execution_count": 5,
   "id": "07829e09-cdc4-423b-8d8d-efe3c0235df4",
   "metadata": {},
   "outputs": [
    {
     "name": "stdout",
     "output_type": "stream",
     "text": [
      "i is greater than 15\n"
     ]
    }
   ],
   "source": [
    "#Example.1\n",
    "i = 20\n",
    "if (i < 15):\n",
    "    print(\"i is smaller than 15\")\n",
    "else:\n",
    "    print(\"i is greater than 15\")"
   ]
  },
  {
   "cell_type": "code",
   "execution_count": 3,
   "id": "6118fc3b-41f7-4381-87d4-9bb6f2c30a72",
   "metadata": {},
   "outputs": [
    {
     "name": "stdout",
     "output_type": "stream",
     "text": [
      "The number is negative.\n"
     ]
    }
   ],
   "source": [
    "# Example.2\n",
    "num = -5\n",
    "\n",
    "if num > 0:\n",
    "    print(\"The number is positive.\")\n",
    "else:\n",
    "    print(\"The number is negative.\")"
   ]
  },
  {
   "cell_type": "code",
   "execution_count": 4,
   "id": "ca27e7a2-ca0f-4ea2-8e5c-ddafac24d939",
   "metadata": {},
   "outputs": [
    {
     "name": "stdout",
     "output_type": "stream",
     "text": [
      "The number is positive.\n"
     ]
    }
   ],
   "source": [
    "#Example.3\n",
    "num = 9\n",
    "\n",
    "if num > 0:\n",
    "    print(\"The number is positive.\")\n",
    "else:\n",
    "    print(\"The number is negative.\")"
   ]
  },
  {
   "cell_type": "code",
   "execution_count": 6,
   "id": "41a19c0c-58a1-4279-8495-5324b3e28c14",
   "metadata": {},
   "outputs": [
    {
     "name": "stdout",
     "output_type": "stream",
     "text": [
      "i is greater than 95\n"
     ]
    }
   ],
   "source": [
    "#Example.4\n",
    "i = 89\n",
    "if (i < 15):\n",
    "    print(\"i is smaller than 95\")\n",
    "else:\n",
    "    print(\"i is greater than 95\")"
   ]
  },
  {
   "cell_type": "code",
   "execution_count": 7,
   "id": "0ec4ecf3-f9b5-447f-8859-90d21a99abae",
   "metadata": {},
   "outputs": [
    {
     "name": "stdout",
     "output_type": "stream",
     "text": [
      "The number is Less than Y.\n"
     ]
    }
   ],
   "source": [
    "#Example.4\n",
    "X= -5\n",
    "Y=3\n",
    "if X > Y:\n",
    "    print(\"The number is greater than Y.\")\n",
    "else:\n",
    "    print(\"The number is Less than Y.\")"
   ]
  },
  {
   "cell_type": "code",
   "execution_count": 8,
   "id": "22a6d858-b878-4790-b4b4-1aad8e4c6db2",
   "metadata": {},
   "outputs": [
    {
     "name": "stdout",
     "output_type": "stream",
     "text": [
      "The number is greater than Y.\n"
     ]
    }
   ],
   "source": [
    "#Example.5\n",
    "X= 5\n",
    "Y=3\n",
    "if X > Y:\n",
    "    print(\"The number is greater than Y.\")\n",
    "else:\n",
    "    print(\"The number is Less than Y.\")\n"
   ]
  },
  {
   "cell_type": "code",
   "execution_count": 9,
   "id": "4464db57-636a-4101-8bf4-e3ed4cd3fcc8",
   "metadata": {},
   "outputs": [
    {
     "name": "stdout",
     "output_type": "stream",
     "text": [
      "X is less than 0\n"
     ]
    }
   ],
   "source": [
    "#Example.6\n",
    "X=0\n",
    "if(X>0):\n",
    "    print (\"X is greter than 0\")\n",
    "else:\n",
    "    print(\"X is less than 0\")"
   ]
  },
  {
   "cell_type": "code",
   "execution_count": 10,
   "id": "b7b9693a-d522-4417-8c06-a2c8d46db5e1",
   "metadata": {},
   "outputs": [
    {
     "name": "stdout",
     "output_type": "stream",
     "text": [
      "The number is greater than Y.\n"
     ]
    }
   ],
   "source": [
    "#Example.7\n",
    "X=899\n",
    "Y=526\n",
    "if X > Y:\n",
    "    print(\"The number is greater than Y.\")\n",
    "else:\n",
    "    print(\"The number is Less than Y.\")"
   ]
  },
  {
   "cell_type": "code",
   "execution_count": 12,
   "id": "fa341d89-17f2-42a1-8a1c-06fba9efc3a7",
   "metadata": {},
   "outputs": [
    {
     "name": "stdout",
     "output_type": "stream",
     "text": [
      "X is  not equal to 0\n"
     ]
    }
   ],
   "source": [
    "#Example.8\n",
    "X=5\n",
    "if(X!=0):\n",
    "    print (\"X is  not equal to 0\")\n",
    "else:\n",
    "    print(\"X is equal 0\")"
   ]
  },
  {
   "cell_type": "code",
   "execution_count": 13,
   "id": "68207049-ab1c-478f-a797-743c2ed2934f",
   "metadata": {},
   "outputs": [
    {
     "name": "stdout",
     "output_type": "stream",
     "text": [
      "X is  not equal to 89\n"
     ]
    }
   ],
   "source": [
    "#Example.9\n",
    "X=5\n",
    "if(X!=89):\n",
    "    print (\"X is  not equal to 89\")\n",
    "else:\n",
    "    print(\"X is equal 89\")"
   ]
  },
  {
   "cell_type": "code",
   "execution_count": 14,
   "id": "f241b556-7597-4b1c-a3b0-30703fc8260d",
   "metadata": {},
   "outputs": [
    {
     "name": "stdout",
     "output_type": "stream",
     "text": [
      "i is greater than 5000\n"
     ]
    }
   ],
   "source": [
    "#Example.10\n",
    "i = 5896\n",
    "if (i <5000):\n",
    "    print(\"i is smaller than 5000\")\n",
    "else:\n",
    "    print(\"i is greater than 5000\")"
   ]
  }
 ],
 "metadata": {
  "kernelspec": {
   "display_name": "Python 3 (ipykernel)",
   "language": "python",
   "name": "python3"
  },
  "language_info": {
   "codemirror_mode": {
    "name": "ipython",
    "version": 3
   },
   "file_extension": ".py",
   "mimetype": "text/x-python",
   "name": "python",
   "nbconvert_exporter": "python",
   "pygments_lexer": "ipython3",
   "version": "3.11.7"
  }
 },
 "nbformat": 4,
 "nbformat_minor": 5
}
