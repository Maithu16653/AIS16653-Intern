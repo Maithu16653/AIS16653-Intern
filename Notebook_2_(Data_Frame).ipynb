{
  "cells": [
    {
      "cell_type": "markdown",
      "id": "7e31f47f-6d35-41c1-b27f-e8e4c6176fd5",
      "metadata": {
        "id": "7e31f47f-6d35-41c1-b27f-e8e4c6176fd5"
      },
      "source": [
        "**Data Frame:**DataFrame Column and Row Selection (loc and iloc)\n",
        "loc is label-based, meaning that you have to specify rows and columns based on their labels.\n",
        "iloc is integer position-based, meaning that you have to specify rows and columns based on their integer positions."
      ]
    },
    {
      "cell_type": "code",
      "execution_count": 3,
      "id": "099e3041-7a35-45bb-9ba3-64e89dfb5df2",
      "metadata": {
        "colab": {
          "base_uri": "https://localhost:8080/"
        },
        "id": "099e3041-7a35-45bb-9ba3-64e89dfb5df2",
        "outputId": "53e86d34-e30a-4f27-91f0-882a46f7f0cd"
      },
      "outputs": [
        {
          "output_type": "stream",
          "name": "stdout",
          "text": [
            "   A  B   C\n",
            "0  1  5   9\n",
            "1  2  6  10\n",
            "2  3  7  11\n",
            "3  4  8  12\n"
          ]
        }
      ],
      "source": [
        "import pandas as pd\n",
        "data = {\n",
        "    'A': [1, 2, 3, 4],\n",
        "    'B': [5, 6, 7, 8],\n",
        "    'C': [9, 10,11,12]\n",
        "}\n",
        "df = pd.DataFrame(data)\n",
        "print(df)"
      ]
    },
    {
      "cell_type": "code",
      "execution_count": 4,
      "id": "60cff6dc-2464-461d-a64b-3f281ce39267",
      "metadata": {
        "colab": {
          "base_uri": "https://localhost:8080/"
        },
        "id": "60cff6dc-2464-461d-a64b-3f281ce39267",
        "outputId": "ec216176-5242-43a4-d9dc-249908d1515f"
      },
      "outputs": [
        {
          "output_type": "stream",
          "name": "stdout",
          "text": [
            "   A  B\n",
            "0  1  5\n",
            "1  2  6\n"
          ]
        }
      ],
      "source": [
        "# Select rows 0 and 1 and columns 'A' and 'B'\n",
        "df_loc = df.loc[0:1, ['A', 'B']]\n",
        "print(df_loc)"
      ]
    },
    {
      "cell_type": "code",
      "execution_count": 5,
      "id": "df09edb4-cf06-47c1-8e96-a95166580dd1",
      "metadata": {
        "colab": {
          "base_uri": "https://localhost:8080/"
        },
        "id": "df09edb4-cf06-47c1-8e96-a95166580dd1",
        "outputId": "c5d8e5eb-7027-47e6-99db-3fb10a69adee"
      },
      "outputs": [
        {
          "output_type": "stream",
          "name": "stdout",
          "text": [
            "   A  B\n",
            "0  1  5\n",
            "1  2  6\n"
          ]
        }
      ],
      "source": [
        "# Select rows 0 and 1 and columns 0 and 1\n",
        "df_iloc = df.iloc[0:2, 0:2]\n",
        "print(df_iloc)"
      ]
    },
    {
      "cell_type": "code",
      "execution_count": 6,
      "id": "e9459e33-9e5a-496d-a603-89aae7da9b45",
      "metadata": {
        "colab": {
          "base_uri": "https://localhost:8080/"
        },
        "id": "e9459e33-9e5a-496d-a603-89aae7da9b45",
        "outputId": "8a68f514-3a9b-46d8-f4e8-42d40136949b"
      },
      "outputs": [
        {
          "output_type": "stream",
          "name": "stdout",
          "text": [
            "   A  B   C\n",
            "2  3  7  11\n",
            "3  4  8  12\n"
          ]
        }
      ],
      "source": [
        "# Select rows where column 'A' is greater than 3\n",
        "df_cond = df[df['A'] > 2]\n",
        "print(df_cond)"
      ]
    },
    {
      "cell_type": "code",
      "execution_count": 7,
      "id": "d4ea8b4b-0bf0-4b6a-bee6-301a0455bb6d",
      "metadata": {
        "colab": {
          "base_uri": "https://localhost:8080/"
        },
        "id": "d4ea8b4b-0bf0-4b6a-bee6-301a0455bb6d",
        "outputId": "b24f8c37-2c03-41db-8537-10715b97da02"
      },
      "outputs": [
        {
          "output_type": "stream",
          "name": "stdout",
          "text": [
            "   A  B\n",
            "0  1  5\n",
            "1  2  6\n",
            "2  3  7\n",
            "3  4  8\n"
          ]
        }
      ],
      "source": [
        "# Delete column 'C'\n",
        "df.drop('C', axis=1, inplace=True)\n",
        "print(df)"
      ]
    },
    {
      "cell_type": "code",
      "execution_count": 8,
      "id": "25eee849-daa1-437b-836b-2cefc22cfc87",
      "metadata": {
        "colab": {
          "base_uri": "https://localhost:8080/"
        },
        "id": "25eee849-daa1-437b-836b-2cefc22cfc87",
        "outputId": "0b25dade-2e66-4d79-dfba-1a56015f427e"
      },
      "outputs": [
        {
          "output_type": "stream",
          "name": "stdout",
          "text": [
            "0   -4\n",
            "1   -3\n",
            "2   -2\n",
            "3   -1\n",
            "Name: A, dtype: int64\n"
          ]
        }
      ],
      "source": [
        "# Update column 'A' with new values\n",
        "df['A'] = df['A'] - 5\n",
        "print(df['A'])"
      ]
    },
    {
      "cell_type": "code",
      "execution_count": 9,
      "id": "268d2c31-a4e9-43f2-abf8-5a81646ef4f3",
      "metadata": {
        "colab": {
          "base_uri": "https://localhost:8080/"
        },
        "id": "268d2c31-a4e9-43f2-abf8-5a81646ef4f3",
        "outputId": "c39eeb80-a162-40dd-c8e2-b86e1650ac82"
      },
      "outputs": [
        {
          "output_type": "stream",
          "name": "stdout",
          "text": [
            "    B\n",
            "A    \n",
            "-4  5\n",
            "-3  6\n",
            "-2  7\n",
            "-1  8\n"
          ]
        }
      ],
      "source": [
        "# Set column 'A' as index\n",
        "df.set_index('A', inplace=True)\n",
        "print(df)"
      ]
    },
    {
      "cell_type": "code",
      "execution_count": 10,
      "id": "d4899792-1f27-4def-a0cd-65ea3bbbd717",
      "metadata": {
        "colab": {
          "base_uri": "https://localhost:8080/"
        },
        "id": "d4899792-1f27-4def-a0cd-65ea3bbbd717",
        "outputId": "e6d7a96a-0e0d-45f6-a784-9077b71312fa"
      },
      "outputs": [
        {
          "output_type": "stream",
          "name": "stdout",
          "text": [
            "   A  B\n",
            "0 -4  5\n",
            "1 -3  6\n",
            "2 -2  7\n",
            "3 -1  8\n"
          ]
        }
      ],
      "source": [
        "# Reset index to default integer index\n",
        "df.reset_index(inplace=True)\n",
        "print(df)"
      ]
    },
    {
      "cell_type": "code",
      "execution_count": 11,
      "id": "6837dd11-0afc-44a2-94c9-620a81d7e42e",
      "metadata": {
        "colab": {
          "base_uri": "https://localhost:8080/"
        },
        "id": "6837dd11-0afc-44a2-94c9-620a81d7e42e",
        "outputId": "6d44eec2-4985-45a2-bb91-9e527516af1e"
      },
      "outputs": [
        {
          "output_type": "stream",
          "name": "stdout",
          "text": [
            "0    1\n",
            "1    3\n",
            "2    5\n",
            "3    7\n",
            "Name: E, dtype: int64\n"
          ]
        }
      ],
      "source": [
        "# Add columns 'A' and 'B' and store in a new column 'E'\n",
        "df['E'] = df['A'] + df['B']\n",
        "print(df['E'])"
      ]
    },
    {
      "cell_type": "code",
      "execution_count": 12,
      "id": "1910e08f-8e9f-41a4-bc2f-d558265a08f2",
      "metadata": {
        "colab": {
          "base_uri": "https://localhost:8080/"
        },
        "id": "1910e08f-8e9f-41a4-bc2f-d558265a08f2",
        "outputId": "bf06f981-65e4-4e12-a1f2-aa98adf8350d"
      },
      "outputs": [
        {
          "output_type": "stream",
          "name": "stdout",
          "text": [
            "0   -9\n",
            "1   -9\n",
            "2   -9\n",
            "3   -9\n",
            "Name: F, dtype: int64\n"
          ]
        }
      ],
      "source": [
        "# Subtract column 'B' from 'A' and store in a new column 'F'\n",
        "df['F'] = df['A'] - df['B']\n",
        "print(df['F'])"
      ]
    },
    {
      "cell_type": "code",
      "execution_count": 13,
      "id": "663f5b1a-6138-4191-9406-d49cb32add75",
      "metadata": {
        "colab": {
          "base_uri": "https://localhost:8080/"
        },
        "id": "663f5b1a-6138-4191-9406-d49cb32add75",
        "outputId": "e451336d-3012-4321-823c-3c3cab7ca2f7"
      },
      "outputs": [
        {
          "output_type": "stream",
          "name": "stdout",
          "text": [
            "0   -20\n",
            "1   -18\n",
            "2   -14\n",
            "3    -8\n",
            "Name: G, dtype: int64\n"
          ]
        }
      ],
      "source": [
        "# Multiply columns 'A' and 'B' and store in a new column 'G'\n",
        "df['G'] = df['A'] * df['B']\n",
        "print(df['G'])"
      ]
    },
    {
      "cell_type": "code",
      "execution_count": 15,
      "id": "4060c6d2-c086-46b5-9bea-fab59f29aaba",
      "metadata": {
        "colab": {
          "base_uri": "https://localhost:8080/"
        },
        "id": "4060c6d2-c086-46b5-9bea-fab59f29aaba",
        "outputId": "99b0db75-3c55-4ea5-a9ff-acb5580b4420"
      },
      "outputs": [
        {
          "output_type": "stream",
          "name": "stdout",
          "text": [
            "    A  B   C   E  F    G     H\n",
            "0  11  5   9  16  6   55  True\n",
            "1  12  6  10  18  6   72  True\n",
            "2  13  7  11  20  6   91  True\n",
            "3  14  8  12  22  6  112  True\n"
          ]
        }
      ],
      "source": [
        "# Create DataFrame\n",
        "data = {\n",
        "    'A': [1, 2, 3, 4],\n",
        "    'B': [5, 6, 7, 8],\n",
        "    'C': [9, 10, 11, 12]\n",
        "}\n",
        "df = pd.DataFrame(data)\n",
        "\n",
        "# Row and column selection\n",
        "df_loc = df.loc[0:1, ['A', 'B']]\n",
        "df_iloc = df.iloc[0:2, 0:2]\n",
        "\n",
        "# Conditional selection\n",
        "df_cond = df[df['A'] > 2]\n",
        "\n",
        "# Column addition\n",
        "df['D'] = [13, 14, 15, 16]\n",
        "\n",
        "# Column deletion\n",
        "df.drop('D', axis=1, inplace=True)\n",
        "\n",
        "# Column update\n",
        "df['A'] = df['A'] + 10\n",
        "\n",
        "# Index operations\n",
        "df.set_index('A', inplace=True)\n",
        "df.reset_index(inplace=True)\n",
        "\n",
        "# Operations between columns\n",
        "df['E'] = df['A'] + df['B']\n",
        "df['F'] = df['A'] - df['B']\n",
        "df['G'] = df['A'] * df['B']\n",
        "df['H'] = (df['A'] > 2) | (df['B'] < 7)\n",
        "\n",
        "print(df)"
      ]
    },
    {
      "cell_type": "code",
      "source": [
        "#DataFrames made out of Nested Dictionaries:\n",
        "dict = {'Items':{'pen':10, 'pencil':5, 'eraser':3, 'ruler':15}}\n",
        "\n",
        "df = pd.DataFrame(dict)\n",
        "print(df)"
      ],
      "metadata": {
        "colab": {
          "base_uri": "https://localhost:8080/"
        },
        "id": "mN9yOHh7MXns",
        "outputId": "4316dfd4-2ff1-4b19-d491-0bf72fee348b"
      },
      "id": "mN9yOHh7MXns",
      "execution_count": 17,
      "outputs": [
        {
          "output_type": "stream",
          "name": "stdout",
          "text": [
            "        Items\n",
            "eraser      3\n",
            "pen        10\n",
            "pencil      5\n",
            "ruler      15\n"
          ]
        }
      ]
    }
  ],
  "metadata": {
    "kernelspec": {
      "display_name": "Python 3 (ipykernel)",
      "language": "python",
      "name": "python3"
    },
    "language_info": {
      "codemirror_mode": {
        "name": "ipython",
        "version": 3
      },
      "file_extension": ".py",
      "mimetype": "text/x-python",
      "name": "python",
      "nbconvert_exporter": "python",
      "pygments_lexer": "ipython3",
      "version": "3.11.7"
    },
    "colab": {
      "provenance": []
    }
  },
  "nbformat": 4,
  "nbformat_minor": 5
}