{
 "cells": [
  {
   "cell_type": "code",
   "execution_count": 15,
   "id": "cb06f33d-63ca-492c-a169-eda6832c2fc6",
   "metadata": {},
   "outputs": [],
   "source": [
    "#elif condition : used multiple times to check additional conditions.\n"
   ]
  },
  {
   "cell_type": "code",
   "execution_count": 16,
   "id": "eb57b678-06bb-4f5c-b423-776fc721aa8d",
   "metadata": {},
   "outputs": [],
   "source": [
    "# Condition 1 :code to execute if condition 1 is true.\n",
    "# elif \n",
    "# Condition 2 :code to execute if condition1 is false and condition 2 is true.\n",
    "#elif Condition 3: code to execute if condition1 and condition2 are false, and condition 3 is true.\n",
    "#else: code to execute if all conditions are false."
   ]
  },
  {
   "cell_type": "code",
   "execution_count": 25,
   "id": "bde31df5-c2f4-4ae4-a5ea-b5d8866bd96c",
   "metadata": {},
   "outputs": [
    {
     "name": "stdout",
     "output_type": "stream",
     "text": [
      "The number is positive.\n"
     ]
    }
   ],
   "source": [
    "#Example.1\n",
    "X= 1\n",
    "if X > 0:\n",
    "    print(\"The number is positive.\")\n",
    "elif X > 2: \n",
    "    print(\"The number is greater than 1\")\n"
   ]
  },
  {
   "cell_type": "code",
   "execution_count": 24,
   "id": "ac68e4c8-7427-4b4c-80af-68d9c8c9d55d",
   "metadata": {},
   "outputs": [
    {
     "name": "stdout",
     "output_type": "stream",
     "text": [
      "The number is even.\n"
     ]
    }
   ],
   "source": [
    "#Example.2\n",
    "X= 4\n",
    "if X % 2 == 0:\n",
    "    print(\"The number is even.\")\n",
    "else:\n",
    "    print(\"The number is odd.\")"
   ]
  },
  {
   "cell_type": "code",
   "execution_count": 27,
   "id": "3c6d6f86-af34-4358-bba1-27074b4ea3f6",
   "metadata": {},
   "outputs": [
    {
     "name": "stdout",
     "output_type": "stream",
     "text": [
      "x is less than 9\n"
     ]
    }
   ],
   "source": [
    "#Example.3\n",
    "x=5\n",
    "if x<9:\n",
    "    print (\"x is less than 9\")\n",
    "elif x>3:\n",
    "    print  (\"x is greater than 3\")"
   ]
  },
  {
   "cell_type": "code",
   "execution_count": 29,
   "id": "ebc15c5d-d216-4fb3-9c37-2f81daa5af03",
   "metadata": {},
   "outputs": [
    {
     "name": "stdout",
     "output_type": "stream",
     "text": [
      "x is less than 60\n"
     ]
    }
   ],
   "source": [
    "#Example.4\n",
    "x=56\n",
    "if x<60:\n",
    "    print (\"x is less than 60\")\n",
    "elif x>54:\n",
    "    print  (\"x is greater than 54\")\n",
    "elif x != 55:\n",
    "    print(\"x is not equal to 55\")\n",
    "    "
   ]
  },
  {
   "cell_type": "code",
   "execution_count": 30,
   "id": "25b6459e-a763-4d3b-bc9b-a802faf4d070",
   "metadata": {},
   "outputs": [
    {
     "name": "stdout",
     "output_type": "stream",
     "text": [
      "x is greater than 55\n"
     ]
    }
   ],
   "source": [
    "#Example.5\n",
    "x=65\n",
    "if x<60:\n",
    "    print (\"x is less than 60\")\n",
    "elif x>55:\n",
    "    print  (\"x is greater than 55\")\n",
    "elif x != 65:\n",
    "    print(\"x is not equal to 65\")\n",
    "else:\n",
    "    Print(\"x is equal to 65\")\n"
   ]
  },
  {
   "cell_type": "code",
   "execution_count": 32,
   "id": "36cc3715-2434-4d91-abd0-b34ae10c7993",
   "metadata": {},
   "outputs": [
    {
     "name": "stdout",
     "output_type": "stream",
     "text": [
      "Your grade is: B\n"
     ]
    }
   ],
   "source": [
    "#Example.6 (letter grade based on a numerical score)\n",
    "score = 95\n",
    "if score >= 100:\n",
    "    grade = \"A\"\n",
    "elif score >= 90:\n",
    "    grade = \"B\"\n",
    "elif score >= 80:\n",
    "    grade = \"C\"\n",
    "elif score >= 70:\n",
    "    grade = \"D\"\n",
    "else:\n",
    "    grade = \"F\"\n",
    "print(\"Your grade is:\", grade)"
   ]
  },
  {
   "cell_type": "code",
   "execution_count": 36,
   "id": "1f6431eb-70a3-4511-8947-62513589c2de",
   "metadata": {},
   "outputs": [
    {
     "name": "stdout",
     "output_type": "stream",
     "text": [
      "2000 is a leap year.\n"
     ]
    }
   ],
   "source": [
    "#Example.7 (Checking if a year is a leap year)\n",
    "year = 2000\n",
    "\n",
    "if year % 4 == 0:\n",
    "    if year % 100 == 0:\n",
    "        if year % 400 == 0:\n",
    "            print(year, \"is a leap year.\")\n",
    "        else:\n",
    "            print(year, \"is not a leap year.\")\n",
    "    else:\n",
    "        print(year, \"is a leap year.\")\n",
    "else:\n",
    "    print(year, \"is not a leap year.\")"
   ]
  },
  {
   "cell_type": "code",
   "execution_count": 38,
   "id": "0b0618f4-8d35-4270-a817-cd95c72e2d55",
   "metadata": {},
   "outputs": [
    {
     "name": "stdout",
     "output_type": "stream",
     "text": [
      "The string contains the character w\n"
     ]
    }
   ],
   "source": [
    "#Example.8 (Checking if a string contains a certain character)\n",
    "string = \"hello, world\"\n",
    "char = \"w\"\n",
    "\n",
    "if char in string:\n",
    "    print(\"The string contains the character\", char)\n",
    "else:\n",
    "    print(\"The string does not contain the character\", char)"
   ]
  },
  {
   "cell_type": "code",
   "execution_count": 41,
   "id": "62ecfd97-b5d7-4524-aa22-c2a885486c20",
   "metadata": {},
   "outputs": [
    {
     "name": "stdout",
     "output_type": "stream",
     "text": [
      "2016 is a leap year.\n"
     ]
    }
   ],
   "source": [
    "#Example.9 \n",
    "year = 2016\n",
    "if year % 4 == 0:\n",
    "    if year % 100 == 0:\n",
    "        if year % 400 == 0:\n",
    "            print(year, \"is a leap year.\")\n",
    "        else:\n",
    "            print(year, \"is not a leap year.\")\n",
    "    else:\n",
    "        print(year, \"is a leap year.\")\n",
    "else:\n",
    "    print(year, \"is not a leap year.\")"
   ]
  },
  {
   "cell_type": "code",
   "execution_count": 40,
   "id": "e4bb5807-883f-465c-8ee2-a46bc83b6ba8",
   "metadata": {},
   "outputs": [
    {
     "name": "stdout",
     "output_type": "stream",
     "text": [
      "The string contains the character M\n"
     ]
    }
   ],
   "source": [
    "#Example.10\n",
    "string = \"Apurva, Maithili\"\n",
    "char = \"M\"\n",
    "\n",
    "if char in string:\n",
    "    print(\"The string contains the character\", char)\n",
    "else:\n",
    "    print(\"The string does not contain the character\", char)"
   ]
  }
 ],
 "metadata": {
  "kernelspec": {
   "display_name": "Python 3 (ipykernel)",
   "language": "python",
   "name": "python3"
  },
  "language_info": {
   "codemirror_mode": {
    "name": "ipython",
    "version": 3
   },
   "file_extension": ".py",
   "mimetype": "text/x-python",
   "name": "python",
   "nbconvert_exporter": "python",
   "pygments_lexer": "ipython3",
   "version": "3.11.7"
  }
 },
 "nbformat": 4,
 "nbformat_minor": 5
}
